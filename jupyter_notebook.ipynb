{
 "cells": [
  {
   "cell_type": "markdown",
   "metadata": {},
   "source": [
    "Ссылка на удалённый репозиторий GitHub: https://github.com/Tarakanishche/Forecasting-the-outflow-of-bank-customers.git\n"
   ]
  },
  {
   "cell_type": "markdown",
   "metadata": {
    "toc": true
   },
   "source": [
    "<h1>Содержание<span class=\"tocSkip\"></span></h1>\n",
    "<div class=\"toc\"><ul class=\"toc-item\"><li><span><a href=\"#Подготовка-данных\" data-toc-modified-id=\"Подготовка-данных-1\"><span class=\"toc-item-num\">1&nbsp;&nbsp;</span>Подготовка данных</a></span><ul class=\"toc-item\"><li><span><a href=\"#Выгрузка-датафрейма-и-первичный-анализ-данных\" data-toc-modified-id=\"Выгрузка-датафрейма-и-первичный-анализ-данных-1.1\"><span class=\"toc-item-num\">1.1&nbsp;&nbsp;</span>Выгрузка датафрейма и первичный анализ данных</a></span></li><li><span><a href=\"#Преобразование-типов-данных\" data-toc-modified-id=\"Преобразование-типов-данных-1.2\"><span class=\"toc-item-num\">1.2&nbsp;&nbsp;</span>Преобразование типов данных</a></span></li><li><span><a href=\"#Обработка-пропусков\" data-toc-modified-id=\"Обработка-пропусков-1.3\"><span class=\"toc-item-num\">1.3&nbsp;&nbsp;</span>Обработка пропусков</a></span><ul class=\"toc-item\"><li><span><a href=\"#SimpleImputer-✅\" data-toc-modified-id=\"SimpleImputer-✅-1.3.1\"><span class=\"toc-item-num\">1.3.1&nbsp;&nbsp;</span>SimpleImputer ✅</a></span></li></ul></li></ul></li><li><span><a href=\"#Исследование-задачи\" data-toc-modified-id=\"Исследование-задачи-2\"><span class=\"toc-item-num\">2&nbsp;&nbsp;</span>Исследование задачи</a></span><ul class=\"toc-item\"><li><span><a href=\"#Анализ-баланса-классов\" data-toc-modified-id=\"Анализ-баланса-классов-2.1\"><span class=\"toc-item-num\">2.1&nbsp;&nbsp;</span>Анализ баланса классов</a></span></li></ul></li><li><span><a href=\"#Борьба-с-дисбалансом\" data-toc-modified-id=\"Борьба-с-дисбалансом-3\"><span class=\"toc-item-num\">3&nbsp;&nbsp;</span>Борьба с дисбалансом</a></span><ul class=\"toc-item\"><li><span><a href=\"#Устранение-дисбаланса\" data-toc-modified-id=\"Устранение-дисбаланса-3.1\"><span class=\"toc-item-num\">3.1&nbsp;&nbsp;</span>Устранение дисбаланса</a></span></li><li><span><a href=\"#Обучение-моделей-и-поиск-лучшей\" data-toc-modified-id=\"Обучение-моделей-и-поиск-лучшей-3.2\"><span class=\"toc-item-num\">3.2&nbsp;&nbsp;</span>Обучение моделей и поиск лучшей</a></span><ul class=\"toc-item\"><li><span><a href=\"#RandomForestClassifier-с-пересэмплированными-тренировочными-данными\" data-toc-modified-id=\"RandomForestClassifier-с-пересэмплированными-тренировочными-данными-3.2.1\"><span class=\"toc-item-num\">3.2.1&nbsp;&nbsp;</span>RandomForestClassifier с пересэмплированными тренировочными данными</a></span></li><li><span><a href=\"#RandomForestClassifier-со-взвешиванием-классов\" data-toc-modified-id=\"RandomForestClassifier-со-взвешиванием-классов-3.2.2\"><span class=\"toc-item-num\">3.2.2&nbsp;&nbsp;</span>RandomForestClassifier со взвешиванием классов</a></span></li></ul></li></ul></li><li><span><a href=\"#Тестирование-модели\" data-toc-modified-id=\"Тестирование-модели-4\"><span class=\"toc-item-num\">4&nbsp;&nbsp;</span>Тестирование модели</a></span></li><li><span><a href=\"#Чек-лист-готовности-проекта\" data-toc-modified-id=\"Чек-лист-готовности-проекта-5\"><span class=\"toc-item-num\">5&nbsp;&nbsp;</span>Чек-лист готовности проекта</a></span></li></ul></div>"
   ]
  },
  {
   "cell_type": "markdown",
   "metadata": {},
   "source": [
    "# Отток клиентов"
   ]
  },
  {
   "cell_type": "markdown",
   "metadata": {},
   "source": [
    "Из «Бета-Банка» стали уходить клиенты. Каждый месяц. Немного, но заметно. Банковские маркетологи посчитали: сохранять текущих клиентов дешевле, чем привлекать новых.\n",
    "\n",
    "Нужно спрогнозировать, уйдёт клиент из банка в ближайшее время или нет. Вам предоставлены исторические данные о поведении клиентов и расторжении договоров с банком. \n",
    "\n",
    "Построим модель с предельно большим значением *F1*-меры. \n",
    "\n",
    "Дополнительно будем измерять *AUC-ROC*, сравнивать её значение с *F1*-мерой.\n",
    "\n",
    "Источник данных: [https://www.kaggle.com/barelydedicated/bank-customer-churn-modeling](https://www.kaggle.com/barelydedicated/bank-customer-churn-modeling)"
   ]
  },
  {
   "cell_type": "markdown",
   "metadata": {},
   "source": [
    "---"
   ]
  },
  {
   "cell_type": "markdown",
   "metadata": {},
   "source": [
    "## Подготовка данных"
   ]
  },
  {
   "cell_type": "markdown",
   "metadata": {},
   "source": [
    "### Выгрузка датафрейма и первичный анализ данных"
   ]
  },
  {
   "cell_type": "code",
   "execution_count": 1,
   "metadata": {},
   "outputs": [],
   "source": [
    "import pandas as pd\n",
    "import matplotlib.pyplot as plt\n",
    "\n",
    "from sklearn.preprocessing import OneHotEncoder\n",
    "\n",
    "from sklearn.impute import SimpleImputer, KNNImputer\n",
    "\n",
    "from sklearn.model_selection import train_test_split \n",
    "from sklearn.utils import shuffle\n",
    "from sklearn.preprocessing import StandardScaler\n",
    "\n",
    "from sklearn.ensemble import RandomForestRegressor, RandomForestClassifier\n",
    "from sklearn.neighbors import KNeighborsRegressor\n",
    "from sklearn.linear_model import LogisticRegression\n",
    "\n",
    "from sklearn.metrics import r2_score, f1_score, roc_curve, roc_auc_score\n",
    "\n",
    "import warnings"
   ]
  },
  {
   "cell_type": "code",
   "execution_count": 2,
   "metadata": {
    "scrolled": false
   },
   "outputs": [
    {
     "name": "stdout",
     "output_type": "stream",
     "text": [
      "<class 'pandas.core.frame.DataFrame'>\n",
      "RangeIndex: 10000 entries, 0 to 9999\n",
      "Data columns (total 11 columns):\n",
      " #   Column           Non-Null Count  Dtype  \n",
      "---  ------           --------------  -----  \n",
      " 0   CreditScore      10000 non-null  int64  \n",
      " 1   Geography        10000 non-null  object \n",
      " 2   Gender           10000 non-null  object \n",
      " 3   Age              10000 non-null  int64  \n",
      " 4   Tenure           9091 non-null   float64\n",
      " 5   Balance          10000 non-null  float64\n",
      " 6   NumOfProducts    10000 non-null  int64  \n",
      " 7   HasCrCard        10000 non-null  int64  \n",
      " 8   IsActiveMember   10000 non-null  int64  \n",
      " 9   EstimatedSalary  10000 non-null  float64\n",
      " 10  Exited           10000 non-null  int64  \n",
      "dtypes: float64(3), int64(6), object(2)\n",
      "memory usage: 859.5+ KB\n"
     ]
    },
    {
     "data": {
      "text/plain": [
       "None"
      ]
     },
     "metadata": {},
     "output_type": "display_data"
    },
    {
     "data": {
      "text/html": [
       "<div>\n",
       "<style scoped>\n",
       "    .dataframe tbody tr th:only-of-type {\n",
       "        vertical-align: middle;\n",
       "    }\n",
       "\n",
       "    .dataframe tbody tr th {\n",
       "        vertical-align: top;\n",
       "    }\n",
       "\n",
       "    .dataframe thead th {\n",
       "        text-align: right;\n",
       "    }\n",
       "</style>\n",
       "<table border=\"1\" class=\"dataframe\">\n",
       "  <thead>\n",
       "    <tr style=\"text-align: right;\">\n",
       "      <th></th>\n",
       "      <th>CreditScore</th>\n",
       "      <th>Geography</th>\n",
       "      <th>Gender</th>\n",
       "      <th>Age</th>\n",
       "      <th>Tenure</th>\n",
       "      <th>Balance</th>\n",
       "      <th>NumOfProducts</th>\n",
       "      <th>HasCrCard</th>\n",
       "      <th>IsActiveMember</th>\n",
       "      <th>EstimatedSalary</th>\n",
       "      <th>Exited</th>\n",
       "    </tr>\n",
       "  </thead>\n",
       "  <tbody>\n",
       "    <tr>\n",
       "      <th>0</th>\n",
       "      <td>619</td>\n",
       "      <td>France</td>\n",
       "      <td>Female</td>\n",
       "      <td>42</td>\n",
       "      <td>2.0</td>\n",
       "      <td>0.00</td>\n",
       "      <td>1</td>\n",
       "      <td>1</td>\n",
       "      <td>1</td>\n",
       "      <td>101348.88</td>\n",
       "      <td>1</td>\n",
       "    </tr>\n",
       "    <tr>\n",
       "      <th>1</th>\n",
       "      <td>608</td>\n",
       "      <td>Spain</td>\n",
       "      <td>Female</td>\n",
       "      <td>41</td>\n",
       "      <td>1.0</td>\n",
       "      <td>83807.86</td>\n",
       "      <td>1</td>\n",
       "      <td>0</td>\n",
       "      <td>1</td>\n",
       "      <td>112542.58</td>\n",
       "      <td>0</td>\n",
       "    </tr>\n",
       "    <tr>\n",
       "      <th>2</th>\n",
       "      <td>502</td>\n",
       "      <td>France</td>\n",
       "      <td>Female</td>\n",
       "      <td>42</td>\n",
       "      <td>8.0</td>\n",
       "      <td>159660.80</td>\n",
       "      <td>3</td>\n",
       "      <td>1</td>\n",
       "      <td>0</td>\n",
       "      <td>113931.57</td>\n",
       "      <td>1</td>\n",
       "    </tr>\n",
       "    <tr>\n",
       "      <th>3</th>\n",
       "      <td>699</td>\n",
       "      <td>France</td>\n",
       "      <td>Female</td>\n",
       "      <td>39</td>\n",
       "      <td>1.0</td>\n",
       "      <td>0.00</td>\n",
       "      <td>2</td>\n",
       "      <td>0</td>\n",
       "      <td>0</td>\n",
       "      <td>93826.63</td>\n",
       "      <td>0</td>\n",
       "    </tr>\n",
       "    <tr>\n",
       "      <th>4</th>\n",
       "      <td>850</td>\n",
       "      <td>Spain</td>\n",
       "      <td>Female</td>\n",
       "      <td>43</td>\n",
       "      <td>2.0</td>\n",
       "      <td>125510.82</td>\n",
       "      <td>1</td>\n",
       "      <td>1</td>\n",
       "      <td>1</td>\n",
       "      <td>79084.10</td>\n",
       "      <td>0</td>\n",
       "    </tr>\n",
       "    <tr>\n",
       "      <th>5</th>\n",
       "      <td>645</td>\n",
       "      <td>Spain</td>\n",
       "      <td>Male</td>\n",
       "      <td>44</td>\n",
       "      <td>8.0</td>\n",
       "      <td>113755.78</td>\n",
       "      <td>2</td>\n",
       "      <td>1</td>\n",
       "      <td>0</td>\n",
       "      <td>149756.71</td>\n",
       "      <td>1</td>\n",
       "    </tr>\n",
       "    <tr>\n",
       "      <th>6</th>\n",
       "      <td>822</td>\n",
       "      <td>France</td>\n",
       "      <td>Male</td>\n",
       "      <td>50</td>\n",
       "      <td>7.0</td>\n",
       "      <td>0.00</td>\n",
       "      <td>2</td>\n",
       "      <td>1</td>\n",
       "      <td>1</td>\n",
       "      <td>10062.80</td>\n",
       "      <td>0</td>\n",
       "    </tr>\n",
       "    <tr>\n",
       "      <th>7</th>\n",
       "      <td>376</td>\n",
       "      <td>Germany</td>\n",
       "      <td>Female</td>\n",
       "      <td>29</td>\n",
       "      <td>4.0</td>\n",
       "      <td>115046.74</td>\n",
       "      <td>4</td>\n",
       "      <td>1</td>\n",
       "      <td>0</td>\n",
       "      <td>119346.88</td>\n",
       "      <td>1</td>\n",
       "    </tr>\n",
       "    <tr>\n",
       "      <th>8</th>\n",
       "      <td>501</td>\n",
       "      <td>France</td>\n",
       "      <td>Male</td>\n",
       "      <td>44</td>\n",
       "      <td>4.0</td>\n",
       "      <td>142051.07</td>\n",
       "      <td>2</td>\n",
       "      <td>0</td>\n",
       "      <td>1</td>\n",
       "      <td>74940.50</td>\n",
       "      <td>0</td>\n",
       "    </tr>\n",
       "    <tr>\n",
       "      <th>9</th>\n",
       "      <td>684</td>\n",
       "      <td>France</td>\n",
       "      <td>Male</td>\n",
       "      <td>27</td>\n",
       "      <td>2.0</td>\n",
       "      <td>134603.88</td>\n",
       "      <td>1</td>\n",
       "      <td>1</td>\n",
       "      <td>1</td>\n",
       "      <td>71725.73</td>\n",
       "      <td>0</td>\n",
       "    </tr>\n",
       "  </tbody>\n",
       "</table>\n",
       "</div>"
      ],
      "text/plain": [
       "   CreditScore Geography  Gender  Age  Tenure    Balance  NumOfProducts  \\\n",
       "0          619    France  Female   42     2.0       0.00              1   \n",
       "1          608     Spain  Female   41     1.0   83807.86              1   \n",
       "2          502    France  Female   42     8.0  159660.80              3   \n",
       "3          699    France  Female   39     1.0       0.00              2   \n",
       "4          850     Spain  Female   43     2.0  125510.82              1   \n",
       "5          645     Spain    Male   44     8.0  113755.78              2   \n",
       "6          822    France    Male   50     7.0       0.00              2   \n",
       "7          376   Germany  Female   29     4.0  115046.74              4   \n",
       "8          501    France    Male   44     4.0  142051.07              2   \n",
       "9          684    France    Male   27     2.0  134603.88              1   \n",
       "\n",
       "   HasCrCard  IsActiveMember  EstimatedSalary  Exited  \n",
       "0          1               1        101348.88       1  \n",
       "1          0               1        112542.58       0  \n",
       "2          1               0        113931.57       1  \n",
       "3          0               0         93826.63       0  \n",
       "4          1               1         79084.10       0  \n",
       "5          1               0        149756.71       1  \n",
       "6          1               1         10062.80       0  \n",
       "7          1               0        119346.88       1  \n",
       "8          0               1         74940.50       0  \n",
       "9          1               1         71725.73       0  "
      ]
     },
     "metadata": {},
     "output_type": "display_data"
    },
    {
     "data": {
      "text/plain": [
       "(10000, 11)"
      ]
     },
     "metadata": {},
     "output_type": "display_data"
    }
   ],
   "source": [
    "data = pd.read_csv('dataset.csv', index_col=0) #импортируем датафрейм и удалим столбец с индексами строк\n",
    "data.reset_index(drop=True, inplace=True) #обновим индексы\n",
    "data = data.drop(['CustomerId', 'Surname'], axis=1) #удалим ненужные для обучения столбцы\n",
    "display(data.info(), data.head(10), data.shape)"
   ]
  },
  {
   "cell_type": "markdown",
   "metadata": {},
   "source": [
    "----"
   ]
  },
  {
   "cell_type": "markdown",
   "metadata": {},
   "source": [
    "### Преобразование типов данных "
   ]
  },
  {
   "cell_type": "markdown",
   "metadata": {},
   "source": [
    "В столбцах `Geography`, `Gender` содержаться категориальные значения, а в `HasCrCard`, `IsActiveMember`, `Exited` - булев тип данных. Преобразуем вышеупомянутые столбы."
   ]
  },
  {
   "cell_type": "code",
   "execution_count": 3,
   "metadata": {
    "scrolled": true
   },
   "outputs": [
    {
     "name": "stdout",
     "output_type": "stream",
     "text": [
      "<class 'pandas.core.frame.DataFrame'>\n",
      "RangeIndex: 10000 entries, 0 to 9999\n",
      "Data columns (total 11 columns):\n",
      " #   Column           Non-Null Count  Dtype   \n",
      "---  ------           --------------  -----   \n",
      " 0   CreditScore      10000 non-null  int64   \n",
      " 1   Geography        10000 non-null  category\n",
      " 2   Gender           10000 non-null  category\n",
      " 3   Age              10000 non-null  int64   \n",
      " 4   Tenure           9091 non-null   float64 \n",
      " 5   Balance          10000 non-null  float64 \n",
      " 6   NumOfProducts    10000 non-null  int64   \n",
      " 7   HasCrCard        10000 non-null  bool    \n",
      " 8   IsActiveMember   10000 non-null  bool    \n",
      " 9   EstimatedSalary  10000 non-null  float64 \n",
      " 10  Exited           10000 non-null  bool    \n",
      "dtypes: bool(3), category(2), float64(3), int64(3)\n",
      "memory usage: 518.0 KB\n"
     ]
    }
   ],
   "source": [
    "#преобразуем типы данных\n",
    "data = data.astype({ \n",
    "    'Geography' : 'category', 'Gender' : 'category', \n",
    "    'HasCrCard' : 'bool', 'IsActiveMember' : 'bool', 'Exited' : 'bool'\n",
    "})\n",
    "data.info()"
   ]
  },
  {
   "cell_type": "markdown",
   "metadata": {},
   "source": [
    "---"
   ]
  },
  {
   "cell_type": "markdown",
   "metadata": {},
   "source": [
    "### Обработка пропусков"
   ]
  },
  {
   "cell_type": "code",
   "execution_count": 4,
   "metadata": {},
   "outputs": [
    {
     "data": {
      "text/html": [
       "<div>\n",
       "<style scoped>\n",
       "    .dataframe tbody tr th:only-of-type {\n",
       "        vertical-align: middle;\n",
       "    }\n",
       "\n",
       "    .dataframe tbody tr th {\n",
       "        vertical-align: top;\n",
       "    }\n",
       "\n",
       "    .dataframe thead th {\n",
       "        text-align: right;\n",
       "    }\n",
       "</style>\n",
       "<table border=\"1\" class=\"dataframe\">\n",
       "  <thead>\n",
       "    <tr style=\"text-align: right;\">\n",
       "      <th></th>\n",
       "      <th>CreditScore</th>\n",
       "      <th>Age</th>\n",
       "      <th>Tenure</th>\n",
       "      <th>Balance</th>\n",
       "      <th>NumOfProducts</th>\n",
       "      <th>HasCrCard</th>\n",
       "      <th>IsActiveMember</th>\n",
       "      <th>EstimatedSalary</th>\n",
       "      <th>Exited</th>\n",
       "      <th>Gender_Male</th>\n",
       "      <th>Geography_Germany</th>\n",
       "      <th>Geography_Spain</th>\n",
       "    </tr>\n",
       "  </thead>\n",
       "  <tbody>\n",
       "    <tr>\n",
       "      <th>0</th>\n",
       "      <td>619</td>\n",
       "      <td>42</td>\n",
       "      <td>2.0</td>\n",
       "      <td>0.00</td>\n",
       "      <td>1</td>\n",
       "      <td>True</td>\n",
       "      <td>True</td>\n",
       "      <td>101348.88</td>\n",
       "      <td>True</td>\n",
       "      <td>0.0</td>\n",
       "      <td>0.0</td>\n",
       "      <td>0.0</td>\n",
       "    </tr>\n",
       "    <tr>\n",
       "      <th>1</th>\n",
       "      <td>608</td>\n",
       "      <td>41</td>\n",
       "      <td>1.0</td>\n",
       "      <td>83807.86</td>\n",
       "      <td>1</td>\n",
       "      <td>False</td>\n",
       "      <td>True</td>\n",
       "      <td>112542.58</td>\n",
       "      <td>False</td>\n",
       "      <td>0.0</td>\n",
       "      <td>0.0</td>\n",
       "      <td>1.0</td>\n",
       "    </tr>\n",
       "    <tr>\n",
       "      <th>2</th>\n",
       "      <td>502</td>\n",
       "      <td>42</td>\n",
       "      <td>8.0</td>\n",
       "      <td>159660.80</td>\n",
       "      <td>3</td>\n",
       "      <td>True</td>\n",
       "      <td>False</td>\n",
       "      <td>113931.57</td>\n",
       "      <td>True</td>\n",
       "      <td>0.0</td>\n",
       "      <td>0.0</td>\n",
       "      <td>0.0</td>\n",
       "    </tr>\n",
       "    <tr>\n",
       "      <th>3</th>\n",
       "      <td>699</td>\n",
       "      <td>39</td>\n",
       "      <td>1.0</td>\n",
       "      <td>0.00</td>\n",
       "      <td>2</td>\n",
       "      <td>False</td>\n",
       "      <td>False</td>\n",
       "      <td>93826.63</td>\n",
       "      <td>False</td>\n",
       "      <td>0.0</td>\n",
       "      <td>0.0</td>\n",
       "      <td>0.0</td>\n",
       "    </tr>\n",
       "    <tr>\n",
       "      <th>4</th>\n",
       "      <td>850</td>\n",
       "      <td>43</td>\n",
       "      <td>2.0</td>\n",
       "      <td>125510.82</td>\n",
       "      <td>1</td>\n",
       "      <td>True</td>\n",
       "      <td>True</td>\n",
       "      <td>79084.10</td>\n",
       "      <td>False</td>\n",
       "      <td>0.0</td>\n",
       "      <td>0.0</td>\n",
       "      <td>1.0</td>\n",
       "    </tr>\n",
       "    <tr>\n",
       "      <th>5</th>\n",
       "      <td>645</td>\n",
       "      <td>44</td>\n",
       "      <td>8.0</td>\n",
       "      <td>113755.78</td>\n",
       "      <td>2</td>\n",
       "      <td>True</td>\n",
       "      <td>False</td>\n",
       "      <td>149756.71</td>\n",
       "      <td>True</td>\n",
       "      <td>1.0</td>\n",
       "      <td>0.0</td>\n",
       "      <td>1.0</td>\n",
       "    </tr>\n",
       "    <tr>\n",
       "      <th>6</th>\n",
       "      <td>822</td>\n",
       "      <td>50</td>\n",
       "      <td>7.0</td>\n",
       "      <td>0.00</td>\n",
       "      <td>2</td>\n",
       "      <td>True</td>\n",
       "      <td>True</td>\n",
       "      <td>10062.80</td>\n",
       "      <td>False</td>\n",
       "      <td>1.0</td>\n",
       "      <td>0.0</td>\n",
       "      <td>0.0</td>\n",
       "    </tr>\n",
       "    <tr>\n",
       "      <th>7</th>\n",
       "      <td>376</td>\n",
       "      <td>29</td>\n",
       "      <td>4.0</td>\n",
       "      <td>115046.74</td>\n",
       "      <td>4</td>\n",
       "      <td>True</td>\n",
       "      <td>False</td>\n",
       "      <td>119346.88</td>\n",
       "      <td>True</td>\n",
       "      <td>0.0</td>\n",
       "      <td>1.0</td>\n",
       "      <td>0.0</td>\n",
       "    </tr>\n",
       "    <tr>\n",
       "      <th>8</th>\n",
       "      <td>501</td>\n",
       "      <td>44</td>\n",
       "      <td>4.0</td>\n",
       "      <td>142051.07</td>\n",
       "      <td>2</td>\n",
       "      <td>False</td>\n",
       "      <td>True</td>\n",
       "      <td>74940.50</td>\n",
       "      <td>False</td>\n",
       "      <td>1.0</td>\n",
       "      <td>0.0</td>\n",
       "      <td>0.0</td>\n",
       "    </tr>\n",
       "    <tr>\n",
       "      <th>9</th>\n",
       "      <td>684</td>\n",
       "      <td>27</td>\n",
       "      <td>2.0</td>\n",
       "      <td>134603.88</td>\n",
       "      <td>1</td>\n",
       "      <td>True</td>\n",
       "      <td>True</td>\n",
       "      <td>71725.73</td>\n",
       "      <td>False</td>\n",
       "      <td>1.0</td>\n",
       "      <td>0.0</td>\n",
       "      <td>0.0</td>\n",
       "    </tr>\n",
       "  </tbody>\n",
       "</table>\n",
       "</div>"
      ],
      "text/plain": [
       "   CreditScore  Age  Tenure    Balance  NumOfProducts  HasCrCard  \\\n",
       "0          619   42     2.0       0.00              1       True   \n",
       "1          608   41     1.0   83807.86              1      False   \n",
       "2          502   42     8.0  159660.80              3       True   \n",
       "3          699   39     1.0       0.00              2      False   \n",
       "4          850   43     2.0  125510.82              1       True   \n",
       "5          645   44     8.0  113755.78              2       True   \n",
       "6          822   50     7.0       0.00              2       True   \n",
       "7          376   29     4.0  115046.74              4       True   \n",
       "8          501   44     4.0  142051.07              2      False   \n",
       "9          684   27     2.0  134603.88              1       True   \n",
       "\n",
       "   IsActiveMember  EstimatedSalary  Exited  Gender_Male  Geography_Germany  \\\n",
       "0            True        101348.88    True          0.0                0.0   \n",
       "1            True        112542.58   False          0.0                0.0   \n",
       "2           False        113931.57    True          0.0                0.0   \n",
       "3           False         93826.63   False          0.0                0.0   \n",
       "4            True         79084.10   False          0.0                0.0   \n",
       "5           False        149756.71    True          1.0                0.0   \n",
       "6            True         10062.80   False          1.0                0.0   \n",
       "7           False        119346.88    True          0.0                1.0   \n",
       "8            True         74940.50   False          1.0                0.0   \n",
       "9            True         71725.73   False          1.0                0.0   \n",
       "\n",
       "   Geography_Spain  \n",
       "0              0.0  \n",
       "1              1.0  \n",
       "2              0.0  \n",
       "3              0.0  \n",
       "4              1.0  \n",
       "5              1.0  \n",
       "6              0.0  \n",
       "7              0.0  \n",
       "8              0.0  \n",
       "9              0.0  "
      ]
     },
     "metadata": {},
     "output_type": "display_data"
    }
   ],
   "source": [
    "columns_to_encode = ['Gender', 'Geography'] #колонки, которые кодируем\n",
    "\n",
    "encoder = OneHotEncoder(drop='first', sparse=False)\n",
    "encoded_data = encoder.fit_transform(data[columns_to_encode])\n",
    "\n",
    "encoded_feature_names = encoder.get_feature_names(columns_to_encode)\n",
    "encoded_df = pd.DataFrame(encoded_data, columns=encoded_feature_names)\n",
    "\n",
    "data.drop(columns_to_encode, axis=1, inplace=True) #удалим наши колонки, над которыми делали преобразования\n",
    "data = pd.concat([data, encoded_df], axis=1)\n",
    "\n",
    "display(data.head(10))"
   ]
  },
  {
   "cell_type": "markdown",
   "metadata": {},
   "source": [
    "---"
   ]
  },
  {
   "cell_type": "markdown",
   "metadata": {},
   "source": [
    "#### SimpleImputer ✅"
   ]
  },
  {
   "cell_type": "markdown",
   "metadata": {},
   "source": [
    "- В столбце `Tenure` имеются пропуски можно заполнить их медианными значениями, дабы избежать влияния выбросов по годам и получения целочисленного значения."
   ]
  },
  {
   "cell_type": "code",
   "execution_count": 5,
   "metadata": {},
   "outputs": [
    {
     "data": {
      "text/plain": [
       "CreditScore          0\n",
       "Age                  0\n",
       "Tenure               0\n",
       "Balance              0\n",
       "NumOfProducts        0\n",
       "HasCrCard            0\n",
       "IsActiveMember       0\n",
       "EstimatedSalary      0\n",
       "Exited               0\n",
       "Gender_Male          0\n",
       "Geography_Germany    0\n",
       "Geography_Spain      0\n",
       "dtype: int64"
      ]
     },
     "metadata": {},
     "output_type": "display_data"
    },
    {
     "data": {
      "text/plain": [
       "array([ 2.,  1.,  8.,  7.,  4.,  6.,  3., 10.,  5.,  9.,  0.])"
      ]
     },
     "metadata": {},
     "output_type": "display_data"
    }
   ],
   "source": [
    "simple_imputer = SimpleImputer(strategy='median')\n",
    "data['Tenure'] = simple_imputer.fit_transform(data[['Tenure']])\n",
    "\n",
    "display(data.isna().sum()) #проверим заполнились ли пропуски\n",
    "display(data.Tenure.unique()) #посмотрим на значения колонки"
   ]
  },
  {
   "cell_type": "code",
   "execution_count": 6,
   "metadata": {},
   "outputs": [
    {
     "data": {
      "text/plain": [
       "CreditScore            int64\n",
       "Age                    int64\n",
       "Tenure                 int32\n",
       "Balance              float64\n",
       "NumOfProducts          int64\n",
       "HasCrCard               bool\n",
       "IsActiveMember          bool\n",
       "EstimatedSalary      float64\n",
       "Exited                  bool\n",
       "Gender_Male            int32\n",
       "Geography_Germany      int32\n",
       "Geography_Spain        int32\n",
       "dtype: object"
      ]
     },
     "metadata": {},
     "output_type": "display_data"
    },
    {
     "data": {
      "text/plain": [
       "array([ 2,  1,  8,  7,  4,  6,  3, 10,  5,  9,  0])"
      ]
     },
     "metadata": {},
     "output_type": "display_data"
    },
    {
     "data": {
      "text/plain": [
       "5     1836\n",
       "1      952\n",
       "2      950\n",
       "8      933\n",
       "3      928\n",
       "7      925\n",
       "4      885\n",
       "9      882\n",
       "6      881\n",
       "10     446\n",
       "0      382\n",
       "Name: Tenure, dtype: int64"
      ]
     },
     "metadata": {},
     "output_type": "display_data"
    }
   ],
   "source": [
    "data = data.astype({\n",
    "    'Tenure' : 'int', 'Gender_Male' : 'int', 'Geography_Germany' : 'int', 'Geography_Spain' : 'int'\n",
    "}) #так как все значения целочисленные, выполним преобразование типа колонки\n",
    "\n",
    "display(data.dtypes) #проверим корректность внесенных изменений\n",
    "display(data.Tenure.unique(), data.Tenure.value_counts())"
   ]
  },
  {
   "cell_type": "markdown",
   "metadata": {},
   "source": [
    "---"
   ]
  },
  {
   "cell_type": "markdown",
   "metadata": {},
   "source": [
    "## Исследование задачи"
   ]
  },
  {
   "cell_type": "markdown",
   "metadata": {},
   "source": [
    "### Анализ баланса классов"
   ]
  },
  {
   "cell_type": "code",
   "execution_count": 7,
   "metadata": {},
   "outputs": [
    {
     "data": {
      "text/plain": [
       "False    7963\n",
       "True     2037\n",
       "Name: Exited, dtype: int64"
      ]
     },
     "execution_count": 7,
     "metadata": {},
     "output_type": "execute_result"
    }
   ],
   "source": [
    "data.Exited.value_counts() #посмотрим как распределены классы в целевом признаке"
   ]
  },
  {
   "cell_type": "markdown",
   "metadata": {},
   "source": [
    "- Очевидно, что в классах присутствует дисбаланс, учитывая небольшие размеры выборки, мы можем применить `upsampling` или взвешивание классов. \n",
    "- В случае, `upsampling` меньший класс \"продублируем\" 4 раза, так как именно такая разница в количестве у двух категорий. \n",
    "- Этим займемся в следующем разделе."
   ]
  },
  {
   "cell_type": "markdown",
   "metadata": {},
   "source": [
    "---"
   ]
  },
  {
   "cell_type": "markdown",
   "metadata": {},
   "source": [
    "## Борьба с дисбалансом"
   ]
  },
  {
   "cell_type": "code",
   "execution_count": 8,
   "metadata": {},
   "outputs": [],
   "source": [
    "warnings.filterwarnings(\"ignore\")\n",
    "\n",
    "target = data['Exited']\n",
    "features = data.drop('Exited', axis=1)\n",
    "\n",
    "#поделим данные на две группы (в пропорции 3 к 2): train и (validation and test)\n",
    "X_train, X_val_test, y_train, y_val_test = train_test_split(\n",
    "    features, target, random_state=12345, test_size=0.4, stratify=target #используем параметр stratify, \n",
    ")                                                                        #чтобы категории были равномерно распределены\n",
    "\n",
    "#разделим последнюю группу на валидационную и тестовую (в пропорции 1:1)\n",
    "X_val, X_test, y_val, y_test = train_test_split(\n",
    "    X_val_test, y_val_test, random_state=12345, test_size=0.5, stratify=y_val_test #используем параметр stratify, \n",
    "                                                                                   #чтобы категории были равномерно распределены\n",
    ")\n",
    "\n",
    "numeric = ['CreditScore', 'Age', 'Tenure', 'Balance', 'NumOfProducts', 'EstimatedSalary']\n",
    "scaler = StandardScaler()\n",
    "scaler.fit(X_train[numeric])\n",
    "X_train[numeric] = scaler.transform(X_train[numeric])\n",
    "X_val[numeric] = scaler.transform(X_val[numeric])\n",
    "X_test[numeric] = scaler.transform(X_test[numeric])"
   ]
  },
  {
   "cell_type": "code",
   "execution_count": 9,
   "metadata": {},
   "outputs": [],
   "source": [
    "def auc_roc(model, X, y): #напишем функцию для расчета AUC_ROC метрики\n",
    "    probabilities_valid = model.predict_proba(X)\n",
    "    probabilities_one_valid = probabilities_valid[:, 1]\n",
    "\n",
    "    auc_roc = roc_auc_score(y, probabilities_one_valid)\n",
    "    print(f'AUC_ROC нашей модели: {auc_roc:.2f}')"
   ]
  },
  {
   "cell_type": "code",
   "execution_count": 10,
   "metadata": {},
   "outputs": [],
   "source": [
    "def roc(model, X, y): #напишем функцию для построения ROC-кривой\n",
    "    probabilities_valid = model.predict_proba(X)\n",
    "    probabilities_one_valid = probabilities_valid[:, 1]\n",
    "    \n",
    "    fpr, tpr, thresholds = roc_curve(y, probabilities_one_valid)\n",
    "\n",
    "    plt.figure()\n",
    "\n",
    "    plt.plot(fpr, tpr)\n",
    "    plt.plot([0, 1], [0, 1], linestyle='--')\n",
    "\n",
    "    plt.xlim(0, 1)\n",
    "    plt.ylim(0, 1)\n",
    "\n",
    "    plt.xlabel('False Positive Rate')\n",
    "    plt.ylabel('True Positive Rate')\n",
    "\n",
    "    plt.title(\"ROC-кривая\")\n",
    "    plt.show()"
   ]
  },
  {
   "cell_type": "markdown",
   "metadata": {},
   "source": [
    "---"
   ]
  },
  {
   "cell_type": "markdown",
   "metadata": {},
   "source": [
    "### Устранение дисбаланса"
   ]
  },
  {
   "cell_type": "code",
   "execution_count": 11,
   "metadata": {},
   "outputs": [],
   "source": [
    "def upsample(features, target, repeat):\n",
    "    features_zeros = features[target == 0]\n",
    "    features_ones = features[target == 1]\n",
    "    target_zeros = target[target == 0]\n",
    "    target_ones = target[target == 1]\n",
    "\n",
    "    features_upsampled = pd.concat([features_zeros] + [features_ones] * repeat)\n",
    "    target_upsampled = pd.concat([target_zeros] + [target_ones] * repeat)\n",
    "    \n",
    "    features_upsampled, target_upsampled = shuffle(\n",
    "        features_upsampled, target_upsampled, random_state=12345)\n",
    "    \n",
    "    return features_upsampled, target_upsampled"
   ]
  },
  {
   "cell_type": "code",
   "execution_count": 12,
   "metadata": {},
   "outputs": [],
   "source": [
    "X_train_upsampled, y_train_upsampled = upsample(X_train, y_train, 4)"
   ]
  },
  {
   "cell_type": "markdown",
   "metadata": {},
   "source": [
    "---"
   ]
  },
  {
   "cell_type": "markdown",
   "metadata": {},
   "source": [
    "### Обучение моделей и поиск лучшей"
   ]
  },
  {
   "cell_type": "markdown",
   "metadata": {},
   "source": [
    "#### RandomForestClassifier с пересэмплированными тренировочными данными"
   ]
  },
  {
   "cell_type": "markdown",
   "metadata": {},
   "source": [
    "*Небольшое замечание*: мы не рассматриваем дерево решений по той причине, что объем данных, с которыми нам необходимо работать, не очень большой, поэтому лучше всего будет сразу применять `RandomForestClassifier` для получения наиболее лучшей модели."
   ]
  },
  {
   "cell_type": "code",
   "execution_count": 13,
   "metadata": {},
   "outputs": [
    {
     "name": "stdout",
     "output_type": "stream",
     "text": [
      "0.6531483457844184 9 50\n"
     ]
    }
   ],
   "source": [
    "best_model = None\n",
    "best_depth = 1\n",
    "best_n_estimators = 10\n",
    "best_f1_score = 0\n",
    "\n",
    "for depth in range(1, 20, 1):\n",
    "    for n_est in range(10, 60, 10):\n",
    "        model = RandomForestClassifier(max_depth=depth, n_estimators=n_est, random_state=12345)\n",
    "        model.fit(X_train_upsampled, y_train_upsampled)\n",
    "        \n",
    "        predictions = model.predict(X_val)\n",
    "        f1_score_val = f1_score(y_val, predictions)\n",
    "        \n",
    "        if f1_score_val > best_f1_score:\n",
    "            best_model = model\n",
    "            best_f1_score = f1_score_val\n",
    "            best_depth = depth\n",
    "            best_n_estimators = n_est\n",
    "\n",
    "print(best_f1_score, best_depth, best_n_estimators)"
   ]
  },
  {
   "cell_type": "code",
   "execution_count": 14,
   "metadata": {},
   "outputs": [
    {
     "name": "stdout",
     "output_type": "stream",
     "text": [
      "F1_score RandomForestClassifier с учетом дисбаланса классов: 0.65\n",
      "AUC_ROC нашей модели: 0.87\n"
     ]
    }
   ],
   "source": [
    "print(f'F1_score RandomForestClassifier с учетом дисбаланса классов: {best_f1_score:.2f}')\n",
    "auc_roc(best_model, X_val, y_val)"
   ]
  },
  {
   "cell_type": "markdown",
   "metadata": {},
   "source": [
    "#### RandomForestClassifier со взвешиванием классов"
   ]
  },
  {
   "cell_type": "code",
   "execution_count": 16,
   "metadata": {},
   "outputs": [
    {
     "name": "stdout",
     "output_type": "stream",
     "text": [
      "0.6458333333333334 9 40\n"
     ]
    }
   ],
   "source": [
    "best_model_weight = None\n",
    "best_depth = 1\n",
    "best_n_estimators = 10\n",
    "best_f1_score_weight = 0\n",
    "\n",
    "\n",
    "for depth in range(1, 20, 1):\n",
    "    for n_est in range(10, 60, 10):\n",
    "        model = RandomForestClassifier(max_depth=depth, n_estimators=n_est, random_state=12345, class_weight='balanced')\n",
    "        model.fit(X_train, y_train)\n",
    "        \n",
    "        predictions = model.predict(X_val)\n",
    "        f1_score_val = f1_score(y_val, predictions)\n",
    "        \n",
    "        if f1_score_val > best_f1_score_weight:\n",
    "            best_model_weight = model\n",
    "            best_f1_score_weight = f1_score_val\n",
    "            best_depth = depth\n",
    "            best_n_estimators = n_est\n",
    "\n",
    "print(best_f1_score_weight, best_depth, best_n_estimators)"
   ]
  },
  {
   "cell_type": "code",
   "execution_count": 17,
   "metadata": {},
   "outputs": [
    {
     "name": "stdout",
     "output_type": "stream",
     "text": [
      "F1_score леса решений со взвешиванием классов: 0.65\n",
      "AUC_ROC нашей модели: 0.87\n"
     ]
    }
   ],
   "source": [
    "print(f'F1_score леса решений со взвешиванием классов: {best_f1_score_weight:.2f}')\n",
    "auc_roc(best_model_weight, X_val, y_val)"
   ]
  },
  {
   "cell_type": "markdown",
   "metadata": {},
   "source": [
    "В случае с лесом деревьев решений взвешивание классов не дало значимого преимущества, а даже наоборот, качество модели упало (F1_score), но на значение меньше, чем 0.01 \n"
   ]
  },
  {
   "cell_type": "markdown",
   "metadata": {},
   "source": [
    "## Тестирование модели"
   ]
  },
  {
   "cell_type": "code",
   "execution_count": 18,
   "metadata": {},
   "outputs": [
    {
     "name": "stdout",
     "output_type": "stream",
     "text": [
      "Тестовая выборка:\n"
     ]
    },
    {
     "data": {
      "image/png": "[encoded data removed]",
      "text/plain": [
       "<Figure size 640x480 with 1 Axes>"
      ]
     },
     "metadata": {},
     "output_type": "display_data"
    }
   ],
   "source": [
    "#построим ROC-кривую для нашей модели на тестовой выборке\n",
    "print('Тестовая выборка:')\n",
    "roc(best_model, X_test, y_test)"
   ]
  },
  {
   "cell_type": "markdown",
   "metadata": {},
   "source": [
    "---"
   ]
  },
  {
   "cell_type": "code",
   "execution_count": 19,
   "metadata": {},
   "outputs": [
    {
     "name": "stdout",
     "output_type": "stream",
     "text": [
      "F1_score на тестовой выборке: 0.61\n",
      "AUC_ROC нашей модели: 0.85\n"
     ]
    }
   ],
   "source": [
    "predictions = best_model.predict(X_test)\n",
    "f1_score_test = f1_score(y_test, predictions)\n",
    "\n",
    "print(f'F1_score на тестовой выборке: {f1_score_test:.2f}')\n",
    "auc_roc(best_model, X_test, y_test)"
   ]
  },
  {
   "cell_type": "markdown",
   "metadata": {},
   "source": [
    "Результаты интересующих нас метрик (F1_score и AUC_ROC), полученных на тестовой выборке, отличаются всего на пару десятых единиц, что не критично, так как сами значения являются полностью адекватными и обозначают, что модель, которую мы обучили, является рабочей."
   ]
  },
  {
   "cell_type": "markdown",
   "metadata": {},
   "source": [
    "----"
   ]
  },
  {
   "cell_type": "code",
   "execution_count": 20,
   "metadata": {},
   "outputs": [
    {
     "data": {
      "image/png": "[encoded data removed]",
      "text/plain": [
       "<Figure size 640x480 with 1 Axes>"
      ]
     },
     "metadata": {},
     "output_type": "display_data"
    }
   ],
   "source": [
    "import seaborn as sns\n",
    "\n",
    "feature_importance = best_model.feature_importances_\n",
    "feature_imp = pd.DataFrame(sorted(zip(feature_importance, features.columns)), columns=['Value','Feature'])\n",
    "sns.barplot(x=\"Value\", y=\"Feature\", data=feature_imp.sort_values(by=\"Value\", ascending=False))\n",
    "plt.title('Feature importance')\n",
    "plt.tight_layout()\n",
    "plt.show();"
   ]
  },
  {
   "cell_type": "markdown",
   "metadata": {},
   "source": [
    "<b>Вывод по важности метрик:</b> как можно заметить наибольший вклад вносят возраст; количество продуктов банка, используемых клиентом; баланс на счёте."
   ]
  },
  {
   "cell_type": "markdown",
   "metadata": {},
   "source": [
    "## Чек-лист готовности проекта"
   ]
  },
  {
   "cell_type": "markdown",
   "metadata": {},
   "source": [
    "Поставьте 'x' в выполненных пунктах. Далее нажмите Shift+Enter."
   ]
  },
  {
   "cell_type": "markdown",
   "metadata": {},
   "source": [
    "- [x]  Jupyter Notebook открыт\n",
    "- [x]  Весь код выполняется без ошибок\n",
    "- [x]  Ячейки с кодом расположены в порядке исполнения\n",
    "- [x]  Выполнен шаг 1: данные подготовлены\n",
    "- [x]  Выполнен шаг 2: задача исследована\n",
    "    - [x]  Исследован баланс классов\n",
    "    - [x]  Изучены модели без учёта дисбаланса\n",
    "    - [x]  Написаны выводы по результатам исследования\n",
    "- [x]  Выполнен шаг 3: учтён дисбаланс\n",
    "    - [x]  Применено несколько способов борьбы с дисбалансом\n",
    "    - [x]  Написаны выводы по результатам исследования\n",
    "- [x]  Выполнен шаг 4: проведено тестирование\n",
    "- [x]  Удалось достичь *F1*-меры не менее 0.59\n",
    "- [x]  Исследована метрика *AUC-ROC*"
   ]
  },
  {
   "cell_type": "code",
   "execution_count": null,
   "metadata": {},
   "outputs": [],
   "source": []
  },
  {
   "cell_type": "code",
   "execution_count": null,
   "metadata": {},
   "outputs": [],
   "source": []
  }
 ],
 "metadata": {
  "ExecuteTimeLog": [
   {
    "duration": 1309,
    "start_time": "2023-03-29T12:29:58.277Z"
   },
   {
    "duration": 32,
    "start_time": "2023-03-29T12:31:22.361Z"
   },
   {
    "duration": 1871,
    "start_time": "2023-03-29T12:31:47.741Z"
   },
   {
    "duration": 10,
    "start_time": "2023-03-29T12:35:19.820Z"
   },
   {
    "duration": 337,
    "start_time": "2023-03-29T12:36:33.200Z"
   },
   {
    "duration": 10,
    "start_time": "2023-03-29T12:38:57.691Z"
   },
   {
    "duration": 1877,
    "start_time": "2023-03-29T12:39:05.661Z"
   },
   {
    "duration": 19,
    "start_time": "2023-03-29T12:40:45.821Z"
   },
   {
    "duration": 9,
    "start_time": "2023-03-29T12:46:42.708Z"
   },
   {
    "duration": 1851,
    "start_time": "2023-03-29T12:46:54.942Z"
   },
   {
    "duration": 467,
    "start_time": "2023-03-29T12:47:07.150Z"
   },
   {
    "duration": 518,
    "start_time": "2023-03-29T12:47:20.180Z"
   },
   {
    "duration": 12,
    "start_time": "2023-03-29T12:51:16.160Z"
   },
   {
    "duration": 46,
    "start_time": "2023-03-29T12:51:33.403Z"
   },
   {
    "duration": 387,
    "start_time": "2023-03-29T12:51:35.031Z"
   },
   {
    "duration": 402,
    "start_time": "2023-03-29T12:51:47.660Z"
   },
   {
    "duration": 1836,
    "start_time": "2023-03-29T12:53:35.120Z"
   },
   {
    "duration": 412,
    "start_time": "2023-03-29T12:54:46.004Z"
   },
   {
    "duration": 4,
    "start_time": "2023-03-29T12:54:50.940Z"
   },
   {
    "duration": 382,
    "start_time": "2023-03-29T12:55:43.549Z"
   },
   {
    "duration": 388,
    "start_time": "2023-03-29T12:55:48.082Z"
   },
   {
    "duration": 379,
    "start_time": "2023-03-29T13:00:33.541Z"
   },
   {
    "duration": 1923,
    "start_time": "2023-03-29T13:06:23.360Z"
   },
   {
    "duration": 2045,
    "start_time": "2023-03-29T13:07:19.761Z"
   },
   {
    "duration": 9,
    "start_time": "2023-03-29T13:19:40.361Z"
   },
   {
    "duration": 4,
    "start_time": "2023-03-29T13:19:50.552Z"
   },
   {
    "duration": 12,
    "start_time": "2023-03-29T13:19:52.311Z"
   },
   {
    "duration": 1945,
    "start_time": "2023-03-29T13:20:43.465Z"
   },
   {
    "duration": 2143,
    "start_time": "2023-03-29T13:29:27.482Z"
   },
   {
    "duration": 98,
    "start_time": "2023-03-29T13:30:38.853Z"
   },
   {
    "duration": 3,
    "start_time": "2023-03-29T13:30:43.830Z"
   },
   {
    "duration": 56,
    "start_time": "2023-03-29T13:32:46.081Z"
   },
   {
    "duration": 9,
    "start_time": "2023-03-29T13:34:36.231Z"
   },
   {
    "duration": 62,
    "start_time": "2023-03-29T13:34:57.242Z"
   },
   {
    "duration": 65,
    "start_time": "2023-03-29T13:35:12.282Z"
   },
   {
    "duration": 54,
    "start_time": "2023-03-29T13:36:42.121Z"
   },
   {
    "duration": 68,
    "start_time": "2023-03-29T13:37:31.786Z"
   },
   {
    "duration": 67,
    "start_time": "2023-03-29T13:38:02.710Z"
   },
   {
    "duration": 70,
    "start_time": "2023-03-29T13:38:33.561Z"
   },
   {
    "duration": 79,
    "start_time": "2023-03-29T13:39:28.405Z"
   },
   {
    "duration": 65,
    "start_time": "2023-03-29T13:39:34.842Z"
   },
   {
    "duration": 21,
    "start_time": "2023-03-29T13:42:14.266Z"
   },
   {
    "duration": 26,
    "start_time": "2023-03-29T13:42:53.083Z"
   },
   {
    "duration": 74,
    "start_time": "2023-03-29T13:46:23.203Z"
   },
   {
    "duration": 12,
    "start_time": "2023-03-29T13:46:29.692Z"
   },
   {
    "duration": 12,
    "start_time": "2023-03-29T13:48:48.223Z"
   },
   {
    "duration": 71,
    "start_time": "2023-03-29T13:48:54.012Z"
   },
   {
    "duration": 118,
    "start_time": "2023-03-29T13:48:57.482Z"
   },
   {
    "duration": 26,
    "start_time": "2023-03-29T13:50:11.212Z"
   },
   {
    "duration": 17,
    "start_time": "2023-03-29T13:50:54.122Z"
   },
   {
    "duration": 71,
    "start_time": "2023-03-29T13:51:46.746Z"
   },
   {
    "duration": 18,
    "start_time": "2023-03-29T13:51:51.871Z"
   },
   {
    "duration": 4,
    "start_time": "2023-03-29T13:53:46.145Z"
   },
   {
    "duration": 17,
    "start_time": "2023-03-29T13:54:54.332Z"
   },
   {
    "duration": 16,
    "start_time": "2023-03-29T13:55:05.702Z"
   },
   {
    "duration": 24,
    "start_time": "2023-03-29T13:55:16.322Z"
   },
   {
    "duration": 60,
    "start_time": "2023-03-29T13:55:26.141Z"
   },
   {
    "duration": 4,
    "start_time": "2023-03-29T13:55:39.762Z"
   },
   {
    "duration": 22,
    "start_time": "2023-03-29T13:55:57.262Z"
   },
   {
    "duration": 19,
    "start_time": "2023-03-29T13:56:53.341Z"
   },
   {
    "duration": 4,
    "start_time": "2023-03-29T14:00:45.542Z"
   },
   {
    "duration": 5,
    "start_time": "2023-03-29T14:00:58.182Z"
   },
   {
    "duration": 9,
    "start_time": "2023-03-29T14:01:31.342Z"
   },
   {
    "duration": 10,
    "start_time": "2023-03-29T14:01:36.562Z"
   },
   {
    "duration": 632,
    "start_time": "2023-03-29T14:01:47.347Z"
   },
   {
    "duration": 596,
    "start_time": "2023-03-29T14:01:59.042Z"
   },
   {
    "duration": 11,
    "start_time": "2023-03-29T14:02:15.506Z"
   },
   {
    "duration": 1236,
    "start_time": "2023-03-29T14:02:22.246Z"
   },
   {
    "duration": 19,
    "start_time": "2023-03-29T14:02:38.102Z"
   },
   {
    "duration": 11,
    "start_time": "2023-03-29T14:57:41.697Z"
   },
   {
    "duration": 3,
    "start_time": "2023-03-29T14:58:11.754Z"
   },
   {
    "duration": 1107,
    "start_time": "2023-03-29T14:58:21.672Z"
   },
   {
    "duration": 75,
    "start_time": "2023-03-29T14:58:22.781Z"
   },
   {
    "duration": 19,
    "start_time": "2023-03-29T14:58:22.857Z"
   },
   {
    "duration": 127,
    "start_time": "2023-03-29T14:58:22.878Z"
   },
   {
    "duration": 9,
    "start_time": "2023-03-29T14:59:15.503Z"
   },
   {
    "duration": 13,
    "start_time": "2023-03-29T14:59:23.287Z"
   },
   {
    "duration": 51,
    "start_time": "2023-03-29T15:05:32.608Z"
   },
   {
    "duration": 6,
    "start_time": "2023-03-29T15:31:33.711Z"
   },
   {
    "duration": 3,
    "start_time": "2023-03-29T15:37:19.664Z"
   },
   {
    "duration": 5,
    "start_time": "2023-03-29T15:39:37.848Z"
   },
   {
    "duration": 5,
    "start_time": "2023-03-29T15:42:56.056Z"
   },
   {
    "duration": 6,
    "start_time": "2023-03-29T15:49:39.053Z"
   },
   {
    "duration": 9,
    "start_time": "2023-03-29T15:57:56.405Z"
   },
   {
    "duration": 6,
    "start_time": "2023-03-29T15:58:55.232Z"
   },
   {
    "duration": 40,
    "start_time": "2023-03-29T16:04:13.283Z"
   },
   {
    "duration": 1146,
    "start_time": "2023-03-29T16:04:52.576Z"
   },
   {
    "duration": 82,
    "start_time": "2023-03-29T16:04:53.724Z"
   },
   {
    "duration": 21,
    "start_time": "2023-03-29T16:04:53.808Z"
   },
   {
    "duration": 43,
    "start_time": "2023-03-29T16:04:53.831Z"
   },
   {
    "duration": 9,
    "start_time": "2023-03-29T16:04:53.896Z"
   },
   {
    "duration": 1125,
    "start_time": "2023-03-29T16:05:30.207Z"
   },
   {
    "duration": 70,
    "start_time": "2023-03-29T16:05:31.334Z"
   },
   {
    "duration": 18,
    "start_time": "2023-03-29T16:05:31.407Z"
   },
   {
    "duration": 47,
    "start_time": "2023-03-29T16:05:31.428Z"
   },
   {
    "duration": 18,
    "start_time": "2023-03-29T16:05:31.490Z"
   },
   {
    "duration": 1083,
    "start_time": "2023-03-29T16:05:45.128Z"
   },
   {
    "duration": 62,
    "start_time": "2023-03-29T16:05:46.213Z"
   },
   {
    "duration": 22,
    "start_time": "2023-03-29T16:05:46.277Z"
   },
   {
    "duration": 34,
    "start_time": "2023-03-29T16:05:46.300Z"
   },
   {
    "duration": 6,
    "start_time": "2023-03-29T16:05:46.335Z"
   },
   {
    "duration": 35,
    "start_time": "2023-03-29T16:06:11.824Z"
   },
   {
    "duration": 1174,
    "start_time": "2023-03-29T16:06:17.969Z"
   },
   {
    "duration": 72,
    "start_time": "2023-03-29T16:06:19.145Z"
   },
   {
    "duration": 19,
    "start_time": "2023-03-29T16:06:19.218Z"
   },
   {
    "duration": 33,
    "start_time": "2023-03-29T16:06:19.239Z"
   },
   {
    "duration": 7,
    "start_time": "2023-03-29T16:06:19.302Z"
   },
   {
    "duration": 42,
    "start_time": "2023-03-29T16:06:39.464Z"
   },
   {
    "duration": 1150,
    "start_time": "2023-03-29T16:06:44.656Z"
   },
   {
    "duration": 65,
    "start_time": "2023-03-29T16:06:45.808Z"
   },
   {
    "duration": 28,
    "start_time": "2023-03-29T16:06:45.874Z"
   },
   {
    "duration": 39,
    "start_time": "2023-03-29T16:06:45.904Z"
   },
   {
    "duration": 7,
    "start_time": "2023-03-29T16:06:45.945Z"
   },
   {
    "duration": 32,
    "start_time": "2023-03-29T16:07:36.266Z"
   },
   {
    "duration": 53,
    "start_time": "2023-03-29T16:07:36.301Z"
   },
   {
    "duration": 16,
    "start_time": "2023-03-29T16:07:36.356Z"
   },
   {
    "duration": 44,
    "start_time": "2023-03-29T16:07:36.374Z"
   },
   {
    "duration": 7,
    "start_time": "2023-03-29T16:07:36.420Z"
   },
   {
    "duration": 1146,
    "start_time": "2023-03-29T16:07:53.664Z"
   },
   {
    "duration": 66,
    "start_time": "2023-03-29T16:07:54.812Z"
   },
   {
    "duration": 22,
    "start_time": "2023-03-29T16:07:54.879Z"
   },
   {
    "duration": 36,
    "start_time": "2023-03-29T16:07:54.903Z"
   },
   {
    "duration": 7,
    "start_time": "2023-03-29T16:07:54.941Z"
   },
   {
    "duration": 112,
    "start_time": "2023-03-29T16:09:58.455Z"
   },
   {
    "duration": 4,
    "start_time": "2023-03-29T16:10:11.645Z"
   },
   {
    "duration": 1140,
    "start_time": "2023-03-29T16:10:34.304Z"
   },
   {
    "duration": 72,
    "start_time": "2023-03-29T16:10:35.447Z"
   },
   {
    "duration": 17,
    "start_time": "2023-03-29T16:10:35.520Z"
   },
   {
    "duration": 6,
    "start_time": "2023-03-29T16:10:35.539Z"
   },
   {
    "duration": 1073,
    "start_time": "2023-03-29T16:53:02.517Z"
   },
   {
    "duration": 64,
    "start_time": "2023-03-29T16:53:03.592Z"
   },
   {
    "duration": 18,
    "start_time": "2023-03-29T16:53:03.658Z"
   },
   {
    "duration": 12,
    "start_time": "2023-03-29T16:53:03.678Z"
   },
   {
    "duration": 8,
    "start_time": "2023-03-29T17:00:07.093Z"
   },
   {
    "duration": 8,
    "start_time": "2023-03-29T17:06:12.873Z"
   },
   {
    "duration": 1116,
    "start_time": "2023-03-29T17:06:21.261Z"
   },
   {
    "duration": 63,
    "start_time": "2023-03-29T17:06:22.378Z"
   },
   {
    "duration": 18,
    "start_time": "2023-03-29T17:06:22.442Z"
   },
   {
    "duration": 7,
    "start_time": "2023-03-29T17:06:22.462Z"
   },
   {
    "duration": 122,
    "start_time": "2023-03-29T17:06:22.471Z"
   },
   {
    "duration": 18,
    "start_time": "2023-03-29T17:06:58.846Z"
   },
   {
    "duration": 7,
    "start_time": "2023-03-29T17:07:17.121Z"
   },
   {
    "duration": 19,
    "start_time": "2023-03-29T17:07:20.516Z"
   },
   {
    "duration": 9,
    "start_time": "2023-03-29T17:07:34.041Z"
   },
   {
    "duration": 17,
    "start_time": "2023-03-29T17:07:51.368Z"
   },
   {
    "duration": 9,
    "start_time": "2023-03-29T17:11:58.514Z"
   },
   {
    "duration": 17,
    "start_time": "2023-03-29T17:12:00.764Z"
   },
   {
    "duration": 86,
    "start_time": "2023-03-29T17:14:27.437Z"
   },
   {
    "duration": 7,
    "start_time": "2023-03-29T17:15:12.039Z"
   },
   {
    "duration": 29,
    "start_time": "2023-03-29T17:15:14.364Z"
   },
   {
    "duration": 13,
    "start_time": "2023-03-29T17:16:00.706Z"
   },
   {
    "duration": 26,
    "start_time": "2023-03-29T17:16:02.614Z"
   },
   {
    "duration": 8,
    "start_time": "2023-03-29T17:16:17.947Z"
   },
   {
    "duration": 24,
    "start_time": "2023-03-29T17:16:19.886Z"
   },
   {
    "duration": 8,
    "start_time": "2023-03-29T17:19:19.513Z"
   },
   {
    "duration": 2,
    "start_time": "2023-03-29T17:19:56.145Z"
   },
   {
    "duration": 8,
    "start_time": "2023-03-29T17:19:58.139Z"
   },
   {
    "duration": 22,
    "start_time": "2023-03-29T17:20:47.512Z"
   },
   {
    "duration": 19,
    "start_time": "2023-03-29T17:21:31.573Z"
   },
   {
    "duration": 1467,
    "start_time": "2023-03-29T17:21:58.302Z"
   },
   {
    "duration": 1148,
    "start_time": "2023-03-29T17:22:26.173Z"
   },
   {
    "duration": 77,
    "start_time": "2023-03-29T17:22:27.323Z"
   },
   {
    "duration": 26,
    "start_time": "2023-03-29T17:22:27.402Z"
   },
   {
    "duration": 7,
    "start_time": "2023-03-29T17:22:27.430Z"
   },
   {
    "duration": 31,
    "start_time": "2023-03-29T17:22:27.439Z"
   },
   {
    "duration": 1532,
    "start_time": "2023-03-29T17:22:27.472Z"
   },
   {
    "duration": 527,
    "start_time": "2023-03-29T17:22:46.194Z"
   },
   {
    "duration": 1029,
    "start_time": "2023-03-29T17:24:15.945Z"
   },
   {
    "duration": 64,
    "start_time": "2023-03-29T17:24:16.976Z"
   },
   {
    "duration": 17,
    "start_time": "2023-03-29T17:24:17.042Z"
   },
   {
    "duration": 7,
    "start_time": "2023-03-29T17:24:17.061Z"
   },
   {
    "duration": 17,
    "start_time": "2023-03-29T17:24:17.070Z"
   },
   {
    "duration": 1078,
    "start_time": "2023-03-29T17:24:47.326Z"
   },
   {
    "duration": 69,
    "start_time": "2023-03-29T17:24:48.407Z"
   },
   {
    "duration": 24,
    "start_time": "2023-03-29T17:24:48.478Z"
   },
   {
    "duration": 9,
    "start_time": "2023-03-29T17:24:48.504Z"
   },
   {
    "duration": 15,
    "start_time": "2023-03-29T17:24:48.516Z"
   },
   {
    "duration": 1105,
    "start_time": "2023-03-29T17:25:10.858Z"
   },
   {
    "duration": 66,
    "start_time": "2023-03-29T17:25:11.965Z"
   },
   {
    "duration": 19,
    "start_time": "2023-03-29T17:25:12.033Z"
   },
   {
    "duration": 9,
    "start_time": "2023-03-29T17:25:12.054Z"
   },
   {
    "duration": 24,
    "start_time": "2023-03-29T17:25:12.065Z"
   },
   {
    "duration": 1075,
    "start_time": "2023-03-29T17:25:12.091Z"
   },
   {
    "duration": 386,
    "start_time": "2023-03-29T17:25:24.477Z"
   },
   {
    "duration": 168,
    "start_time": "2023-03-29T17:25:48.513Z"
   },
   {
    "duration": 70,
    "start_time": "2023-03-29T17:26:16.713Z"
   },
   {
    "duration": 15,
    "start_time": "2023-03-29T17:26:23.693Z"
   },
   {
    "duration": 4,
    "start_time": "2023-03-29T17:29:21.706Z"
   },
   {
    "duration": 1114,
    "start_time": "2023-03-29T17:29:32.587Z"
   },
   {
    "duration": 64,
    "start_time": "2023-03-29T17:29:33.703Z"
   },
   {
    "duration": 19,
    "start_time": "2023-03-29T17:29:33.768Z"
   },
   {
    "duration": 15,
    "start_time": "2023-03-29T17:29:33.788Z"
   },
   {
    "duration": 14,
    "start_time": "2023-03-29T17:29:33.805Z"
   },
   {
    "duration": 114,
    "start_time": "2023-03-29T17:29:33.820Z"
   },
   {
    "duration": 13,
    "start_time": "2023-03-29T17:30:04.653Z"
   },
   {
    "duration": 13,
    "start_time": "2023-03-29T17:39:03.293Z"
   },
   {
    "duration": 11,
    "start_time": "2023-03-29T17:41:58.101Z"
   },
   {
    "duration": 1102,
    "start_time": "2023-03-29T17:42:53.193Z"
   },
   {
    "duration": 66,
    "start_time": "2023-03-29T17:42:54.297Z"
   },
   {
    "duration": 15,
    "start_time": "2023-03-29T17:42:54.365Z"
   },
   {
    "duration": 12,
    "start_time": "2023-03-29T17:42:54.381Z"
   },
   {
    "duration": 9,
    "start_time": "2023-03-29T17:42:54.395Z"
   },
   {
    "duration": 15,
    "start_time": "2023-03-29T17:42:54.405Z"
   },
   {
    "duration": 61,
    "start_time": "2023-03-29T17:43:54.906Z"
   },
   {
    "duration": 59,
    "start_time": "2023-03-29T17:44:12.845Z"
   },
   {
    "duration": 1123,
    "start_time": "2023-03-29T17:44:34.225Z"
   },
   {
    "duration": 68,
    "start_time": "2023-03-29T17:44:35.350Z"
   },
   {
    "duration": 20,
    "start_time": "2023-03-29T17:44:35.419Z"
   },
   {
    "duration": 8,
    "start_time": "2023-03-29T17:44:35.442Z"
   },
   {
    "duration": 14,
    "start_time": "2023-03-29T17:44:35.452Z"
   },
   {
    "duration": 30,
    "start_time": "2023-03-29T17:44:35.468Z"
   },
   {
    "duration": 77,
    "start_time": "2023-03-29T17:45:19.406Z"
   },
   {
    "duration": 107,
    "start_time": "2023-03-29T17:45:25.793Z"
   },
   {
    "duration": 78,
    "start_time": "2023-03-29T17:46:46.925Z"
   },
   {
    "duration": 13,
    "start_time": "2023-03-29T17:47:19.614Z"
   },
   {
    "duration": 1096,
    "start_time": "2023-03-29T17:47:52.766Z"
   },
   {
    "duration": 62,
    "start_time": "2023-03-29T17:47:53.864Z"
   },
   {
    "duration": 20,
    "start_time": "2023-03-29T17:47:53.928Z"
   },
   {
    "duration": 9,
    "start_time": "2023-03-29T17:47:53.949Z"
   },
   {
    "duration": 7,
    "start_time": "2023-03-29T17:47:53.960Z"
   },
   {
    "duration": 368,
    "start_time": "2023-03-29T17:47:53.990Z"
   },
   {
    "duration": 1036,
    "start_time": "2023-03-29T17:49:10.345Z"
   },
   {
    "duration": 64,
    "start_time": "2023-03-29T17:49:11.382Z"
   },
   {
    "duration": 17,
    "start_time": "2023-03-29T17:49:11.448Z"
   },
   {
    "duration": 8,
    "start_time": "2023-03-29T17:49:11.467Z"
   },
   {
    "duration": 7,
    "start_time": "2023-03-29T17:49:11.476Z"
   },
   {
    "duration": 163,
    "start_time": "2023-03-29T17:49:11.489Z"
   },
   {
    "duration": 19,
    "start_time": "2023-03-29T17:51:11.933Z"
   },
   {
    "duration": 1099,
    "start_time": "2023-03-29T17:51:15.287Z"
   },
   {
    "duration": 65,
    "start_time": "2023-03-29T17:51:16.388Z"
   },
   {
    "duration": 18,
    "start_time": "2023-03-29T17:51:16.455Z"
   },
   {
    "duration": 7,
    "start_time": "2023-03-29T17:51:16.475Z"
   },
   {
    "duration": 10,
    "start_time": "2023-03-29T17:51:16.484Z"
   },
   {
    "duration": 170,
    "start_time": "2023-03-29T17:51:16.495Z"
   },
   {
    "duration": 1058,
    "start_time": "2023-03-29T17:52:35.545Z"
   },
   {
    "duration": 67,
    "start_time": "2023-03-29T17:52:36.605Z"
   },
   {
    "duration": 16,
    "start_time": "2023-03-29T17:52:36.673Z"
   },
   {
    "duration": 8,
    "start_time": "2023-03-29T17:52:36.691Z"
   },
   {
    "duration": 114,
    "start_time": "2023-03-29T17:52:36.700Z"
   },
   {
    "duration": 0,
    "start_time": "2023-03-29T17:52:36.816Z"
   },
   {
    "duration": 1111,
    "start_time": "2023-03-29T17:53:43.365Z"
   },
   {
    "duration": 69,
    "start_time": "2023-03-29T17:53:44.478Z"
   },
   {
    "duration": 18,
    "start_time": "2023-03-29T17:53:44.549Z"
   },
   {
    "duration": 8,
    "start_time": "2023-03-29T17:53:44.569Z"
   },
   {
    "duration": 112,
    "start_time": "2023-03-29T17:53:44.589Z"
   },
   {
    "duration": 0,
    "start_time": "2023-03-29T17:53:44.703Z"
   },
   {
    "duration": 1068,
    "start_time": "2023-03-29T17:55:36.006Z"
   },
   {
    "duration": 65,
    "start_time": "2023-03-29T17:55:37.076Z"
   },
   {
    "duration": 19,
    "start_time": "2023-03-29T17:55:37.142Z"
   },
   {
    "duration": 9,
    "start_time": "2023-03-29T17:55:37.163Z"
   },
   {
    "duration": 377,
    "start_time": "2023-03-29T17:55:37.174Z"
   },
   {
    "duration": 1,
    "start_time": "2023-03-29T17:55:37.553Z"
   },
   {
    "duration": 1096,
    "start_time": "2023-03-29T17:57:01.573Z"
   },
   {
    "duration": 69,
    "start_time": "2023-03-29T17:57:02.671Z"
   },
   {
    "duration": 17,
    "start_time": "2023-03-29T17:57:02.741Z"
   },
   {
    "duration": 8,
    "start_time": "2023-03-29T17:57:02.760Z"
   },
   {
    "duration": 429,
    "start_time": "2023-03-29T17:57:02.769Z"
   },
   {
    "duration": 0,
    "start_time": "2023-03-29T17:57:03.199Z"
   },
   {
    "duration": 1127,
    "start_time": "2023-03-29T17:57:59.022Z"
   },
   {
    "duration": 65,
    "start_time": "2023-03-29T17:58:00.151Z"
   },
   {
    "duration": 19,
    "start_time": "2023-03-29T17:58:00.217Z"
   },
   {
    "duration": 9,
    "start_time": "2023-03-29T17:58:00.237Z"
   },
   {
    "duration": 430,
    "start_time": "2023-03-29T17:58:00.247Z"
   },
   {
    "duration": 0,
    "start_time": "2023-03-29T17:58:00.679Z"
   },
   {
    "duration": 1120,
    "start_time": "2023-03-29T17:59:18.589Z"
   },
   {
    "duration": 65,
    "start_time": "2023-03-29T17:59:19.711Z"
   },
   {
    "duration": 20,
    "start_time": "2023-03-29T17:59:19.779Z"
   },
   {
    "duration": 8,
    "start_time": "2023-03-29T17:59:19.801Z"
   },
   {
    "duration": 388,
    "start_time": "2023-03-29T17:59:19.811Z"
   },
   {
    "duration": 0,
    "start_time": "2023-03-29T17:59:20.201Z"
   },
   {
    "duration": 1152,
    "start_time": "2023-03-29T18:07:58.089Z"
   },
   {
    "duration": 70,
    "start_time": "2023-03-29T18:07:59.243Z"
   },
   {
    "duration": 19,
    "start_time": "2023-03-29T18:07:59.315Z"
   },
   {
    "duration": 6,
    "start_time": "2023-03-29T18:07:59.336Z"
   },
   {
    "duration": 129,
    "start_time": "2023-03-29T18:07:59.345Z"
   },
   {
    "duration": 0,
    "start_time": "2023-03-29T18:07:59.476Z"
   },
   {
    "duration": 1120,
    "start_time": "2023-03-29T18:08:24.265Z"
   },
   {
    "duration": 62,
    "start_time": "2023-03-29T18:08:25.387Z"
   },
   {
    "duration": 18,
    "start_time": "2023-03-29T18:08:25.451Z"
   },
   {
    "duration": 6,
    "start_time": "2023-03-29T18:08:25.471Z"
   },
   {
    "duration": 119,
    "start_time": "2023-03-29T18:08:25.479Z"
   },
   {
    "duration": 0,
    "start_time": "2023-03-29T18:08:25.600Z"
   },
   {
    "duration": 3,
    "start_time": "2023-03-29T18:08:48.005Z"
   },
   {
    "duration": 1213,
    "start_time": "2023-03-29T18:08:52.098Z"
   },
   {
    "duration": 62,
    "start_time": "2023-03-29T18:08:53.313Z"
   },
   {
    "duration": 17,
    "start_time": "2023-03-29T18:08:53.376Z"
   },
   {
    "duration": 13,
    "start_time": "2023-03-29T18:08:53.395Z"
   },
   {
    "duration": 463,
    "start_time": "2023-03-29T18:08:53.410Z"
   },
   {
    "duration": 0,
    "start_time": "2023-03-29T18:08:53.874Z"
   },
   {
    "duration": 346,
    "start_time": "2023-03-29T18:09:11.745Z"
   },
   {
    "duration": 1055,
    "start_time": "2023-03-29T18:09:56.333Z"
   },
   {
    "duration": 77,
    "start_time": "2023-03-29T18:09:57.391Z"
   },
   {
    "duration": 21,
    "start_time": "2023-03-29T18:09:57.469Z"
   },
   {
    "duration": 8,
    "start_time": "2023-03-29T18:09:57.492Z"
   },
   {
    "duration": 492,
    "start_time": "2023-03-29T18:09:57.502Z"
   },
   {
    "duration": 0,
    "start_time": "2023-03-29T18:09:57.997Z"
   },
   {
    "duration": 1131,
    "start_time": "2023-03-29T18:11:08.110Z"
   },
   {
    "duration": 65,
    "start_time": "2023-03-29T18:11:09.243Z"
   },
   {
    "duration": 19,
    "start_time": "2023-03-29T18:11:09.309Z"
   },
   {
    "duration": 7,
    "start_time": "2023-03-29T18:11:09.330Z"
   },
   {
    "duration": 451,
    "start_time": "2023-03-29T18:11:09.339Z"
   },
   {
    "duration": 0,
    "start_time": "2023-03-29T18:11:09.792Z"
   },
   {
    "duration": 1088,
    "start_time": "2023-03-29T18:12:18.901Z"
   },
   {
    "duration": 64,
    "start_time": "2023-03-29T18:12:19.991Z"
   },
   {
    "duration": 17,
    "start_time": "2023-03-29T18:12:20.057Z"
   },
   {
    "duration": 7,
    "start_time": "2023-03-29T18:12:20.076Z"
   },
   {
    "duration": 140,
    "start_time": "2023-03-29T18:12:20.084Z"
   },
   {
    "duration": 0,
    "start_time": "2023-03-29T18:12:20.226Z"
   },
   {
    "duration": 7,
    "start_time": "2023-03-29T18:12:55.713Z"
   },
   {
    "duration": 1058,
    "start_time": "2023-03-29T18:12:59.447Z"
   },
   {
    "duration": 66,
    "start_time": "2023-03-29T18:13:00.507Z"
   },
   {
    "duration": 19,
    "start_time": "2023-03-29T18:13:00.575Z"
   },
   {
    "duration": 18,
    "start_time": "2023-03-29T18:13:00.596Z"
   },
   {
    "duration": 154,
    "start_time": "2023-03-29T18:13:00.615Z"
   },
   {
    "duration": 0,
    "start_time": "2023-03-29T18:13:00.771Z"
   },
   {
    "duration": 1105,
    "start_time": "2023-03-29T18:13:40.261Z"
   },
   {
    "duration": 67,
    "start_time": "2023-03-29T18:13:41.368Z"
   },
   {
    "duration": 20,
    "start_time": "2023-03-29T18:13:41.436Z"
   },
   {
    "duration": 6,
    "start_time": "2023-03-29T18:13:41.459Z"
   },
   {
    "duration": 146,
    "start_time": "2023-03-29T18:13:41.467Z"
   },
   {
    "duration": 0,
    "start_time": "2023-03-29T18:13:41.615Z"
   },
   {
    "duration": 7,
    "start_time": "2023-03-29T18:14:08.093Z"
   },
   {
    "duration": 1025,
    "start_time": "2023-03-29T18:14:11.545Z"
   },
   {
    "duration": 67,
    "start_time": "2023-03-29T18:14:12.572Z"
   },
   {
    "duration": 17,
    "start_time": "2023-03-29T18:14:12.641Z"
   },
   {
    "duration": 7,
    "start_time": "2023-03-29T18:14:12.660Z"
   },
   {
    "duration": 130,
    "start_time": "2023-03-29T18:14:12.669Z"
   },
   {
    "duration": 0,
    "start_time": "2023-03-29T18:14:12.801Z"
   },
   {
    "duration": 1053,
    "start_time": "2023-03-29T18:15:32.251Z"
   },
   {
    "duration": 69,
    "start_time": "2023-03-29T18:15:33.306Z"
   },
   {
    "duration": 20,
    "start_time": "2023-03-29T18:15:33.377Z"
   },
   {
    "duration": 7,
    "start_time": "2023-03-29T18:15:33.400Z"
   },
   {
    "duration": 117,
    "start_time": "2023-03-29T18:15:33.409Z"
   },
   {
    "duration": 0,
    "start_time": "2023-03-29T18:15:33.528Z"
   },
   {
    "duration": 8,
    "start_time": "2023-03-29T18:16:19.487Z"
   },
   {
    "duration": 17,
    "start_time": "2023-03-29T18:16:27.157Z"
   },
   {
    "duration": 1092,
    "start_time": "2023-03-29T18:17:58.434Z"
   },
   {
    "duration": 69,
    "start_time": "2023-03-29T18:17:59.528Z"
   },
   {
    "duration": 18,
    "start_time": "2023-03-29T18:17:59.599Z"
   },
   {
    "duration": 7,
    "start_time": "2023-03-29T18:17:59.619Z"
   },
   {
    "duration": 131,
    "start_time": "2023-03-29T18:17:59.627Z"
   },
   {
    "duration": 0,
    "start_time": "2023-03-29T18:17:59.760Z"
   },
   {
    "duration": 1079,
    "start_time": "2023-03-29T18:27:32.828Z"
   },
   {
    "duration": 64,
    "start_time": "2023-03-29T18:27:33.909Z"
   },
   {
    "duration": 27,
    "start_time": "2023-03-29T18:27:33.975Z"
   },
   {
    "duration": 6,
    "start_time": "2023-03-29T18:27:34.004Z"
   },
   {
    "duration": 223,
    "start_time": "2023-03-29T18:27:34.012Z"
   },
   {
    "duration": 0,
    "start_time": "2023-03-29T18:27:34.237Z"
   },
   {
    "duration": 1090,
    "start_time": "2023-03-29T18:29:17.226Z"
   },
   {
    "duration": 66,
    "start_time": "2023-03-29T18:29:18.318Z"
   },
   {
    "duration": 19,
    "start_time": "2023-03-29T18:29:18.386Z"
   },
   {
    "duration": 5,
    "start_time": "2023-03-29T18:29:18.407Z"
   },
   {
    "duration": 131,
    "start_time": "2023-03-29T18:29:18.414Z"
   },
   {
    "duration": 0,
    "start_time": "2023-03-29T18:29:18.548Z"
   },
   {
    "duration": 1087,
    "start_time": "2023-03-29T18:30:06.625Z"
   },
   {
    "duration": 68,
    "start_time": "2023-03-29T18:30:07.714Z"
   },
   {
    "duration": 19,
    "start_time": "2023-03-29T18:30:07.783Z"
   },
   {
    "duration": 6,
    "start_time": "2023-03-29T18:30:07.804Z"
   },
   {
    "duration": 134,
    "start_time": "2023-03-29T18:30:07.812Z"
   },
   {
    "duration": 0,
    "start_time": "2023-03-29T18:30:07.948Z"
   },
   {
    "duration": 1017,
    "start_time": "2023-03-29T18:30:50.247Z"
   },
   {
    "duration": 63,
    "start_time": "2023-03-29T18:30:51.266Z"
   },
   {
    "duration": 19,
    "start_time": "2023-03-29T18:30:51.330Z"
   },
   {
    "duration": 4,
    "start_time": "2023-03-29T18:30:51.351Z"
   },
   {
    "duration": 119,
    "start_time": "2023-03-29T18:30:51.357Z"
   },
   {
    "duration": 0,
    "start_time": "2023-03-29T18:30:51.478Z"
   },
   {
    "duration": 4,
    "start_time": "2023-03-29T18:30:58.494Z"
   },
   {
    "duration": 1093,
    "start_time": "2023-03-29T18:31:02.306Z"
   },
   {
    "duration": 66,
    "start_time": "2023-03-29T18:31:03.401Z"
   },
   {
    "duration": 18,
    "start_time": "2023-03-29T18:31:03.468Z"
   },
   {
    "duration": 4,
    "start_time": "2023-03-29T18:31:03.487Z"
   },
   {
    "duration": 112,
    "start_time": "2023-03-29T18:31:03.493Z"
   },
   {
    "duration": 0,
    "start_time": "2023-03-29T18:31:03.607Z"
   },
   {
    "duration": 1142,
    "start_time": "2023-03-29T18:31:17.966Z"
   },
   {
    "duration": 66,
    "start_time": "2023-03-29T18:31:19.110Z"
   },
   {
    "duration": 19,
    "start_time": "2023-03-29T18:31:19.177Z"
   },
   {
    "duration": 4,
    "start_time": "2023-03-29T18:31:19.198Z"
   },
   {
    "duration": 24,
    "start_time": "2023-03-29T18:31:19.203Z"
   },
   {
    "duration": 10,
    "start_time": "2023-03-29T18:31:19.229Z"
   },
   {
    "duration": 6,
    "start_time": "2023-03-29T18:32:13.893Z"
   },
   {
    "duration": 1122,
    "start_time": "2023-03-29T18:32:22.187Z"
   },
   {
    "duration": 64,
    "start_time": "2023-03-29T18:32:23.311Z"
   },
   {
    "duration": 18,
    "start_time": "2023-03-29T18:32:23.376Z"
   },
   {
    "duration": 6,
    "start_time": "2023-03-29T18:32:23.396Z"
   },
   {
    "duration": 134,
    "start_time": "2023-03-29T18:32:23.404Z"
   },
   {
    "duration": 0,
    "start_time": "2023-03-29T18:32:23.540Z"
   },
   {
    "duration": 6,
    "start_time": "2023-03-29T18:33:28.953Z"
   },
   {
    "duration": 27,
    "start_time": "2023-03-29T18:33:31.587Z"
   },
   {
    "duration": 1054,
    "start_time": "2023-03-29T18:34:40.406Z"
   },
   {
    "duration": 63,
    "start_time": "2023-03-29T18:34:41.462Z"
   },
   {
    "duration": 18,
    "start_time": "2023-03-29T18:34:41.527Z"
   },
   {
    "duration": 7,
    "start_time": "2023-03-29T18:34:41.546Z"
   },
   {
    "duration": 134,
    "start_time": "2023-03-29T18:34:41.555Z"
   },
   {
    "duration": 0,
    "start_time": "2023-03-29T18:34:41.690Z"
   },
   {
    "duration": 1127,
    "start_time": "2023-03-29T18:36:14.665Z"
   },
   {
    "duration": 64,
    "start_time": "2023-03-29T18:36:15.793Z"
   },
   {
    "duration": 17,
    "start_time": "2023-03-29T18:36:15.858Z"
   },
   {
    "duration": 7,
    "start_time": "2023-03-29T18:36:15.878Z"
   },
   {
    "duration": 26,
    "start_time": "2023-03-29T18:36:15.890Z"
   },
   {
    "duration": 184,
    "start_time": "2023-03-29T18:36:15.917Z"
   },
   {
    "duration": 0,
    "start_time": "2023-03-29T18:36:16.103Z"
   },
   {
    "duration": 59,
    "start_time": "2023-03-29T18:37:33.845Z"
   },
   {
    "duration": 1109,
    "start_time": "2023-03-29T18:38:46.166Z"
   },
   {
    "duration": 63,
    "start_time": "2023-03-29T18:38:47.277Z"
   },
   {
    "duration": 17,
    "start_time": "2023-03-29T18:38:47.342Z"
   },
   {
    "duration": 6,
    "start_time": "2023-03-29T18:38:47.361Z"
   },
   {
    "duration": 171,
    "start_time": "2023-03-29T18:38:47.369Z"
   },
   {
    "duration": 0,
    "start_time": "2023-03-29T18:38:47.543Z"
   },
   {
    "duration": 6,
    "start_time": "2023-03-29T18:39:20.094Z"
   },
   {
    "duration": 1135,
    "start_time": "2023-03-29T18:39:24.366Z"
   },
   {
    "duration": 64,
    "start_time": "2023-03-29T18:39:25.503Z"
   },
   {
    "duration": 18,
    "start_time": "2023-03-29T18:39:25.569Z"
   },
   {
    "duration": 7,
    "start_time": "2023-03-29T18:39:25.590Z"
   },
   {
    "duration": 160,
    "start_time": "2023-03-29T18:39:25.598Z"
   },
   {
    "duration": 1506,
    "start_time": "2023-03-30T12:47:36.096Z"
   },
   {
    "duration": 115,
    "start_time": "2023-03-30T12:47:37.604Z"
   },
   {
    "duration": 29,
    "start_time": "2023-03-30T12:47:37.721Z"
   },
   {
    "duration": 8,
    "start_time": "2023-03-30T12:47:37.761Z"
   },
   {
    "duration": 179,
    "start_time": "2023-03-30T12:47:37.771Z"
   },
   {
    "duration": 14,
    "start_time": "2023-03-30T12:53:51.551Z"
   },
   {
    "duration": 17,
    "start_time": "2023-03-30T12:54:04.378Z"
   },
   {
    "duration": 10,
    "start_time": "2023-03-30T12:56:15.615Z"
   },
   {
    "duration": 5,
    "start_time": "2023-03-30T12:56:23.256Z"
   },
   {
    "duration": 1247,
    "start_time": "2023-03-30T12:56:42.055Z"
   },
   {
    "duration": 72,
    "start_time": "2023-03-30T12:56:43.304Z"
   },
   {
    "duration": 28,
    "start_time": "2023-03-30T12:56:43.378Z"
   },
   {
    "duration": 15,
    "start_time": "2023-03-30T12:56:43.408Z"
   },
   {
    "duration": 166,
    "start_time": "2023-03-30T12:56:43.427Z"
   },
   {
    "duration": 14,
    "start_time": "2023-03-30T13:00:06.652Z"
   },
   {
    "duration": 17,
    "start_time": "2023-03-30T13:02:40.935Z"
   },
   {
    "duration": 1230,
    "start_time": "2023-03-30T13:03:00.336Z"
   },
   {
    "duration": 93,
    "start_time": "2023-03-30T13:03:01.568Z"
   },
   {
    "duration": 35,
    "start_time": "2023-03-30T13:03:01.663Z"
   },
   {
    "duration": 35,
    "start_time": "2023-03-30T13:03:01.701Z"
   },
   {
    "duration": 179,
    "start_time": "2023-03-30T13:03:01.739Z"
   },
   {
    "duration": 0,
    "start_time": "2023-03-30T13:03:01.920Z"
   },
   {
    "duration": 26,
    "start_time": "2023-03-30T13:18:29.551Z"
   },
   {
    "duration": 9,
    "start_time": "2023-03-30T13:22:02.151Z"
   },
   {
    "duration": 9,
    "start_time": "2023-03-30T13:22:21.151Z"
   },
   {
    "duration": 1228,
    "start_time": "2023-03-30T13:38:15.731Z"
   },
   {
    "duration": 73,
    "start_time": "2023-03-30T13:38:16.961Z"
   },
   {
    "duration": 31,
    "start_time": "2023-03-30T13:38:17.036Z"
   },
   {
    "duration": 14,
    "start_time": "2023-03-30T13:38:17.070Z"
   },
   {
    "duration": 146,
    "start_time": "2023-03-30T13:38:17.086Z"
   },
   {
    "duration": 0,
    "start_time": "2023-03-30T13:38:17.233Z"
   },
   {
    "duration": 58,
    "start_time": "2023-03-30T13:38:32.051Z"
   },
   {
    "duration": 13,
    "start_time": "2023-03-30T13:38:56.931Z"
   },
   {
    "duration": 11,
    "start_time": "2023-03-30T13:39:21.771Z"
   },
   {
    "duration": 48,
    "start_time": "2023-03-30T13:39:36.581Z"
   },
   {
    "duration": 10,
    "start_time": "2023-03-30T13:39:39.772Z"
   },
   {
    "duration": 27,
    "start_time": "2023-03-30T13:50:33.432Z"
   },
   {
    "duration": 59,
    "start_time": "2023-03-30T13:50:55.232Z"
   },
   {
    "duration": 1287,
    "start_time": "2023-03-30T13:51:09.892Z"
   },
   {
    "duration": 102,
    "start_time": "2023-03-30T13:51:11.182Z"
   },
   {
    "duration": 22,
    "start_time": "2023-03-30T13:51:11.286Z"
   },
   {
    "duration": 9,
    "start_time": "2023-03-30T13:51:11.311Z"
   },
   {
    "duration": 193,
    "start_time": "2023-03-30T13:51:11.321Z"
   },
   {
    "duration": 0,
    "start_time": "2023-03-30T13:51:11.516Z"
   },
   {
    "duration": 0,
    "start_time": "2023-03-30T13:51:11.517Z"
   },
   {
    "duration": 61,
    "start_time": "2023-03-30T13:51:29.974Z"
   },
   {
    "duration": 14,
    "start_time": "2023-03-30T13:51:58.151Z"
   },
   {
    "duration": 1099,
    "start_time": "2023-03-30T13:53:25.592Z"
   },
   {
    "duration": 66,
    "start_time": "2023-03-30T13:53:26.693Z"
   },
   {
    "duration": 21,
    "start_time": "2023-03-30T13:53:26.760Z"
   },
   {
    "duration": 9,
    "start_time": "2023-03-30T13:53:26.782Z"
   },
   {
    "duration": 52,
    "start_time": "2023-03-30T13:53:26.793Z"
   },
   {
    "duration": 13,
    "start_time": "2023-03-30T13:53:26.863Z"
   },
   {
    "duration": 81,
    "start_time": "2023-03-30T13:53:26.878Z"
   },
   {
    "duration": 0,
    "start_time": "2023-03-30T13:53:26.960Z"
   },
   {
    "duration": 1243,
    "start_time": "2023-03-30T13:58:00.452Z"
   },
   {
    "duration": 75,
    "start_time": "2023-03-30T13:58:01.699Z"
   },
   {
    "duration": 24,
    "start_time": "2023-03-30T13:58:01.776Z"
   },
   {
    "duration": 16,
    "start_time": "2023-03-30T13:58:01.803Z"
   },
   {
    "duration": 192,
    "start_time": "2023-03-30T13:58:01.821Z"
   },
   {
    "duration": 0,
    "start_time": "2023-03-30T13:58:02.015Z"
   },
   {
    "duration": 0,
    "start_time": "2023-03-30T13:58:02.017Z"
   },
   {
    "duration": 0,
    "start_time": "2023-03-30T13:58:02.019Z"
   },
   {
    "duration": 1212,
    "start_time": "2023-03-30T13:59:10.632Z"
   },
   {
    "duration": 91,
    "start_time": "2023-03-30T13:59:11.856Z"
   },
   {
    "duration": 30,
    "start_time": "2023-03-30T13:59:11.949Z"
   },
   {
    "duration": 8,
    "start_time": "2023-03-30T13:59:11.983Z"
   },
   {
    "duration": 530,
    "start_time": "2023-03-30T13:59:11.993Z"
   },
   {
    "duration": 14,
    "start_time": "2023-03-30T13:59:12.525Z"
   },
   {
    "duration": 9,
    "start_time": "2023-03-30T13:59:12.541Z"
   },
   {
    "duration": 13,
    "start_time": "2023-03-30T13:59:12.552Z"
   },
   {
    "duration": 1286,
    "start_time": "2023-03-30T14:00:56.873Z"
   },
   {
    "duration": 80,
    "start_time": "2023-03-30T14:00:58.162Z"
   },
   {
    "duration": 28,
    "start_time": "2023-03-30T14:00:58.244Z"
   },
   {
    "duration": 10,
    "start_time": "2023-03-30T14:00:58.274Z"
   },
   {
    "duration": 458,
    "start_time": "2023-03-30T14:00:58.286Z"
   },
   {
    "duration": 25,
    "start_time": "2023-03-30T14:00:58.745Z"
   },
   {
    "duration": 17,
    "start_time": "2023-03-30T14:00:58.772Z"
   },
   {
    "duration": 22,
    "start_time": "2023-03-30T14:00:58.791Z"
   },
   {
    "duration": 1121,
    "start_time": "2023-03-30T14:01:46.412Z"
   },
   {
    "duration": 69,
    "start_time": "2023-03-30T14:01:47.535Z"
   },
   {
    "duration": 26,
    "start_time": "2023-03-30T14:01:47.606Z"
   },
   {
    "duration": 28,
    "start_time": "2023-03-30T14:01:47.634Z"
   },
   {
    "duration": 77,
    "start_time": "2023-03-30T14:01:47.664Z"
   },
   {
    "duration": 0,
    "start_time": "2023-03-30T14:01:47.743Z"
   },
   {
    "duration": 0,
    "start_time": "2023-03-30T14:01:47.745Z"
   },
   {
    "duration": 0,
    "start_time": "2023-03-30T14:01:47.746Z"
   },
   {
    "duration": 1240,
    "start_time": "2023-03-30T14:02:05.531Z"
   },
   {
    "duration": 68,
    "start_time": "2023-03-30T14:02:06.773Z"
   },
   {
    "duration": 20,
    "start_time": "2023-03-30T14:02:06.843Z"
   },
   {
    "duration": 10,
    "start_time": "2023-03-30T14:02:06.866Z"
   },
   {
    "duration": 142,
    "start_time": "2023-03-30T14:02:06.879Z"
   },
   {
    "duration": 0,
    "start_time": "2023-03-30T14:02:07.022Z"
   },
   {
    "duration": 0,
    "start_time": "2023-03-30T14:02:07.024Z"
   },
   {
    "duration": 0,
    "start_time": "2023-03-30T14:02:07.025Z"
   },
   {
    "duration": 1199,
    "start_time": "2023-03-30T14:02:25.631Z"
   },
   {
    "duration": 72,
    "start_time": "2023-03-30T14:02:26.832Z"
   },
   {
    "duration": 29,
    "start_time": "2023-03-30T14:02:26.907Z"
   },
   {
    "duration": 24,
    "start_time": "2023-03-30T14:02:26.939Z"
   },
   {
    "duration": 593,
    "start_time": "2023-03-30T14:02:26.965Z"
   },
   {
    "duration": 0,
    "start_time": "2023-03-30T14:02:27.562Z"
   },
   {
    "duration": 0,
    "start_time": "2023-03-30T14:02:27.563Z"
   },
   {
    "duration": 0,
    "start_time": "2023-03-30T14:02:27.565Z"
   },
   {
    "duration": 1132,
    "start_time": "2023-03-30T14:02:48.876Z"
   },
   {
    "duration": 71,
    "start_time": "2023-03-30T14:02:50.010Z"
   },
   {
    "duration": 20,
    "start_time": "2023-03-30T14:02:50.082Z"
   },
   {
    "duration": 12,
    "start_time": "2023-03-30T14:02:50.104Z"
   },
   {
    "duration": 586,
    "start_time": "2023-03-30T14:02:50.118Z"
   },
   {
    "duration": 0,
    "start_time": "2023-03-30T14:02:50.706Z"
   },
   {
    "duration": 0,
    "start_time": "2023-03-30T14:02:50.707Z"
   },
   {
    "duration": 0,
    "start_time": "2023-03-30T14:02:50.709Z"
   },
   {
    "duration": 28,
    "start_time": "2023-03-30T14:03:31.171Z"
   },
   {
    "duration": 574,
    "start_time": "2023-03-30T14:04:06.371Z"
   },
   {
    "duration": 553,
    "start_time": "2023-03-30T14:04:10.731Z"
   },
   {
    "duration": 528,
    "start_time": "2023-03-30T14:04:13.104Z"
   },
   {
    "duration": 475,
    "start_time": "2023-03-30T14:04:41.199Z"
   },
   {
    "duration": 1177,
    "start_time": "2023-03-30T14:04:47.423Z"
   },
   {
    "duration": 71,
    "start_time": "2023-03-30T14:04:48.602Z"
   },
   {
    "duration": 29,
    "start_time": "2023-03-30T14:04:48.675Z"
   },
   {
    "duration": 11,
    "start_time": "2023-03-30T14:04:48.706Z"
   },
   {
    "duration": 474,
    "start_time": "2023-03-30T14:04:48.719Z"
   },
   {
    "duration": 17,
    "start_time": "2023-03-30T14:04:49.194Z"
   },
   {
    "duration": 8,
    "start_time": "2023-03-30T14:04:49.213Z"
   },
   {
    "duration": 4,
    "start_time": "2023-03-30T14:04:49.223Z"
   },
   {
    "duration": 564,
    "start_time": "2023-03-30T14:04:58.529Z"
   },
   {
    "duration": 1324,
    "start_time": "2023-03-30T14:05:04.552Z"
   },
   {
    "duration": 72,
    "start_time": "2023-03-30T14:05:05.881Z"
   },
   {
    "duration": 29,
    "start_time": "2023-03-30T14:05:05.954Z"
   },
   {
    "duration": 11,
    "start_time": "2023-03-30T14:05:05.985Z"
   },
   {
    "duration": 532,
    "start_time": "2023-03-30T14:05:06.000Z"
   },
   {
    "duration": 28,
    "start_time": "2023-03-30T14:05:06.534Z"
   },
   {
    "duration": 6,
    "start_time": "2023-03-30T14:05:06.565Z"
   },
   {
    "duration": 5,
    "start_time": "2023-03-30T14:05:06.573Z"
   },
   {
    "duration": 264,
    "start_time": "2023-03-30T14:08:05.005Z"
   },
   {
    "duration": 96,
    "start_time": "2023-03-30T14:08:37.604Z"
   },
   {
    "duration": 336,
    "start_time": "2023-03-30T14:08:59.763Z"
   },
   {
    "duration": 383,
    "start_time": "2023-03-30T14:09:14.220Z"
   },
   {
    "duration": 305,
    "start_time": "2023-03-30T14:09:39.543Z"
   },
   {
    "duration": 1306,
    "start_time": "2023-03-30T14:13:32.834Z"
   },
   {
    "duration": 106,
    "start_time": "2023-03-30T14:13:34.142Z"
   },
   {
    "duration": 34,
    "start_time": "2023-03-30T14:13:34.250Z"
   },
   {
    "duration": 11,
    "start_time": "2023-03-30T14:13:34.291Z"
   },
   {
    "duration": 837,
    "start_time": "2023-03-30T14:13:34.305Z"
   },
   {
    "duration": 42,
    "start_time": "2023-03-30T14:13:35.145Z"
   },
   {
    "duration": 8,
    "start_time": "2023-03-30T14:13:35.191Z"
   },
   {
    "duration": 6,
    "start_time": "2023-03-30T14:13:35.201Z"
   },
   {
    "duration": 1167,
    "start_time": "2023-03-30T14:14:22.312Z"
   },
   {
    "duration": 96,
    "start_time": "2023-03-30T14:14:23.482Z"
   },
   {
    "duration": 27,
    "start_time": "2023-03-30T14:14:23.580Z"
   },
   {
    "duration": 16,
    "start_time": "2023-03-30T14:14:23.610Z"
   },
   {
    "duration": 215,
    "start_time": "2023-03-30T14:14:23.628Z"
   },
   {
    "duration": 0,
    "start_time": "2023-03-30T14:14:23.845Z"
   },
   {
    "duration": 0,
    "start_time": "2023-03-30T14:14:23.847Z"
   },
   {
    "duration": 0,
    "start_time": "2023-03-30T14:14:23.848Z"
   },
   {
    "duration": 1205,
    "start_time": "2023-03-30T14:14:46.012Z"
   },
   {
    "duration": 105,
    "start_time": "2023-03-30T14:14:47.219Z"
   },
   {
    "duration": 35,
    "start_time": "2023-03-30T14:14:47.327Z"
   },
   {
    "duration": 11,
    "start_time": "2023-03-30T14:14:47.364Z"
   },
   {
    "duration": 172,
    "start_time": "2023-03-30T14:14:47.377Z"
   },
   {
    "duration": 24,
    "start_time": "2023-03-30T14:14:47.551Z"
   },
   {
    "duration": 13,
    "start_time": "2023-03-30T14:14:47.578Z"
   },
   {
    "duration": 7,
    "start_time": "2023-03-30T14:14:47.593Z"
   },
   {
    "duration": 1216,
    "start_time": "2023-03-30T14:15:06.159Z"
   },
   {
    "duration": 81,
    "start_time": "2023-03-30T14:15:07.377Z"
   },
   {
    "duration": 25,
    "start_time": "2023-03-30T14:15:07.460Z"
   },
   {
    "duration": 6,
    "start_time": "2023-03-30T14:15:07.487Z"
   },
   {
    "duration": 194,
    "start_time": "2023-03-30T14:15:07.495Z"
   },
   {
    "duration": 0,
    "start_time": "2023-03-30T14:15:07.691Z"
   },
   {
    "duration": 0,
    "start_time": "2023-03-30T14:15:07.693Z"
   },
   {
    "duration": 0,
    "start_time": "2023-03-30T14:15:07.694Z"
   },
   {
    "duration": 1243,
    "start_time": "2023-03-30T14:20:46.231Z"
   },
   {
    "duration": 71,
    "start_time": "2023-03-30T14:20:47.476Z"
   },
   {
    "duration": 21,
    "start_time": "2023-03-30T14:20:47.548Z"
   },
   {
    "duration": 3,
    "start_time": "2023-03-30T14:20:47.571Z"
   },
   {
    "duration": 1475,
    "start_time": "2023-03-30T14:20:47.576Z"
   },
   {
    "duration": 0,
    "start_time": "2023-03-30T14:20:49.053Z"
   },
   {
    "duration": 0,
    "start_time": "2023-03-30T14:20:49.054Z"
   },
   {
    "duration": 0,
    "start_time": "2023-03-30T14:20:49.056Z"
   },
   {
    "duration": 212,
    "start_time": "2023-03-30T14:21:19.191Z"
   },
   {
    "duration": 77,
    "start_time": "2023-03-30T14:21:42.660Z"
   },
   {
    "duration": 244,
    "start_time": "2023-03-30T14:22:02.600Z"
   },
   {
    "duration": 158,
    "start_time": "2023-03-30T14:22:29.440Z"
   },
   {
    "duration": 138,
    "start_time": "2023-03-30T14:22:58.499Z"
   },
   {
    "duration": 121,
    "start_time": "2023-03-30T14:23:22.124Z"
   },
   {
    "duration": 89,
    "start_time": "2023-03-30T14:23:49.375Z"
   },
   {
    "duration": 103,
    "start_time": "2023-03-30T14:24:10.827Z"
   },
   {
    "duration": 76,
    "start_time": "2023-03-30T14:24:37.265Z"
   },
   {
    "duration": 26,
    "start_time": "2023-03-30T14:25:03.066Z"
   },
   {
    "duration": 48,
    "start_time": "2023-03-30T14:25:29.880Z"
   },
   {
    "duration": 0,
    "start_time": "2023-03-30T15:47:07.747Z"
   },
   {
    "duration": 0,
    "start_time": "2023-03-30T15:47:07.748Z"
   },
   {
    "duration": 0,
    "start_time": "2023-03-30T15:47:07.762Z"
   },
   {
    "duration": 0,
    "start_time": "2023-03-30T15:47:07.763Z"
   },
   {
    "duration": 0,
    "start_time": "2023-03-30T15:47:07.765Z"
   },
   {
    "duration": 1147,
    "start_time": "2023-03-30T15:47:16.030Z"
   },
   {
    "duration": 70,
    "start_time": "2023-03-30T15:47:17.180Z"
   },
   {
    "duration": 23,
    "start_time": "2023-03-30T15:47:17.252Z"
   },
   {
    "duration": 3,
    "start_time": "2023-03-30T15:47:17.277Z"
   },
   {
    "duration": 129,
    "start_time": "2023-03-30T15:47:17.281Z"
   },
   {
    "duration": 1142,
    "start_time": "2023-03-30T15:47:32.575Z"
   },
   {
    "duration": 68,
    "start_time": "2023-03-30T15:47:33.718Z"
   },
   {
    "duration": 19,
    "start_time": "2023-03-30T15:47:33.787Z"
   },
   {
    "duration": 9,
    "start_time": "2023-03-30T15:47:33.808Z"
   },
   {
    "duration": 577,
    "start_time": "2023-03-30T15:47:33.819Z"
   },
   {
    "duration": 1125,
    "start_time": "2023-03-30T16:18:27.435Z"
   },
   {
    "duration": 63,
    "start_time": "2023-03-30T16:18:28.561Z"
   },
   {
    "duration": 18,
    "start_time": "2023-03-30T16:18:28.626Z"
   },
   {
    "duration": 7,
    "start_time": "2023-03-30T16:18:28.645Z"
   },
   {
    "duration": 430,
    "start_time": "2023-03-30T16:18:28.661Z"
   },
   {
    "duration": 1079,
    "start_time": "2023-03-30T16:32:55.195Z"
   },
   {
    "duration": 66,
    "start_time": "2023-03-30T16:32:56.276Z"
   },
   {
    "duration": 18,
    "start_time": "2023-03-30T16:32:56.344Z"
   },
   {
    "duration": 4,
    "start_time": "2023-03-30T16:32:56.364Z"
   },
   {
    "duration": 5,
    "start_time": "2023-03-30T16:32:56.370Z"
   },
   {
    "duration": 4,
    "start_time": "2023-03-30T16:33:20.234Z"
   },
   {
    "duration": 13,
    "start_time": "2023-03-30T16:35:41.270Z"
   },
   {
    "duration": 116,
    "start_time": "2023-03-30T16:35:58.094Z"
   },
   {
    "duration": 24,
    "start_time": "2023-03-30T16:36:45.615Z"
   },
   {
    "duration": 25,
    "start_time": "2023-03-30T16:37:00.110Z"
   },
   {
    "duration": 1098,
    "start_time": "2023-03-30T16:37:11.790Z"
   },
   {
    "duration": 64,
    "start_time": "2023-03-30T16:37:12.890Z"
   },
   {
    "duration": 17,
    "start_time": "2023-03-30T16:37:12.956Z"
   },
   {
    "duration": 124,
    "start_time": "2023-03-30T16:37:12.976Z"
   },
   {
    "duration": 0,
    "start_time": "2023-03-30T16:37:13.101Z"
   },
   {
    "duration": 0,
    "start_time": "2023-03-30T16:37:13.102Z"
   },
   {
    "duration": 23,
    "start_time": "2023-03-30T16:37:53.720Z"
   },
   {
    "duration": 22,
    "start_time": "2023-03-30T16:37:58.031Z"
   },
   {
    "duration": 31,
    "start_time": "2023-03-30T16:38:19.495Z"
   },
   {
    "duration": 14,
    "start_time": "2023-03-30T16:39:23.255Z"
   },
   {
    "duration": 11,
    "start_time": "2023-03-30T16:40:16.030Z"
   },
   {
    "duration": 11,
    "start_time": "2023-03-30T16:40:21.127Z"
   },
   {
    "duration": 15,
    "start_time": "2023-03-30T16:40:34.070Z"
   },
   {
    "duration": 1077,
    "start_time": "2023-03-30T16:40:42.871Z"
   },
   {
    "duration": 67,
    "start_time": "2023-03-30T16:40:43.950Z"
   },
   {
    "duration": 29,
    "start_time": "2023-03-30T16:40:44.019Z"
   },
   {
    "duration": 134,
    "start_time": "2023-03-30T16:40:44.051Z"
   },
   {
    "duration": 0,
    "start_time": "2023-03-30T16:40:44.187Z"
   },
   {
    "duration": 0,
    "start_time": "2023-03-30T16:40:44.188Z"
   },
   {
    "duration": 10,
    "start_time": "2023-03-30T16:42:45.975Z"
   },
   {
    "duration": 1134,
    "start_time": "2023-03-30T16:47:19.935Z"
   },
   {
    "duration": 65,
    "start_time": "2023-03-30T16:47:21.070Z"
   },
   {
    "duration": 93,
    "start_time": "2023-03-30T16:47:21.137Z"
   },
   {
    "duration": 0,
    "start_time": "2023-03-30T16:47:21.232Z"
   },
   {
    "duration": 0,
    "start_time": "2023-03-30T16:47:21.233Z"
   },
   {
    "duration": 0,
    "start_time": "2023-03-30T16:47:21.234Z"
   },
   {
    "duration": 10,
    "start_time": "2023-03-30T16:49:09.111Z"
   },
   {
    "duration": 11,
    "start_time": "2023-03-30T16:51:23.130Z"
   },
   {
    "duration": 13,
    "start_time": "2023-03-30T16:51:32.433Z"
   },
   {
    "duration": 10,
    "start_time": "2023-03-30T16:55:42.695Z"
   },
   {
    "duration": 9,
    "start_time": "2023-03-30T16:56:17.015Z"
   },
   {
    "duration": 9,
    "start_time": "2023-03-30T16:56:25.551Z"
   },
   {
    "duration": 10,
    "start_time": "2023-03-30T16:56:53.711Z"
   },
   {
    "duration": 9,
    "start_time": "2023-03-30T16:56:57.712Z"
   },
   {
    "duration": 11,
    "start_time": "2023-03-30T16:57:04.430Z"
   },
   {
    "duration": 12,
    "start_time": "2023-03-30T16:57:16.056Z"
   },
   {
    "duration": 12,
    "start_time": "2023-03-30T16:57:23.091Z"
   },
   {
    "duration": 1141,
    "start_time": "2023-03-30T16:57:27.771Z"
   },
   {
    "duration": 77,
    "start_time": "2023-03-30T16:57:28.914Z"
   },
   {
    "duration": 124,
    "start_time": "2023-03-30T16:57:28.993Z"
   },
   {
    "duration": 0,
    "start_time": "2023-03-30T16:57:29.119Z"
   },
   {
    "duration": 0,
    "start_time": "2023-03-30T16:57:29.120Z"
   },
   {
    "duration": 0,
    "start_time": "2023-03-30T16:57:29.121Z"
   },
   {
    "duration": 0,
    "start_time": "2023-03-30T16:57:29.122Z"
   },
   {
    "duration": 1097,
    "start_time": "2023-03-30T16:57:48.285Z"
   },
   {
    "duration": 72,
    "start_time": "2023-03-30T16:57:49.384Z"
   },
   {
    "duration": 22,
    "start_time": "2023-03-30T16:57:49.457Z"
   },
   {
    "duration": 5,
    "start_time": "2023-03-30T16:57:49.482Z"
   },
   {
    "duration": 121,
    "start_time": "2023-03-30T16:57:49.489Z"
   },
   {
    "duration": 0,
    "start_time": "2023-03-30T16:57:49.611Z"
   },
   {
    "duration": 0,
    "start_time": "2023-03-30T16:57:49.612Z"
   },
   {
    "duration": 1132,
    "start_time": "2023-03-30T16:58:35.731Z"
   },
   {
    "duration": 65,
    "start_time": "2023-03-30T16:58:36.866Z"
   },
   {
    "duration": 118,
    "start_time": "2023-03-30T16:58:36.933Z"
   },
   {
    "duration": 0,
    "start_time": "2023-03-30T16:58:37.052Z"
   },
   {
    "duration": 0,
    "start_time": "2023-03-30T16:58:37.053Z"
   },
   {
    "duration": 0,
    "start_time": "2023-03-30T16:58:37.055Z"
   },
   {
    "duration": 0,
    "start_time": "2023-03-30T16:58:37.056Z"
   },
   {
    "duration": 9,
    "start_time": "2023-03-30T16:58:48.751Z"
   },
   {
    "duration": 11,
    "start_time": "2023-03-30T16:58:52.831Z"
   },
   {
    "duration": 42,
    "start_time": "2023-03-30T16:59:09.791Z"
   },
   {
    "duration": 68,
    "start_time": "2023-03-30T16:59:28.540Z"
   },
   {
    "duration": 1129,
    "start_time": "2023-03-30T16:59:44.651Z"
   },
   {
    "duration": 69,
    "start_time": "2023-03-30T16:59:45.782Z"
   },
   {
    "duration": 99,
    "start_time": "2023-03-30T16:59:45.853Z"
   },
   {
    "duration": 0,
    "start_time": "2023-03-30T16:59:45.953Z"
   },
   {
    "duration": 0,
    "start_time": "2023-03-30T16:59:45.954Z"
   },
   {
    "duration": 0,
    "start_time": "2023-03-30T16:59:45.955Z"
   },
   {
    "duration": 0,
    "start_time": "2023-03-30T16:59:45.956Z"
   },
   {
    "duration": 72,
    "start_time": "2023-03-30T17:00:09.140Z"
   },
   {
    "duration": 18,
    "start_time": "2023-03-30T17:00:17.799Z"
   },
   {
    "duration": 6,
    "start_time": "2023-03-30T17:00:26.550Z"
   },
   {
    "duration": 6,
    "start_time": "2023-03-30T17:00:31.111Z"
   },
   {
    "duration": 13,
    "start_time": "2023-03-30T17:00:37.230Z"
   },
   {
    "duration": 63,
    "start_time": "2023-03-30T17:01:18.430Z"
   },
   {
    "duration": 1097,
    "start_time": "2023-03-30T17:01:34.695Z"
   },
   {
    "duration": 63,
    "start_time": "2023-03-30T17:01:35.794Z"
   },
   {
    "duration": 18,
    "start_time": "2023-03-30T17:01:35.859Z"
   },
   {
    "duration": 6,
    "start_time": "2023-03-30T17:01:35.880Z"
   },
   {
    "duration": 138,
    "start_time": "2023-03-30T17:01:35.888Z"
   },
   {
    "duration": 0,
    "start_time": "2023-03-30T17:01:36.028Z"
   },
   {
    "duration": 0,
    "start_time": "2023-03-30T17:01:36.029Z"
   },
   {
    "duration": 9,
    "start_time": "2023-03-30T17:01:55.631Z"
   },
   {
    "duration": 9,
    "start_time": "2023-03-30T17:02:22.541Z"
   },
   {
    "duration": 11,
    "start_time": "2023-03-30T17:02:26.177Z"
   },
   {
    "duration": 12,
    "start_time": "2023-03-30T17:02:36.215Z"
   },
   {
    "duration": 1226,
    "start_time": "2023-03-30T17:02:59.052Z"
   },
   {
    "duration": 73,
    "start_time": "2023-03-30T17:03:00.282Z"
   },
   {
    "duration": 19,
    "start_time": "2023-03-30T17:03:00.357Z"
   },
   {
    "duration": 25,
    "start_time": "2023-03-30T17:03:00.378Z"
   },
   {
    "duration": 130,
    "start_time": "2023-03-30T17:03:00.405Z"
   },
   {
    "duration": 0,
    "start_time": "2023-03-30T17:03:00.537Z"
   },
   {
    "duration": 0,
    "start_time": "2023-03-30T17:03:00.538Z"
   },
   {
    "duration": 1123,
    "start_time": "2023-03-30T17:03:18.051Z"
   },
   {
    "duration": 65,
    "start_time": "2023-03-30T17:03:19.177Z"
   },
   {
    "duration": 104,
    "start_time": "2023-03-30T17:03:19.244Z"
   },
   {
    "duration": 0,
    "start_time": "2023-03-30T17:03:19.349Z"
   },
   {
    "duration": 0,
    "start_time": "2023-03-30T17:03:19.350Z"
   },
   {
    "duration": 0,
    "start_time": "2023-03-30T17:03:19.352Z"
   },
   {
    "duration": 0,
    "start_time": "2023-03-30T17:03:19.361Z"
   },
   {
    "duration": 18,
    "start_time": "2023-03-30T17:03:37.679Z"
   },
   {
    "duration": 1102,
    "start_time": "2023-03-30T17:06:18.067Z"
   },
   {
    "duration": 63,
    "start_time": "2023-03-30T17:06:19.174Z"
   },
   {
    "duration": 15,
    "start_time": "2023-03-30T17:06:19.238Z"
   },
   {
    "duration": 121,
    "start_time": "2023-03-30T17:06:19.255Z"
   },
   {
    "duration": 0,
    "start_time": "2023-03-30T17:06:19.378Z"
   },
   {
    "duration": 0,
    "start_time": "2023-03-30T17:06:19.379Z"
   },
   {
    "duration": 15,
    "start_time": "2023-03-30T17:06:30.951Z"
   },
   {
    "duration": 3,
    "start_time": "2023-03-30T17:06:47.691Z"
   },
   {
    "duration": 3,
    "start_time": "2023-03-30T17:06:54.774Z"
   },
   {
    "duration": 11,
    "start_time": "2023-03-30T17:07:56.193Z"
   },
   {
    "duration": 9,
    "start_time": "2023-03-30T17:08:30.091Z"
   },
   {
    "duration": 11,
    "start_time": "2023-03-30T17:08:42.680Z"
   },
   {
    "duration": 8,
    "start_time": "2023-03-30T17:08:48.697Z"
   },
   {
    "duration": 7,
    "start_time": "2023-03-30T17:08:56.311Z"
   },
   {
    "duration": 1189,
    "start_time": "2023-03-30T17:09:00.840Z"
   },
   {
    "duration": 70,
    "start_time": "2023-03-30T17:09:02.031Z"
   },
   {
    "duration": 16,
    "start_time": "2023-03-30T17:09:02.103Z"
   },
   {
    "duration": 143,
    "start_time": "2023-03-30T17:09:02.121Z"
   },
   {
    "duration": 0,
    "start_time": "2023-03-30T17:09:02.267Z"
   },
   {
    "duration": 0,
    "start_time": "2023-03-30T17:09:02.269Z"
   },
   {
    "duration": 593,
    "start_time": "2023-03-30T17:09:45.660Z"
   },
   {
    "duration": 645,
    "start_time": "2023-03-30T17:10:14.551Z"
   },
   {
    "duration": 632,
    "start_time": "2023-03-30T17:10:21.440Z"
   },
   {
    "duration": 16,
    "start_time": "2023-03-30T17:10:43.932Z"
   },
   {
    "duration": 1116,
    "start_time": "2023-03-30T17:10:52.691Z"
   },
   {
    "duration": 85,
    "start_time": "2023-03-30T17:10:53.808Z"
   },
   {
    "duration": 18,
    "start_time": "2023-03-30T17:10:53.895Z"
   },
   {
    "duration": 163,
    "start_time": "2023-03-30T17:10:53.915Z"
   },
   {
    "duration": 0,
    "start_time": "2023-03-30T17:10:54.081Z"
   },
   {
    "duration": 0,
    "start_time": "2023-03-30T17:10:54.082Z"
   },
   {
    "duration": 22,
    "start_time": "2023-03-30T17:11:05.172Z"
   },
   {
    "duration": 15,
    "start_time": "2023-03-30T17:11:14.234Z"
   },
   {
    "duration": 32,
    "start_time": "2023-03-30T17:11:24.037Z"
   },
   {
    "duration": 15,
    "start_time": "2023-03-30T17:12:01.591Z"
   },
   {
    "duration": 1203,
    "start_time": "2023-03-30T17:12:05.850Z"
   },
   {
    "duration": 74,
    "start_time": "2023-03-30T17:12:07.055Z"
   },
   {
    "duration": 19,
    "start_time": "2023-03-30T17:12:07.130Z"
   },
   {
    "duration": 143,
    "start_time": "2023-03-30T17:12:07.150Z"
   },
   {
    "duration": 0,
    "start_time": "2023-03-30T17:12:07.294Z"
   },
   {
    "duration": 0,
    "start_time": "2023-03-30T17:12:07.296Z"
   },
   {
    "duration": 5,
    "start_time": "2023-03-30T17:18:23.170Z"
   },
   {
    "duration": 15,
    "start_time": "2023-03-30T17:19:49.311Z"
   },
   {
    "duration": 10,
    "start_time": "2023-03-30T17:20:03.050Z"
   },
   {
    "duration": 12,
    "start_time": "2023-03-30T17:23:14.871Z"
   },
   {
    "duration": 16,
    "start_time": "2023-03-30T17:23:27.730Z"
   },
   {
    "duration": 15,
    "start_time": "2023-03-30T17:23:53.670Z"
   },
   {
    "duration": 12,
    "start_time": "2023-03-30T17:24:04.130Z"
   },
   {
    "duration": 10,
    "start_time": "2023-03-30T17:24:15.011Z"
   },
   {
    "duration": 10,
    "start_time": "2023-03-30T17:29:53.505Z"
   },
   {
    "duration": 10,
    "start_time": "2023-03-30T17:30:05.410Z"
   },
   {
    "duration": 10,
    "start_time": "2023-03-30T17:30:18.182Z"
   },
   {
    "duration": 1228,
    "start_time": "2023-03-30T17:30:29.951Z"
   },
   {
    "duration": 68,
    "start_time": "2023-03-30T17:30:31.182Z"
   },
   {
    "duration": 18,
    "start_time": "2023-03-30T17:30:31.252Z"
   },
   {
    "duration": 10,
    "start_time": "2023-03-30T17:30:31.276Z"
   },
   {
    "duration": 57,
    "start_time": "2023-03-30T17:30:31.288Z"
   },
   {
    "duration": 24,
    "start_time": "2023-03-30T17:30:31.347Z"
   },
   {
    "duration": 1125,
    "start_time": "2023-03-30T17:30:46.080Z"
   },
   {
    "duration": 81,
    "start_time": "2023-03-30T17:30:47.207Z"
   },
   {
    "duration": 20,
    "start_time": "2023-03-30T17:30:47.290Z"
   },
   {
    "duration": 10,
    "start_time": "2023-03-30T17:30:47.311Z"
   },
   {
    "duration": 4,
    "start_time": "2023-03-30T17:30:47.323Z"
   },
   {
    "duration": 5,
    "start_time": "2023-03-30T17:30:47.328Z"
   },
   {
    "duration": 14,
    "start_time": "2023-03-30T17:31:29.492Z"
   },
   {
    "duration": 5,
    "start_time": "2023-03-30T17:32:16.932Z"
   },
   {
    "duration": 1194,
    "start_time": "2023-03-30T17:40:59.011Z"
   },
   {
    "duration": 89,
    "start_time": "2023-03-30T17:41:00.207Z"
   },
   {
    "duration": 19,
    "start_time": "2023-03-30T17:41:00.298Z"
   },
   {
    "duration": 34,
    "start_time": "2023-03-30T17:41:00.320Z"
   },
   {
    "duration": 18,
    "start_time": "2023-03-30T17:41:00.356Z"
   },
   {
    "duration": 34,
    "start_time": "2023-03-30T17:41:00.377Z"
   },
   {
    "duration": 6,
    "start_time": "2023-03-30T17:42:01.271Z"
   },
   {
    "duration": 18,
    "start_time": "2023-03-30T17:43:10.156Z"
   },
   {
    "duration": 9,
    "start_time": "2023-03-30T17:43:28.432Z"
   },
   {
    "duration": 8,
    "start_time": "2023-03-30T17:43:46.110Z"
   },
   {
    "duration": 8,
    "start_time": "2023-03-30T17:44:13.011Z"
   },
   {
    "duration": 8,
    "start_time": "2023-03-30T17:59:28.391Z"
   },
   {
    "duration": 3,
    "start_time": "2023-03-30T18:09:32.091Z"
   },
   {
    "duration": 199,
    "start_time": "2023-03-30T18:15:05.681Z"
   },
   {
    "duration": 93,
    "start_time": "2023-03-30T18:15:15.320Z"
   },
   {
    "duration": 32,
    "start_time": "2023-03-30T18:15:50.211Z"
   },
   {
    "duration": 86,
    "start_time": "2023-03-30T18:16:15.131Z"
   },
   {
    "duration": 32,
    "start_time": "2023-03-30T18:16:27.286Z"
   },
   {
    "duration": 1058,
    "start_time": "2023-03-30T18:16:41.810Z"
   },
   {
    "duration": 75,
    "start_time": "2023-03-30T18:16:42.870Z"
   },
   {
    "duration": 22,
    "start_time": "2023-03-30T18:16:42.946Z"
   },
   {
    "duration": 1237,
    "start_time": "2023-03-30T18:16:42.971Z"
   },
   {
    "duration": 1183,
    "start_time": "2023-03-30T18:16:57.931Z"
   },
   {
    "duration": 74,
    "start_time": "2023-03-30T18:16:59.116Z"
   },
   {
    "duration": 17,
    "start_time": "2023-03-30T18:16:59.192Z"
   },
   {
    "duration": 1452,
    "start_time": "2023-03-30T18:16:59.211Z"
   },
   {
    "duration": 1122,
    "start_time": "2023-03-30T19:08:51.148Z"
   },
   {
    "duration": 64,
    "start_time": "2023-03-30T19:08:52.272Z"
   },
   {
    "duration": 17,
    "start_time": "2023-03-30T19:08:52.337Z"
   },
   {
    "duration": 1204,
    "start_time": "2023-03-30T19:08:52.356Z"
   },
   {
    "duration": 151,
    "start_time": "2023-03-30T19:09:53.851Z"
   },
   {
    "duration": 81,
    "start_time": "2023-03-30T19:10:42.431Z"
   },
   {
    "duration": 10,
    "start_time": "2023-03-30T19:11:26.831Z"
   },
   {
    "duration": 1163,
    "start_time": "2023-03-30T19:11:32.539Z"
   },
   {
    "duration": 67,
    "start_time": "2023-03-30T19:11:33.704Z"
   },
   {
    "duration": 17,
    "start_time": "2023-03-30T19:11:33.772Z"
   },
   {
    "duration": 4,
    "start_time": "2023-03-30T19:11:33.791Z"
   },
   {
    "duration": 1319,
    "start_time": "2023-03-30T19:11:33.797Z"
   },
   {
    "duration": 3,
    "start_time": "2023-03-30T19:12:00.030Z"
   },
   {
    "duration": 11,
    "start_time": "2023-03-30T19:12:29.126Z"
   },
   {
    "duration": 9,
    "start_time": "2023-03-30T19:12:35.059Z"
   },
   {
    "duration": 9,
    "start_time": "2023-03-30T19:12:39.448Z"
   },
   {
    "duration": 11,
    "start_time": "2023-03-30T19:12:47.970Z"
   },
   {
    "duration": 8,
    "start_time": "2023-03-30T19:12:50.861Z"
   },
   {
    "duration": 3,
    "start_time": "2023-03-30T19:13:37.851Z"
   },
   {
    "duration": 1176,
    "start_time": "2023-03-30T19:14:36.431Z"
   },
   {
    "duration": 64,
    "start_time": "2023-03-30T19:14:37.609Z"
   },
   {
    "duration": 17,
    "start_time": "2023-03-30T19:14:37.674Z"
   },
   {
    "duration": 26,
    "start_time": "2023-03-30T19:14:37.694Z"
   },
   {
    "duration": 194,
    "start_time": "2023-03-30T19:14:37.722Z"
   },
   {
    "duration": 82,
    "start_time": "2023-03-30T19:14:59.670Z"
   },
   {
    "duration": 136,
    "start_time": "2023-03-30T19:15:02.850Z"
   },
   {
    "duration": 79,
    "start_time": "2023-03-30T19:15:40.470Z"
   },
   {
    "duration": 1040,
    "start_time": "2023-03-30T19:15:57.790Z"
   },
   {
    "duration": 1076,
    "start_time": "2023-03-30T19:16:14.810Z"
   },
   {
    "duration": 63,
    "start_time": "2023-03-30T19:16:15.888Z"
   },
   {
    "duration": 16,
    "start_time": "2023-03-30T19:16:15.954Z"
   },
   {
    "duration": 7,
    "start_time": "2023-03-30T19:16:15.972Z"
   },
   {
    "duration": 1428,
    "start_time": "2023-03-30T19:16:15.981Z"
   },
   {
    "duration": 1224,
    "start_time": "2023-03-30T19:16:24.271Z"
   },
   {
    "duration": 1166,
    "start_time": "2023-03-30T19:16:34.251Z"
   },
   {
    "duration": 61,
    "start_time": "2023-03-30T19:16:35.420Z"
   },
   {
    "duration": 16,
    "start_time": "2023-03-30T19:16:35.483Z"
   },
   {
    "duration": 7,
    "start_time": "2023-03-30T19:16:35.501Z"
   },
   {
    "duration": 1151,
    "start_time": "2023-03-30T19:16:35.510Z"
   },
   {
    "duration": 30,
    "start_time": "2023-03-30T19:16:59.850Z"
   },
   {
    "duration": 1144,
    "start_time": "2023-03-30T19:17:22.131Z"
   },
   {
    "duration": 63,
    "start_time": "2023-03-30T19:17:23.277Z"
   },
   {
    "duration": 16,
    "start_time": "2023-03-30T19:17:23.342Z"
   },
   {
    "duration": 17,
    "start_time": "2023-03-30T19:17:23.359Z"
   },
   {
    "duration": 1289,
    "start_time": "2023-03-30T19:17:23.378Z"
   },
   {
    "duration": 1118,
    "start_time": "2023-03-30T19:17:48.050Z"
   },
   {
    "duration": 61,
    "start_time": "2023-03-30T19:17:49.169Z"
   },
   {
    "duration": 16,
    "start_time": "2023-03-30T19:17:49.232Z"
   },
   {
    "duration": 12,
    "start_time": "2023-03-30T19:17:49.250Z"
   },
   {
    "duration": 1182,
    "start_time": "2023-03-30T19:17:49.263Z"
   },
   {
    "duration": 1215,
    "start_time": "2023-03-30T19:18:29.931Z"
   },
   {
    "duration": 70,
    "start_time": "2023-03-30T19:18:31.148Z"
   },
   {
    "duration": 19,
    "start_time": "2023-03-30T19:18:31.220Z"
   },
   {
    "duration": 27,
    "start_time": "2023-03-30T19:18:31.241Z"
   },
   {
    "duration": 1193,
    "start_time": "2023-03-30T19:18:31.270Z"
   },
   {
    "duration": 1145,
    "start_time": "2023-03-30T19:20:00.671Z"
   },
   {
    "duration": 64,
    "start_time": "2023-03-30T19:20:01.818Z"
   },
   {
    "duration": 16,
    "start_time": "2023-03-30T19:20:01.884Z"
   },
   {
    "duration": 35,
    "start_time": "2023-03-30T19:20:01.902Z"
   },
   {
    "duration": 30,
    "start_time": "2023-03-30T19:20:01.939Z"
   },
   {
    "duration": 1124,
    "start_time": "2023-03-30T19:22:48.910Z"
   },
   {
    "duration": 63,
    "start_time": "2023-03-30T19:22:50.036Z"
   },
   {
    "duration": 16,
    "start_time": "2023-03-30T19:22:50.100Z"
   },
   {
    "duration": 7,
    "start_time": "2023-03-30T19:22:50.117Z"
   },
   {
    "duration": 1231,
    "start_time": "2023-03-30T19:22:50.125Z"
   },
   {
    "duration": 1059,
    "start_time": "2023-03-30T19:37:01.791Z"
   },
   {
    "duration": 64,
    "start_time": "2023-03-30T19:37:02.852Z"
   },
   {
    "duration": 17,
    "start_time": "2023-03-30T19:37:02.918Z"
   },
   {
    "duration": 7,
    "start_time": "2023-03-30T19:37:02.936Z"
   },
   {
    "duration": 1118,
    "start_time": "2023-03-30T19:37:02.945Z"
   },
   {
    "duration": 1184,
    "start_time": "2023-03-30T19:37:45.591Z"
   },
   {
    "duration": 63,
    "start_time": "2023-03-30T19:37:46.777Z"
   },
   {
    "duration": 22,
    "start_time": "2023-03-30T19:37:46.841Z"
   },
   {
    "duration": 8,
    "start_time": "2023-03-30T19:37:46.865Z"
   },
   {
    "duration": 1277,
    "start_time": "2023-03-30T19:37:46.874Z"
   },
   {
    "duration": 1360,
    "start_time": "2023-04-03T13:03:25.715Z"
   },
   {
    "duration": 228,
    "start_time": "2023-04-03T13:03:27.077Z"
   },
   {
    "duration": 20,
    "start_time": "2023-04-03T13:03:27.306Z"
   },
   {
    "duration": 19,
    "start_time": "2023-04-03T13:03:27.328Z"
   },
   {
    "duration": 1460,
    "start_time": "2023-04-03T13:03:27.349Z"
   },
   {
    "duration": 1216,
    "start_time": "2023-04-03T13:12:32.676Z"
   },
   {
    "duration": 69,
    "start_time": "2023-04-03T13:12:33.894Z"
   },
   {
    "duration": 17,
    "start_time": "2023-04-03T13:12:33.965Z"
   },
   {
    "duration": 23,
    "start_time": "2023-04-03T13:12:33.983Z"
   },
   {
    "duration": 124,
    "start_time": "2023-04-03T13:12:34.008Z"
   },
   {
    "duration": 0,
    "start_time": "2023-04-03T13:12:34.134Z"
   },
   {
    "duration": 1304,
    "start_time": "2023-04-03T13:13:10.379Z"
   },
   {
    "duration": 1316,
    "start_time": "2023-04-03T13:13:23.263Z"
   },
   {
    "duration": 4,
    "start_time": "2023-04-03T13:13:41.085Z"
   },
   {
    "duration": 7,
    "start_time": "2023-04-03T13:18:52.420Z"
   },
   {
    "duration": 883,
    "start_time": "2023-04-03T13:29:21.450Z"
   },
   {
    "duration": 14,
    "start_time": "2023-04-03T13:29:39.506Z"
   },
   {
    "duration": 10,
    "start_time": "2023-04-03T13:29:58.152Z"
   },
   {
    "duration": 6,
    "start_time": "2023-04-03T13:31:53.112Z"
   },
   {
    "duration": 495,
    "start_time": "2023-04-03T13:35:12.551Z"
   },
   {
    "duration": 12,
    "start_time": "2023-04-03T13:41:30.992Z"
   },
   {
    "duration": 0,
    "start_time": "2023-04-03T13:42:08.049Z"
   },
   {
    "duration": 0,
    "start_time": "2023-04-03T13:42:08.050Z"
   },
   {
    "duration": 0,
    "start_time": "2023-04-03T13:42:08.062Z"
   },
   {
    "duration": 0,
    "start_time": "2023-04-03T13:42:08.063Z"
   },
   {
    "duration": 0,
    "start_time": "2023-04-03T13:42:08.064Z"
   },
   {
    "duration": 0,
    "start_time": "2023-04-03T13:42:08.065Z"
   },
   {
    "duration": 0,
    "start_time": "2023-04-03T13:42:08.143Z"
   },
   {
    "duration": 0,
    "start_time": "2023-04-03T13:42:08.144Z"
   },
   {
    "duration": 0,
    "start_time": "2023-04-03T13:42:08.146Z"
   },
   {
    "duration": 1232,
    "start_time": "2023-04-03T13:42:24.370Z"
   },
   {
    "duration": 76,
    "start_time": "2023-04-03T13:42:25.605Z"
   },
   {
    "duration": 21,
    "start_time": "2023-04-03T13:42:25.683Z"
   },
   {
    "duration": 34,
    "start_time": "2023-04-03T13:42:25.707Z"
   },
   {
    "duration": 1335,
    "start_time": "2023-04-03T13:42:25.744Z"
   },
   {
    "duration": 7,
    "start_time": "2023-04-03T13:42:27.081Z"
   },
   {
    "duration": 21,
    "start_time": "2023-04-03T13:42:27.089Z"
   },
   {
    "duration": 840,
    "start_time": "2023-04-03T13:42:27.112Z"
   },
   {
    "duration": 375,
    "start_time": "2023-04-03T13:42:27.954Z"
   },
   {
    "duration": 43,
    "start_time": "2023-04-03T13:43:06.978Z"
   },
   {
    "duration": 1394,
    "start_time": "2023-04-03T13:45:35.082Z"
   },
   {
    "duration": 115,
    "start_time": "2023-04-03T13:45:36.479Z"
   },
   {
    "duration": 44,
    "start_time": "2023-04-03T13:45:36.597Z"
   },
   {
    "duration": 191,
    "start_time": "2023-04-03T13:45:36.646Z"
   },
   {
    "duration": 1405,
    "start_time": "2023-04-03T13:45:36.840Z"
   },
   {
    "duration": 12,
    "start_time": "2023-04-03T13:45:38.247Z"
   },
   {
    "duration": 45,
    "start_time": "2023-04-03T13:45:38.262Z"
   },
   {
    "duration": 18,
    "start_time": "2023-04-03T13:45:38.309Z"
   },
   {
    "duration": 1403,
    "start_time": "2023-04-03T13:45:38.330Z"
   },
   {
    "duration": 985,
    "start_time": "2023-04-03T13:46:53.257Z"
   },
   {
    "duration": 1329,
    "start_time": "2023-04-03T13:46:57.103Z"
   },
   {
    "duration": 3677,
    "start_time": "2023-04-03T13:47:11.814Z"
   },
   {
    "duration": 24558,
    "start_time": "2023-04-03T13:47:24.882Z"
   },
   {
    "duration": 118637,
    "start_time": "2023-04-03T13:48:33.727Z"
   },
   {
    "duration": 25757,
    "start_time": "2023-04-03T13:51:01.389Z"
   },
   {
    "duration": 50942,
    "start_time": "2023-04-03T13:51:42.180Z"
   },
   {
    "duration": 11,
    "start_time": "2023-04-03T13:57:15.378Z"
   },
   {
    "duration": 13,
    "start_time": "2023-04-03T13:57:50.751Z"
   },
   {
    "duration": 453,
    "start_time": "2023-04-03T13:57:58.198Z"
   },
   {
    "duration": 11688,
    "start_time": "2023-04-03T13:58:03.628Z"
   },
   {
    "duration": 0,
    "start_time": "2023-04-03T14:21:40.256Z"
   },
   {
    "duration": 0,
    "start_time": "2023-04-03T14:21:40.258Z"
   },
   {
    "duration": 0,
    "start_time": "2023-04-03T14:21:40.259Z"
   },
   {
    "duration": 0,
    "start_time": "2023-04-03T14:21:40.260Z"
   },
   {
    "duration": 0,
    "start_time": "2023-04-03T14:21:40.261Z"
   },
   {
    "duration": 0,
    "start_time": "2023-04-03T14:21:40.262Z"
   },
   {
    "duration": 0,
    "start_time": "2023-04-03T14:21:40.264Z"
   },
   {
    "duration": 0,
    "start_time": "2023-04-03T14:21:40.266Z"
   },
   {
    "duration": 0,
    "start_time": "2023-04-03T14:21:40.268Z"
   },
   {
    "duration": 0,
    "start_time": "2023-04-03T14:21:40.269Z"
   },
   {
    "duration": 1191,
    "start_time": "2023-04-03T14:21:44.109Z"
   },
   {
    "duration": 79,
    "start_time": "2023-04-03T14:21:45.302Z"
   },
   {
    "duration": 19,
    "start_time": "2023-04-03T14:21:45.383Z"
   },
   {
    "duration": 16,
    "start_time": "2023-04-03T14:21:45.404Z"
   },
   {
    "duration": 1326,
    "start_time": "2023-04-03T14:21:45.421Z"
   },
   {
    "duration": 9,
    "start_time": "2023-04-03T14:21:46.750Z"
   },
   {
    "duration": 25,
    "start_time": "2023-04-03T14:21:46.762Z"
   },
   {
    "duration": 652,
    "start_time": "2023-04-03T14:21:46.790Z"
   },
   {
    "duration": 11256,
    "start_time": "2023-04-03T14:21:47.444Z"
   },
   {
    "duration": 21,
    "start_time": "2023-04-03T14:21:58.703Z"
   },
   {
    "duration": 65,
    "start_time": "2023-04-03T14:22:15.381Z"
   },
   {
    "duration": 10972,
    "start_time": "2023-04-03T14:22:19.381Z"
   },
   {
    "duration": 23,
    "start_time": "2023-04-03T14:23:07.450Z"
   },
   {
    "duration": 23,
    "start_time": "2023-04-03T14:23:29.678Z"
   },
   {
    "duration": 79,
    "start_time": "2023-04-03T14:23:33.363Z"
   },
   {
    "duration": 11089,
    "start_time": "2023-04-03T14:23:40.648Z"
   },
   {
    "duration": 16259,
    "start_time": "2023-04-03T14:24:02.684Z"
   },
   {
    "duration": 66,
    "start_time": "2023-04-03T14:25:13.358Z"
   },
   {
    "duration": 19,
    "start_time": "2023-04-03T14:25:27.277Z"
   },
   {
    "duration": 21,
    "start_time": "2023-04-03T14:25:32.181Z"
   },
   {
    "duration": 16531,
    "start_time": "2023-04-03T14:25:34.690Z"
   },
   {
    "duration": 53,
    "start_time": "2023-04-03T14:38:53.519Z"
   },
   {
    "duration": 1133,
    "start_time": "2023-04-03T14:39:02.765Z"
   },
   {
    "duration": 76,
    "start_time": "2023-04-03T14:39:03.900Z"
   },
   {
    "duration": 18,
    "start_time": "2023-04-03T14:39:03.978Z"
   },
   {
    "duration": 9,
    "start_time": "2023-04-03T14:39:03.998Z"
   },
   {
    "duration": 1286,
    "start_time": "2023-04-03T14:39:04.008Z"
   },
   {
    "duration": 7,
    "start_time": "2023-04-03T14:39:05.296Z"
   },
   {
    "duration": 11,
    "start_time": "2023-04-03T14:39:05.305Z"
   },
   {
    "duration": 623,
    "start_time": "2023-04-03T14:39:05.318Z"
   },
   {
    "duration": 16695,
    "start_time": "2023-04-03T14:39:05.943Z"
   },
   {
    "duration": 6,
    "start_time": "2023-04-03T14:39:22.640Z"
   },
   {
    "duration": 43,
    "start_time": "2023-04-03T14:39:22.648Z"
   },
   {
    "duration": 4,
    "start_time": "2023-04-03T15:11:05.473Z"
   },
   {
    "duration": 1192,
    "start_time": "2023-04-03T15:35:49.322Z"
   },
   {
    "duration": 80,
    "start_time": "2023-04-03T15:35:50.517Z"
   },
   {
    "duration": 21,
    "start_time": "2023-04-03T15:35:50.599Z"
   },
   {
    "duration": 30,
    "start_time": "2023-04-03T15:35:50.622Z"
   },
   {
    "duration": 1344,
    "start_time": "2023-04-03T15:35:50.654Z"
   },
   {
    "duration": 6,
    "start_time": "2023-04-03T15:35:52.000Z"
   },
   {
    "duration": 17,
    "start_time": "2023-04-03T15:35:52.007Z"
   },
   {
    "duration": 516,
    "start_time": "2023-04-03T15:35:52.026Z"
   },
   {
    "duration": 17629,
    "start_time": "2023-04-03T15:35:52.544Z"
   },
   {
    "duration": 5,
    "start_time": "2023-04-03T15:36:10.175Z"
   },
   {
    "duration": 30,
    "start_time": "2023-04-03T15:36:10.182Z"
   },
   {
    "duration": 5,
    "start_time": "2023-04-03T15:36:10.214Z"
   },
   {
    "duration": 133,
    "start_time": "2023-04-03T15:36:10.221Z"
   },
   {
    "duration": 5,
    "start_time": "2023-04-03T15:36:56.291Z"
   },
   {
    "duration": 0,
    "start_time": "2023-04-03T15:44:09.399Z"
   },
   {
    "duration": 0,
    "start_time": "2023-04-03T15:44:09.400Z"
   },
   {
    "duration": 0,
    "start_time": "2023-04-03T15:44:09.401Z"
   },
   {
    "duration": 0,
    "start_time": "2023-04-03T15:44:09.402Z"
   },
   {
    "duration": 0,
    "start_time": "2023-04-03T15:44:09.403Z"
   },
   {
    "duration": 0,
    "start_time": "2023-04-03T15:44:09.404Z"
   },
   {
    "duration": 0,
    "start_time": "2023-04-03T15:44:09.405Z"
   },
   {
    "duration": 0,
    "start_time": "2023-04-03T15:44:09.406Z"
   },
   {
    "duration": 0,
    "start_time": "2023-04-03T15:44:09.407Z"
   },
   {
    "duration": 0,
    "start_time": "2023-04-03T15:44:09.408Z"
   },
   {
    "duration": 0,
    "start_time": "2023-04-03T15:44:09.409Z"
   },
   {
    "duration": 0,
    "start_time": "2023-04-03T15:44:09.410Z"
   },
   {
    "duration": 0,
    "start_time": "2023-04-03T15:44:09.411Z"
   },
   {
    "duration": 1265,
    "start_time": "2023-04-03T15:51:45.721Z"
   },
   {
    "duration": 76,
    "start_time": "2023-04-03T15:51:46.988Z"
   },
   {
    "duration": 17,
    "start_time": "2023-04-03T15:51:47.066Z"
   },
   {
    "duration": 7,
    "start_time": "2023-04-03T15:51:47.086Z"
   },
   {
    "duration": 1303,
    "start_time": "2023-04-03T15:51:47.095Z"
   },
   {
    "duration": 7,
    "start_time": "2023-04-03T15:51:48.400Z"
   },
   {
    "duration": 22,
    "start_time": "2023-04-03T15:51:48.409Z"
   },
   {
    "duration": 506,
    "start_time": "2023-04-03T15:51:48.440Z"
   },
   {
    "duration": 16789,
    "start_time": "2023-04-03T15:51:48.948Z"
   },
   {
    "duration": 5,
    "start_time": "2023-04-03T15:52:05.742Z"
   },
   {
    "duration": 61,
    "start_time": "2023-04-03T15:52:05.749Z"
   },
   {
    "duration": 4,
    "start_time": "2023-04-03T15:52:05.812Z"
   },
   {
    "duration": 34,
    "start_time": "2023-04-03T15:52:05.818Z"
   },
   {
    "duration": 1263,
    "start_time": "2023-04-03T15:54:05.334Z"
   },
   {
    "duration": 83,
    "start_time": "2023-04-03T15:54:06.600Z"
   },
   {
    "duration": 23,
    "start_time": "2023-04-03T15:54:06.686Z"
   },
   {
    "duration": 29,
    "start_time": "2023-04-03T15:54:06.712Z"
   },
   {
    "duration": 1369,
    "start_time": "2023-04-03T15:54:06.743Z"
   },
   {
    "duration": 6,
    "start_time": "2023-04-03T15:54:08.114Z"
   },
   {
    "duration": 34,
    "start_time": "2023-04-03T15:54:08.121Z"
   },
   {
    "duration": 494,
    "start_time": "2023-04-03T15:54:08.157Z"
   },
   {
    "duration": 16028,
    "start_time": "2023-04-03T15:54:08.743Z"
   },
   {
    "duration": 5,
    "start_time": "2023-04-03T15:54:24.773Z"
   },
   {
    "duration": 30,
    "start_time": "2023-04-03T15:54:24.779Z"
   },
   {
    "duration": 4,
    "start_time": "2023-04-03T15:54:24.811Z"
   },
   {
    "duration": 140,
    "start_time": "2023-04-03T15:54:24.817Z"
   },
   {
    "duration": 1111,
    "start_time": "2023-04-04T12:29:55.255Z"
   },
   {
    "duration": 100,
    "start_time": "2023-04-04T12:29:56.368Z"
   },
   {
    "duration": 14,
    "start_time": "2023-04-04T12:29:56.469Z"
   },
   {
    "duration": 9,
    "start_time": "2023-04-04T12:29:56.485Z"
   },
   {
    "duration": 1145,
    "start_time": "2023-04-04T12:29:56.495Z"
   },
   {
    "duration": 5,
    "start_time": "2023-04-04T12:29:57.641Z"
   },
   {
    "duration": 10,
    "start_time": "2023-04-04T12:29:57.647Z"
   },
   {
    "duration": 632,
    "start_time": "2023-04-04T12:29:57.658Z"
   },
   {
    "duration": 14598,
    "start_time": "2023-04-04T12:29:58.295Z"
   },
   {
    "duration": 4,
    "start_time": "2023-04-04T12:30:12.895Z"
   },
   {
    "duration": 28,
    "start_time": "2023-04-04T12:30:12.900Z"
   },
   {
    "duration": 7,
    "start_time": "2023-04-04T12:30:12.929Z"
   },
   {
    "duration": 109,
    "start_time": "2023-04-04T12:30:12.937Z"
   },
   {
    "duration": 64,
    "start_time": "2023-04-04T12:34:44.126Z"
   },
   {
    "duration": 14708,
    "start_time": "2023-04-04T12:34:50.415Z"
   },
   {
    "duration": 10,
    "start_time": "2023-04-04T12:35:19.636Z"
   },
   {
    "duration": 14533,
    "start_time": "2023-04-04T12:35:23.788Z"
   },
   {
    "duration": 575,
    "start_time": "2023-04-04T12:35:38.323Z"
   },
   {
    "duration": 27,
    "start_time": "2023-04-04T12:37:26.826Z"
   },
   {
    "duration": 14266,
    "start_time": "2023-04-04T12:37:32.798Z"
   },
   {
    "duration": 27,
    "start_time": "2023-04-04T12:41:31.746Z"
   },
   {
    "duration": 3,
    "start_time": "2023-04-04T12:41:36.756Z"
   },
   {
    "duration": 8,
    "start_time": "2023-04-04T12:41:38.666Z"
   },
   {
    "duration": 26,
    "start_time": "2023-04-04T12:44:12.827Z"
   },
   {
    "duration": 14694,
    "start_time": "2023-04-04T12:44:16.147Z"
   },
   {
    "duration": 19,
    "start_time": "2023-04-04T12:44:46.123Z"
   },
   {
    "duration": 14375,
    "start_time": "2023-04-04T12:44:49.006Z"
   },
   {
    "duration": 88,
    "start_time": "2023-04-04T12:48:26.907Z"
   },
   {
    "duration": 169939,
    "start_time": "2023-04-04T12:54:42.135Z"
   },
   {
    "duration": 12819,
    "start_time": "2023-04-04T12:58:24.902Z"
   },
   {
    "duration": 161,
    "start_time": "2023-04-04T13:00:46.035Z"
   },
   {
    "duration": 9817,
    "start_time": "2023-04-04T13:01:01.396Z"
   },
   {
    "duration": 7177,
    "start_time": "2023-04-04T13:01:21.035Z"
   },
   {
    "duration": 31769,
    "start_time": "2023-04-04T13:01:46.835Z"
   },
   {
    "duration": 1804,
    "start_time": "2023-04-04T13:03:02.635Z"
   },
   {
    "duration": 34041,
    "start_time": "2023-04-04T13:03:17.475Z"
   },
   {
    "duration": 13614,
    "start_time": "2023-04-04T13:05:52.115Z"
   },
   {
    "duration": 1089,
    "start_time": "2023-04-04T13:06:12.296Z"
   },
   {
    "duration": 64,
    "start_time": "2023-04-04T13:06:13.386Z"
   },
   {
    "duration": 17,
    "start_time": "2023-04-04T13:06:13.452Z"
   },
   {
    "duration": 7,
    "start_time": "2023-04-04T13:06:13.471Z"
   },
   {
    "duration": 1212,
    "start_time": "2023-04-04T13:06:13.480Z"
   },
   {
    "duration": 6,
    "start_time": "2023-04-04T13:06:14.694Z"
   },
   {
    "duration": 9,
    "start_time": "2023-04-04T13:06:14.702Z"
   },
   {
    "duration": 681,
    "start_time": "2023-04-04T13:06:14.713Z"
   },
   {
    "duration": 14729,
    "start_time": "2023-04-04T13:06:15.396Z"
   },
   {
    "duration": 74,
    "start_time": "2023-04-04T13:06:30.127Z"
   },
   {
    "duration": 0,
    "start_time": "2023-04-04T13:06:30.203Z"
   },
   {
    "duration": 0,
    "start_time": "2023-04-04T13:06:30.204Z"
   },
   {
    "duration": 0,
    "start_time": "2023-04-04T13:06:30.205Z"
   },
   {
    "duration": 0,
    "start_time": "2023-04-04T13:06:30.206Z"
   },
   {
    "duration": 0,
    "start_time": "2023-04-04T13:06:30.207Z"
   },
   {
    "duration": 1035,
    "start_time": "2023-04-04T13:06:53.149Z"
   },
   {
    "duration": 61,
    "start_time": "2023-04-04T13:06:54.186Z"
   },
   {
    "duration": 17,
    "start_time": "2023-04-04T13:06:54.248Z"
   },
   {
    "duration": 7,
    "start_time": "2023-04-04T13:06:54.267Z"
   },
   {
    "duration": 1119,
    "start_time": "2023-04-04T13:06:54.276Z"
   },
   {
    "duration": 6,
    "start_time": "2023-04-04T13:06:55.397Z"
   },
   {
    "duration": 11,
    "start_time": "2023-04-04T13:06:55.404Z"
   },
   {
    "duration": 576,
    "start_time": "2023-04-04T13:06:55.417Z"
   },
   {
    "duration": 15179,
    "start_time": "2023-04-04T13:06:55.995Z"
   },
   {
    "duration": 4,
    "start_time": "2023-04-04T13:07:11.176Z"
   },
   {
    "duration": 31,
    "start_time": "2023-04-04T13:07:11.181Z"
   },
   {
    "duration": 5,
    "start_time": "2023-04-04T13:07:11.214Z"
   },
   {
    "duration": 16,
    "start_time": "2023-04-04T13:07:11.220Z"
   },
   {
    "duration": 259,
    "start_time": "2023-04-04T13:07:11.238Z"
   },
   {
    "duration": 20113,
    "start_time": "2023-04-04T13:07:11.498Z"
   },
   {
    "duration": 1105,
    "start_time": "2023-04-04T13:10:13.459Z"
   },
   {
    "duration": 64,
    "start_time": "2023-04-04T13:10:14.566Z"
   },
   {
    "duration": 17,
    "start_time": "2023-04-04T13:10:14.632Z"
   },
   {
    "duration": 8,
    "start_time": "2023-04-04T13:10:14.651Z"
   },
   {
    "duration": 1235,
    "start_time": "2023-04-04T13:10:14.660Z"
   },
   {
    "duration": 7,
    "start_time": "2023-04-04T13:10:15.897Z"
   },
   {
    "duration": 9,
    "start_time": "2023-04-04T13:10:15.905Z"
   },
   {
    "duration": 382,
    "start_time": "2023-04-04T13:10:15.916Z"
   },
   {
    "duration": 14800,
    "start_time": "2023-04-04T13:10:16.390Z"
   },
   {
    "duration": 4,
    "start_time": "2023-04-04T13:10:31.192Z"
   },
   {
    "duration": 97,
    "start_time": "2023-04-04T13:10:31.198Z"
   },
   {
    "duration": 56,
    "start_time": "2023-04-04T13:10:31.297Z"
   },
   {
    "duration": 66,
    "start_time": "2023-04-04T13:10:31.355Z"
   },
   {
    "duration": 267,
    "start_time": "2023-04-04T13:10:31.423Z"
   },
   {
    "duration": 59451,
    "start_time": "2023-04-04T13:10:31.693Z"
   },
   {
    "duration": 3,
    "start_time": "2023-04-04T13:15:08.227Z"
   },
   {
    "duration": 110,
    "start_time": "2023-04-04T13:19:56.388Z"
   },
   {
    "duration": 3,
    "start_time": "2023-04-04T13:20:21.677Z"
   },
   {
    "duration": 56,
    "start_time": "2023-04-04T13:20:25.946Z"
   },
   {
    "duration": 50,
    "start_time": "2023-04-04T13:20:48.436Z"
   },
   {
    "duration": 27,
    "start_time": "2023-04-04T13:21:47.606Z"
   },
   {
    "duration": 3,
    "start_time": "2023-04-04T13:26:45.816Z"
   },
   {
    "duration": 25,
    "start_time": "2023-04-04T13:27:02.316Z"
   },
   {
    "duration": 3,
    "start_time": "2023-04-04T13:29:32.875Z"
   },
   {
    "duration": 26,
    "start_time": "2023-04-04T13:29:44.156Z"
   },
   {
    "duration": 273,
    "start_time": "2023-04-04T13:31:02.317Z"
   },
   {
    "duration": 1096,
    "start_time": "2023-04-04T13:34:08.619Z"
   },
   {
    "duration": 65,
    "start_time": "2023-04-04T13:34:09.717Z"
   },
   {
    "duration": 17,
    "start_time": "2023-04-04T13:34:09.784Z"
   },
   {
    "duration": 7,
    "start_time": "2023-04-04T13:34:09.803Z"
   },
   {
    "duration": 1181,
    "start_time": "2023-04-04T13:34:09.812Z"
   },
   {
    "duration": 5,
    "start_time": "2023-04-04T13:34:10.995Z"
   },
   {
    "duration": 9,
    "start_time": "2023-04-04T13:34:11.002Z"
   },
   {
    "duration": 3,
    "start_time": "2023-04-04T13:34:11.012Z"
   },
   {
    "duration": 118,
    "start_time": "2023-04-04T13:34:11.016Z"
   },
   {
    "duration": 0,
    "start_time": "2023-04-04T13:34:11.135Z"
   },
   {
    "duration": 0,
    "start_time": "2023-04-04T13:34:11.136Z"
   },
   {
    "duration": 0,
    "start_time": "2023-04-04T13:34:11.138Z"
   },
   {
    "duration": 0,
    "start_time": "2023-04-04T13:34:11.139Z"
   },
   {
    "duration": 0,
    "start_time": "2023-04-04T13:34:11.139Z"
   },
   {
    "duration": 0,
    "start_time": "2023-04-04T13:34:11.141Z"
   },
   {
    "duration": 0,
    "start_time": "2023-04-04T13:34:11.142Z"
   },
   {
    "duration": 0,
    "start_time": "2023-04-04T13:34:11.142Z"
   },
   {
    "duration": 0,
    "start_time": "2023-04-04T13:34:11.143Z"
   },
   {
    "duration": 1089,
    "start_time": "2023-04-04T13:34:30.100Z"
   },
   {
    "duration": 62,
    "start_time": "2023-04-04T13:34:31.192Z"
   },
   {
    "duration": 15,
    "start_time": "2023-04-04T13:34:31.255Z"
   },
   {
    "duration": 38,
    "start_time": "2023-04-04T13:34:31.272Z"
   },
   {
    "duration": 1179,
    "start_time": "2023-04-04T13:34:31.311Z"
   },
   {
    "duration": 5,
    "start_time": "2023-04-04T13:34:32.491Z"
   },
   {
    "duration": 22,
    "start_time": "2023-04-04T13:34:32.498Z"
   },
   {
    "duration": 16,
    "start_time": "2023-04-04T13:34:32.522Z"
   },
   {
    "duration": 729,
    "start_time": "2023-04-04T13:34:32.540Z"
   },
   {
    "duration": 0,
    "start_time": "2023-04-04T13:34:33.272Z"
   },
   {
    "duration": 0,
    "start_time": "2023-04-04T13:34:33.273Z"
   },
   {
    "duration": 0,
    "start_time": "2023-04-04T13:34:33.275Z"
   },
   {
    "duration": 0,
    "start_time": "2023-04-04T13:34:33.276Z"
   },
   {
    "duration": 0,
    "start_time": "2023-04-04T13:34:33.277Z"
   },
   {
    "duration": 0,
    "start_time": "2023-04-04T13:34:33.278Z"
   },
   {
    "duration": 0,
    "start_time": "2023-04-04T13:34:33.288Z"
   },
   {
    "duration": 0,
    "start_time": "2023-04-04T13:34:33.290Z"
   },
   {
    "duration": 0,
    "start_time": "2023-04-04T13:34:33.291Z"
   },
   {
    "duration": 1104,
    "start_time": "2023-04-04T13:34:48.179Z"
   },
   {
    "duration": 62,
    "start_time": "2023-04-04T13:34:49.285Z"
   },
   {
    "duration": 14,
    "start_time": "2023-04-04T13:34:49.348Z"
   },
   {
    "duration": 9,
    "start_time": "2023-04-04T13:34:49.363Z"
   },
   {
    "duration": 1116,
    "start_time": "2023-04-04T13:34:49.373Z"
   },
   {
    "duration": 5,
    "start_time": "2023-04-04T13:34:50.490Z"
   },
   {
    "duration": 17,
    "start_time": "2023-04-04T13:34:50.497Z"
   },
   {
    "duration": 7,
    "start_time": "2023-04-04T13:34:50.515Z"
   },
   {
    "duration": 1170,
    "start_time": "2023-04-04T13:34:50.523Z"
   },
   {
    "duration": 15628,
    "start_time": "2023-04-04T13:34:51.696Z"
   },
   {
    "duration": 11,
    "start_time": "2023-04-04T13:35:07.326Z"
   },
   {
    "duration": 4,
    "start_time": "2023-04-04T13:35:07.338Z"
   },
   {
    "duration": 47,
    "start_time": "2023-04-04T13:35:07.344Z"
   },
   {
    "duration": 3,
    "start_time": "2023-04-04T13:35:07.393Z"
   },
   {
    "duration": 17,
    "start_time": "2023-04-04T13:35:07.398Z"
   },
   {
    "duration": 278,
    "start_time": "2023-04-04T13:35:07.416Z"
   },
   {
    "duration": 19721,
    "start_time": "2023-04-04T13:35:07.790Z"
   },
   {
    "duration": 26,
    "start_time": "2023-04-04T13:35:27.513Z"
   },
   {
    "duration": 93,
    "start_time": "2023-04-04T13:36:38.029Z"
   },
   {
    "duration": 12,
    "start_time": "2023-04-04T13:36:42.714Z"
   },
   {
    "duration": 31,
    "start_time": "2023-04-04T13:37:39.655Z"
   },
   {
    "duration": 26,
    "start_time": "2023-04-04T13:37:53.156Z"
   },
   {
    "duration": 3,
    "start_time": "2023-04-04T13:38:23.297Z"
   },
   {
    "duration": 27,
    "start_time": "2023-04-04T13:38:27.335Z"
   },
   {
    "duration": 25,
    "start_time": "2023-04-04T13:38:32.379Z"
   },
   {
    "duration": 25,
    "start_time": "2023-04-04T13:38:55.835Z"
   },
   {
    "duration": 1056,
    "start_time": "2023-04-04T13:39:02.736Z"
   },
   {
    "duration": 62,
    "start_time": "2023-04-04T13:39:03.794Z"
   },
   {
    "duration": 15,
    "start_time": "2023-04-04T13:39:03.858Z"
   },
   {
    "duration": 7,
    "start_time": "2023-04-04T13:39:03.875Z"
   },
   {
    "duration": 1108,
    "start_time": "2023-04-04T13:39:03.887Z"
   },
   {
    "duration": 5,
    "start_time": "2023-04-04T13:39:04.997Z"
   },
   {
    "duration": 9,
    "start_time": "2023-04-04T13:39:05.004Z"
   },
   {
    "duration": 3,
    "start_time": "2023-04-04T13:39:05.015Z"
   },
   {
    "duration": 674,
    "start_time": "2023-04-04T13:39:05.019Z"
   },
   {
    "duration": 15567,
    "start_time": "2023-04-04T13:39:05.696Z"
   },
   {
    "duration": 11,
    "start_time": "2023-04-04T13:39:21.265Z"
   },
   {
    "duration": 3,
    "start_time": "2023-04-04T13:39:21.288Z"
   },
   {
    "duration": 35,
    "start_time": "2023-04-04T13:39:21.293Z"
   },
   {
    "duration": 4,
    "start_time": "2023-04-04T13:39:21.330Z"
   },
   {
    "duration": 14,
    "start_time": "2023-04-04T13:39:21.336Z"
   },
   {
    "duration": 341,
    "start_time": "2023-04-04T13:39:21.352Z"
   },
   {
    "duration": 19988,
    "start_time": "2023-04-04T13:39:21.695Z"
   },
   {
    "duration": 27,
    "start_time": "2023-04-04T13:39:41.685Z"
   },
   {
    "duration": 25,
    "start_time": "2023-04-04T13:41:18.435Z"
   },
   {
    "duration": 298,
    "start_time": "2023-04-04T13:44:26.995Z"
   },
   {
    "duration": 246,
    "start_time": "2023-04-04T13:44:37.243Z"
   },
   {
    "duration": 1051,
    "start_time": "2023-04-04T13:44:51.916Z"
   },
   {
    "duration": 63,
    "start_time": "2023-04-04T13:44:52.969Z"
   },
   {
    "duration": 15,
    "start_time": "2023-04-04T13:44:53.034Z"
   },
   {
    "duration": 26,
    "start_time": "2023-04-04T13:44:53.052Z"
   },
   {
    "duration": 1215,
    "start_time": "2023-04-04T13:44:53.079Z"
   },
   {
    "duration": 6,
    "start_time": "2023-04-04T13:44:54.297Z"
   },
   {
    "duration": 31,
    "start_time": "2023-04-04T13:44:54.304Z"
   },
   {
    "duration": 23,
    "start_time": "2023-04-04T13:44:54.337Z"
   },
   {
    "duration": 428,
    "start_time": "2023-04-04T13:44:54.362Z"
   },
   {
    "duration": 15616,
    "start_time": "2023-04-04T13:44:54.793Z"
   },
   {
    "duration": 12,
    "start_time": "2023-04-04T13:45:10.411Z"
   },
   {
    "duration": 87,
    "start_time": "2023-04-04T13:45:10.425Z"
   },
   {
    "duration": 60,
    "start_time": "2023-04-04T13:45:10.514Z"
   },
   {
    "duration": 4,
    "start_time": "2023-04-04T13:45:10.576Z"
   },
   {
    "duration": 30,
    "start_time": "2023-04-04T13:45:10.582Z"
   },
   {
    "duration": 277,
    "start_time": "2023-04-04T13:45:10.613Z"
   },
   {
    "duration": 20025,
    "start_time": "2023-04-04T13:45:10.892Z"
   },
   {
    "duration": 27,
    "start_time": "2023-04-04T13:45:30.919Z"
   },
   {
    "duration": 44,
    "start_time": "2023-04-04T13:45:30.947Z"
   },
   {
    "duration": 58,
    "start_time": "2023-04-04T13:48:49.634Z"
   },
   {
    "duration": 91,
    "start_time": "2023-04-04T13:51:23.595Z"
   },
   {
    "duration": 1110,
    "start_time": "2023-04-04T13:56:41.386Z"
   },
   {
    "duration": 63,
    "start_time": "2023-04-04T13:56:42.498Z"
   },
   {
    "duration": 18,
    "start_time": "2023-04-04T13:56:42.563Z"
   },
   {
    "duration": 13,
    "start_time": "2023-04-04T13:56:42.583Z"
   },
   {
    "duration": 7,
    "start_time": "2023-04-04T13:56:42.599Z"
   },
   {
    "duration": 25,
    "start_time": "2023-04-04T13:56:42.608Z"
   },
   {
    "duration": 6,
    "start_time": "2023-04-04T13:56:42.635Z"
   },
   {
    "duration": 11,
    "start_time": "2023-04-04T13:56:42.643Z"
   },
   {
    "duration": 4,
    "start_time": "2023-04-04T13:56:42.656Z"
   },
   {
    "duration": 527,
    "start_time": "2023-04-04T13:56:42.662Z"
   },
   {
    "duration": 15449,
    "start_time": "2023-04-04T13:56:43.192Z"
   },
   {
    "duration": 16,
    "start_time": "2023-04-04T13:56:58.643Z"
   },
   {
    "duration": 57,
    "start_time": "2023-04-04T13:56:58.661Z"
   },
   {
    "duration": 15,
    "start_time": "2023-04-04T13:56:58.720Z"
   },
   {
    "duration": 63,
    "start_time": "2023-04-04T13:56:58.737Z"
   },
   {
    "duration": 393,
    "start_time": "2023-04-04T13:56:58.802Z"
   },
   {
    "duration": 21638,
    "start_time": "2023-04-04T13:56:59.198Z"
   },
   {
    "duration": 27,
    "start_time": "2023-04-04T13:57:20.838Z"
   },
   {
    "duration": 60,
    "start_time": "2023-04-04T13:57:20.867Z"
   },
   {
    "duration": 1065,
    "start_time": "2023-04-04T13:57:22.619Z"
   },
   {
    "duration": 70,
    "start_time": "2023-04-04T13:57:23.686Z"
   },
   {
    "duration": 18,
    "start_time": "2023-04-04T13:57:23.758Z"
   },
   {
    "duration": 7,
    "start_time": "2023-04-04T13:57:23.778Z"
   },
   {
    "duration": 8,
    "start_time": "2023-04-04T13:57:23.788Z"
   },
   {
    "duration": 25,
    "start_time": "2023-04-04T13:57:23.797Z"
   },
   {
    "duration": 15,
    "start_time": "2023-04-04T13:57:23.823Z"
   },
   {
    "duration": 12,
    "start_time": "2023-04-04T13:57:23.839Z"
   },
   {
    "duration": 18,
    "start_time": "2023-04-04T13:57:23.852Z"
   },
   {
    "duration": 521,
    "start_time": "2023-04-04T13:57:23.873Z"
   },
   {
    "duration": 1155,
    "start_time": "2023-04-04T13:57:34.255Z"
   },
   {
    "duration": 63,
    "start_time": "2023-04-04T13:57:35.412Z"
   },
   {
    "duration": 15,
    "start_time": "2023-04-04T13:57:35.477Z"
   },
   {
    "duration": 7,
    "start_time": "2023-04-04T13:57:35.494Z"
   },
   {
    "duration": 24,
    "start_time": "2023-04-04T13:57:35.503Z"
   },
   {
    "duration": 15,
    "start_time": "2023-04-04T13:57:35.528Z"
   },
   {
    "duration": 10,
    "start_time": "2023-04-04T13:57:35.545Z"
   },
   {
    "duration": 19,
    "start_time": "2023-04-04T13:57:35.556Z"
   },
   {
    "duration": 16,
    "start_time": "2023-04-04T13:57:35.576Z"
   },
   {
    "duration": 12,
    "start_time": "2023-04-04T13:57:35.595Z"
   },
   {
    "duration": 483,
    "start_time": "2023-04-04T13:57:35.608Z"
   },
   {
    "duration": 15239,
    "start_time": "2023-04-04T13:57:36.094Z"
   },
   {
    "duration": 18,
    "start_time": "2023-04-04T13:57:51.334Z"
   },
   {
    "duration": 54,
    "start_time": "2023-04-04T13:57:51.354Z"
   },
   {
    "duration": 4,
    "start_time": "2023-04-04T13:57:51.410Z"
   },
   {
    "duration": 36,
    "start_time": "2023-04-04T13:57:51.415Z"
   },
   {
    "duration": 344,
    "start_time": "2023-04-04T13:57:51.452Z"
   },
   {
    "duration": 20917,
    "start_time": "2023-04-04T13:57:51.797Z"
   },
   {
    "duration": 29,
    "start_time": "2023-04-04T13:58:12.716Z"
   },
   {
    "duration": 70,
    "start_time": "2023-04-04T13:58:12.747Z"
   },
   {
    "duration": 1221,
    "start_time": "2023-04-04T13:59:24.055Z"
   },
   {
    "duration": 92,
    "start_time": "2023-04-04T13:59:25.279Z"
   },
   {
    "duration": 29,
    "start_time": "2023-04-04T13:59:25.373Z"
   },
   {
    "duration": 7,
    "start_time": "2023-04-04T13:59:25.406Z"
   },
   {
    "duration": 6,
    "start_time": "2023-04-04T13:59:25.415Z"
   },
   {
    "duration": 20,
    "start_time": "2023-04-04T13:59:25.422Z"
   },
   {
    "duration": 13,
    "start_time": "2023-04-04T13:59:25.444Z"
   },
   {
    "duration": 34,
    "start_time": "2023-04-04T13:59:25.459Z"
   },
   {
    "duration": 18,
    "start_time": "2023-04-04T13:59:25.495Z"
   },
   {
    "duration": 15,
    "start_time": "2023-04-04T13:59:25.516Z"
   },
   {
    "duration": 561,
    "start_time": "2023-04-04T13:59:25.532Z"
   },
   {
    "duration": 16068,
    "start_time": "2023-04-04T13:59:26.095Z"
   },
   {
    "duration": 25,
    "start_time": "2023-04-04T13:59:42.165Z"
   },
   {
    "duration": 31,
    "start_time": "2023-04-04T13:59:42.192Z"
   },
   {
    "duration": 4,
    "start_time": "2023-04-04T13:59:42.225Z"
   },
   {
    "duration": 122,
    "start_time": "2023-04-04T13:59:42.230Z"
   },
   {
    "duration": 0,
    "start_time": "2023-04-04T13:59:42.354Z"
   },
   {
    "duration": 0,
    "start_time": "2023-04-04T13:59:42.355Z"
   },
   {
    "duration": 0,
    "start_time": "2023-04-04T13:59:42.356Z"
   },
   {
    "duration": 0,
    "start_time": "2023-04-04T13:59:42.357Z"
   },
   {
    "duration": 1165,
    "start_time": "2023-04-04T14:03:10.156Z"
   },
   {
    "duration": 67,
    "start_time": "2023-04-04T14:03:11.322Z"
   },
   {
    "duration": 18,
    "start_time": "2023-04-04T14:03:11.391Z"
   },
   {
    "duration": 8,
    "start_time": "2023-04-04T14:03:11.412Z"
   },
   {
    "duration": 44,
    "start_time": "2023-04-04T14:03:11.422Z"
   },
   {
    "duration": 13,
    "start_time": "2023-04-04T14:03:11.468Z"
   },
   {
    "duration": 6,
    "start_time": "2023-04-04T14:03:11.489Z"
   },
   {
    "duration": 16,
    "start_time": "2023-04-04T14:03:11.497Z"
   },
   {
    "duration": 6,
    "start_time": "2023-04-04T14:03:11.515Z"
   },
   {
    "duration": 1475,
    "start_time": "2023-04-04T14:03:11.524Z"
   },
   {
    "duration": 15739,
    "start_time": "2023-04-04T14:03:13.088Z"
   },
   {
    "duration": 18,
    "start_time": "2023-04-04T14:03:28.828Z"
   },
   {
    "duration": 59,
    "start_time": "2023-04-04T14:03:28.847Z"
   },
   {
    "duration": 4,
    "start_time": "2023-04-04T14:03:28.908Z"
   },
   {
    "duration": 19,
    "start_time": "2023-04-04T14:03:28.914Z"
   },
   {
    "duration": 359,
    "start_time": "2023-04-04T14:03:28.935Z"
   },
   {
    "duration": 21777,
    "start_time": "2023-04-04T14:03:29.296Z"
   },
   {
    "duration": 36,
    "start_time": "2023-04-04T14:03:51.074Z"
   },
   {
    "duration": 52,
    "start_time": "2023-04-04T14:03:51.112Z"
   },
   {
    "duration": 78,
    "start_time": "2023-04-04T14:07:00.716Z"
   },
   {
    "duration": 253,
    "start_time": "2023-04-04T14:07:10.043Z"
   },
   {
    "duration": 20917,
    "start_time": "2023-04-04T14:07:29.736Z"
   },
   {
    "duration": 27,
    "start_time": "2023-04-04T14:08:06.715Z"
   },
   {
    "duration": 20210,
    "start_time": "2023-04-04T14:08:21.195Z"
   },
   {
    "duration": 20738,
    "start_time": "2023-04-04T14:09:08.355Z"
   },
   {
    "duration": 4,
    "start_time": "2023-04-04T14:13:19.699Z"
   },
   {
    "duration": 4,
    "start_time": "2023-04-04T14:14:24.423Z"
   },
   {
    "duration": 4,
    "start_time": "2023-04-04T14:14:36.476Z"
   },
   {
    "duration": 122,
    "start_time": "2023-04-04T14:14:51.555Z"
   },
   {
    "duration": 361,
    "start_time": "2023-04-04T14:15:37.403Z"
   },
   {
    "duration": 152,
    "start_time": "2023-04-04T14:15:43.215Z"
   },
   {
    "duration": 288,
    "start_time": "2023-04-04T14:17:40.156Z"
   },
   {
    "duration": 555,
    "start_time": "2023-04-04T14:18:26.735Z"
   },
   {
    "duration": 279,
    "start_time": "2023-04-04T14:18:36.494Z"
   },
   {
    "duration": 302,
    "start_time": "2023-04-04T14:20:41.035Z"
   },
   {
    "duration": 431,
    "start_time": "2023-04-04T14:21:20.787Z"
   },
   {
    "duration": 474,
    "start_time": "2023-04-04T14:21:33.335Z"
   },
   {
    "duration": 277,
    "start_time": "2023-04-04T14:21:47.996Z"
   },
   {
    "duration": 7838,
    "start_time": "2023-04-05T08:56:06.326Z"
   },
   {
    "duration": 118,
    "start_time": "2023-04-05T08:56:14.166Z"
   },
   {
    "duration": 19,
    "start_time": "2023-04-05T08:56:14.286Z"
   },
   {
    "duration": 8,
    "start_time": "2023-04-05T08:56:14.307Z"
   },
   {
    "duration": 124,
    "start_time": "2023-04-05T08:56:36.704Z"
   },
   {
    "duration": 21,
    "start_time": "2023-04-05T08:56:42.135Z"
   },
   {
    "duration": 509,
    "start_time": "2023-04-05T08:56:47.428Z"
   },
   {
    "duration": 27,
    "start_time": "2023-04-05T08:56:56.225Z"
   },
   {
    "duration": 19,
    "start_time": "2023-04-05T08:57:16.061Z"
   },
   {
    "duration": 3465,
    "start_time": "2023-04-05T08:57:43.687Z"
   },
   {
    "duration": 59,
    "start_time": "2023-04-05T08:57:57.859Z"
   },
   {
    "duration": 12,
    "start_time": "2023-04-05T08:58:08.289Z"
   },
   {
    "duration": 1782,
    "start_time": "2023-04-05T08:58:18.382Z"
   },
   {
    "duration": 12008,
    "start_time": "2023-04-05T08:58:26.140Z"
   },
   {
    "duration": 231911,
    "start_time": "2023-04-05T09:00:00.355Z"
   },
   {
    "duration": 26,
    "start_time": "2023-04-05T09:06:01.430Z"
   },
   {
    "duration": 49,
    "start_time": "2023-04-05T09:06:03.801Z"
   },
   {
    "duration": 40,
    "start_time": "2023-04-05T09:06:20.490Z"
   },
   {
    "duration": 4,
    "start_time": "2023-04-05T09:07:52.480Z"
   },
   {
    "duration": 24,
    "start_time": "2023-04-05T09:07:52.764Z"
   },
   {
    "duration": 34,
    "start_time": "2023-04-05T09:08:06.165Z"
   },
   {
    "duration": 34,
    "start_time": "2023-04-05T09:08:20.303Z"
   },
   {
    "duration": 6,
    "start_time": "2023-04-05T09:08:22.538Z"
   },
   {
    "duration": 15,
    "start_time": "2023-04-05T09:08:22.961Z"
   },
   {
    "duration": 6,
    "start_time": "2023-04-05T09:08:27.781Z"
   },
   {
    "duration": 5,
    "start_time": "2023-04-05T09:08:57.509Z"
   },
   {
    "duration": 18,
    "start_time": "2023-04-05T09:09:44.665Z"
   },
   {
    "duration": 40,
    "start_time": "2023-04-05T09:11:26.466Z"
   },
   {
    "duration": 4,
    "start_time": "2023-04-05T09:11:27.699Z"
   },
   {
    "duration": 11,
    "start_time": "2023-04-05T09:11:28.224Z"
   },
   {
    "duration": 21,
    "start_time": "2023-04-05T09:12:02.255Z"
   },
   {
    "duration": 11,
    "start_time": "2023-04-05T09:12:49.731Z"
   },
   {
    "duration": 18,
    "start_time": "2023-04-05T09:13:09.953Z"
   },
   {
    "duration": 1616,
    "start_time": "2023-04-05T12:37:51.282Z"
   },
   {
    "duration": 195,
    "start_time": "2023-04-05T12:37:52.900Z"
   },
   {
    "duration": 16,
    "start_time": "2023-04-05T12:37:53.096Z"
   },
   {
    "duration": 6,
    "start_time": "2023-04-05T12:37:53.114Z"
   },
   {
    "duration": 14,
    "start_time": "2023-04-05T12:37:53.121Z"
   },
   {
    "duration": 20,
    "start_time": "2023-04-05T12:37:53.137Z"
   },
   {
    "duration": 118,
    "start_time": "2023-04-05T12:37:53.158Z"
   },
   {
    "duration": 0,
    "start_time": "2023-04-05T12:37:53.277Z"
   },
   {
    "duration": 0,
    "start_time": "2023-04-05T12:37:53.278Z"
   },
   {
    "duration": 0,
    "start_time": "2023-04-05T12:37:53.279Z"
   },
   {
    "duration": 0,
    "start_time": "2023-04-05T12:37:53.280Z"
   },
   {
    "duration": 0,
    "start_time": "2023-04-05T12:37:53.281Z"
   },
   {
    "duration": 0,
    "start_time": "2023-04-05T12:37:53.282Z"
   },
   {
    "duration": 0,
    "start_time": "2023-04-05T12:37:53.283Z"
   },
   {
    "duration": 0,
    "start_time": "2023-04-05T12:37:53.284Z"
   },
   {
    "duration": 0,
    "start_time": "2023-04-05T12:37:53.285Z"
   },
   {
    "duration": 0,
    "start_time": "2023-04-05T12:37:53.286Z"
   },
   {
    "duration": 0,
    "start_time": "2023-04-05T12:37:53.287Z"
   },
   {
    "duration": 0,
    "start_time": "2023-04-05T12:37:53.287Z"
   },
   {
    "duration": 0,
    "start_time": "2023-04-05T12:37:53.288Z"
   },
   {
    "duration": 0,
    "start_time": "2023-04-05T12:37:53.289Z"
   },
   {
    "duration": 1284,
    "start_time": "2023-04-05T12:38:27.165Z"
   },
   {
    "duration": 60,
    "start_time": "2023-04-05T12:38:28.451Z"
   },
   {
    "duration": 16,
    "start_time": "2023-04-05T12:38:28.512Z"
   },
   {
    "duration": 5,
    "start_time": "2023-04-05T12:38:28.530Z"
   },
   {
    "duration": 18,
    "start_time": "2023-04-05T12:38:28.537Z"
   },
   {
    "duration": 11,
    "start_time": "2023-04-05T12:38:28.556Z"
   },
   {
    "duration": 3,
    "start_time": "2023-04-05T12:38:28.568Z"
   },
   {
    "duration": 11,
    "start_time": "2023-04-05T12:38:28.573Z"
   },
   {
    "duration": 66,
    "start_time": "2023-04-05T12:38:28.586Z"
   },
   {
    "duration": 3,
    "start_time": "2023-04-05T12:38:28.654Z"
   },
   {
    "duration": 19,
    "start_time": "2023-04-05T12:38:28.659Z"
   },
   {
    "duration": 177,
    "start_time": "2023-04-05T12:38:28.680Z"
   },
   {
    "duration": 17682,
    "start_time": "2023-04-05T12:38:28.859Z"
   },
   {
    "duration": 18,
    "start_time": "2023-04-05T12:38:46.548Z"
   },
   {
    "duration": 4,
    "start_time": "2023-04-05T12:38:46.568Z"
   },
   {
    "duration": 34,
    "start_time": "2023-04-05T12:38:46.573Z"
   },
   {
    "duration": 146,
    "start_time": "2023-04-05T12:38:46.609Z"
   },
   {
    "duration": 22125,
    "start_time": "2023-04-05T12:38:46.757Z"
   },
   {
    "duration": 19,
    "start_time": "2023-04-05T12:39:08.883Z"
   },
   {
    "duration": 283,
    "start_time": "2023-04-05T12:39:08.904Z"
   },
   {
    "duration": 43,
    "start_time": "2023-04-05T12:39:09.188Z"
   },
   {
    "duration": 15,
    "start_time": "2023-04-05T12:39:09.235Z"
   },
   {
    "duration": 35,
    "start_time": "2023-04-05T12:39:33.995Z"
   },
   {
    "duration": 29,
    "start_time": "2023-04-05T12:39:46.822Z"
   },
   {
    "duration": 28,
    "start_time": "2023-04-05T13:45:57.603Z"
   },
   {
    "duration": 38,
    "start_time": "2023-04-05T13:46:27.912Z"
   },
   {
    "duration": 55,
    "start_time": "2023-04-05T13:46:47.911Z"
   },
   {
    "duration": 123,
    "start_time": "2023-04-05T13:46:51.331Z"
   },
   {
    "duration": 1371,
    "start_time": "2023-04-05T13:48:41.841Z"
   },
   {
    "duration": 71,
    "start_time": "2023-04-05T13:48:43.214Z"
   },
   {
    "duration": 14,
    "start_time": "2023-04-05T13:48:43.287Z"
   },
   {
    "duration": 15,
    "start_time": "2023-04-05T13:48:43.303Z"
   },
   {
    "duration": 43,
    "start_time": "2023-04-05T13:48:43.320Z"
   },
   {
    "duration": 12,
    "start_time": "2023-04-05T13:48:43.365Z"
   },
   {
    "duration": 8,
    "start_time": "2023-04-05T13:48:43.378Z"
   },
   {
    "duration": 28,
    "start_time": "2023-04-05T13:48:43.387Z"
   },
   {
    "duration": 51,
    "start_time": "2023-04-05T13:48:43.416Z"
   },
   {
    "duration": 3,
    "start_time": "2023-04-05T13:48:43.469Z"
   },
   {
    "duration": 16,
    "start_time": "2023-04-05T13:48:43.473Z"
   },
   {
    "duration": 781,
    "start_time": "2023-04-05T13:48:43.490Z"
   },
   {
    "duration": 18153,
    "start_time": "2023-04-05T13:48:44.272Z"
   },
   {
    "duration": 32,
    "start_time": "2023-04-05T13:49:02.428Z"
   },
   {
    "duration": 29,
    "start_time": "2023-04-05T13:49:02.463Z"
   },
   {
    "duration": 42,
    "start_time": "2023-04-05T13:49:02.493Z"
   },
   {
    "duration": 67,
    "start_time": "2023-04-05T13:49:02.537Z"
   },
   {
    "duration": 22613,
    "start_time": "2023-04-05T13:49:02.654Z"
   },
   {
    "duration": 26,
    "start_time": "2023-04-05T13:49:25.269Z"
   },
   {
    "duration": 66,
    "start_time": "2023-04-05T13:49:25.297Z"
   },
   {
    "duration": 16372,
    "start_time": "2023-04-05T13:49:25.365Z"
   },
   {
    "duration": 264,
    "start_time": "2023-04-05T13:49:41.739Z"
   },
   {
    "duration": 34,
    "start_time": "2023-04-05T13:49:42.004Z"
   },
   {
    "duration": 18,
    "start_time": "2023-04-05T13:50:33.696Z"
   },
   {
    "duration": 1349,
    "start_time": "2023-04-05T13:53:22.012Z"
   },
   {
    "duration": 60,
    "start_time": "2023-04-05T13:53:23.364Z"
   },
   {
    "duration": 14,
    "start_time": "2023-04-05T13:53:23.425Z"
   },
   {
    "duration": 17,
    "start_time": "2023-04-05T13:53:23.441Z"
   },
   {
    "duration": 23,
    "start_time": "2023-04-05T13:53:23.460Z"
   },
   {
    "duration": 12,
    "start_time": "2023-04-05T13:53:23.485Z"
   },
   {
    "duration": 4,
    "start_time": "2023-04-05T13:53:23.499Z"
   },
   {
    "duration": 13,
    "start_time": "2023-04-05T13:53:23.505Z"
   },
   {
    "duration": 37,
    "start_time": "2023-04-05T13:53:23.520Z"
   },
   {
    "duration": 4,
    "start_time": "2023-04-05T13:53:23.559Z"
   },
   {
    "duration": 8,
    "start_time": "2023-04-05T13:53:23.565Z"
   },
   {
    "duration": 389,
    "start_time": "2023-04-05T13:53:23.574Z"
   },
   {
    "duration": 16407,
    "start_time": "2023-04-05T13:53:23.969Z"
   },
   {
    "duration": 19,
    "start_time": "2023-04-05T13:53:40.380Z"
   },
   {
    "duration": 4,
    "start_time": "2023-04-05T13:53:40.400Z"
   },
   {
    "duration": 34,
    "start_time": "2023-04-05T13:53:40.406Z"
   },
   {
    "duration": 42,
    "start_time": "2023-04-05T13:53:40.441Z"
   },
   {
    "duration": 21481,
    "start_time": "2023-04-05T13:53:40.486Z"
   },
   {
    "duration": 24,
    "start_time": "2023-04-05T13:54:01.968Z"
   },
   {
    "duration": 155,
    "start_time": "2023-04-05T13:54:01.994Z"
   },
   {
    "duration": 15644,
    "start_time": "2023-04-05T13:54:02.151Z"
   },
   {
    "duration": 270,
    "start_time": "2023-04-05T13:54:17.819Z"
   },
   {
    "duration": 41,
    "start_time": "2023-04-05T13:54:18.091Z"
   },
   {
    "duration": 47,
    "start_time": "2023-04-05T13:54:18.135Z"
   },
   {
    "duration": 15596,
    "start_time": "2023-04-05T13:56:19.696Z"
   },
   {
    "duration": 23,
    "start_time": "2023-04-05T13:56:35.294Z"
   },
   {
    "duration": 15673,
    "start_time": "2023-04-05T13:57:11.563Z"
   },
   {
    "duration": 130,
    "start_time": "2023-04-05T13:57:27.238Z"
   },
   {
    "duration": 15780,
    "start_time": "2023-04-05T13:57:28.892Z"
   },
   {
    "duration": 19,
    "start_time": "2023-04-05T13:57:44.673Z"
   },
   {
    "duration": 258,
    "start_time": "2023-04-05T13:58:00.113Z"
   },
   {
    "duration": 1282,
    "start_time": "2023-04-05T13:58:33.912Z"
   },
   {
    "duration": 71,
    "start_time": "2023-04-05T13:58:35.196Z"
   },
   {
    "duration": 24,
    "start_time": "2023-04-05T13:58:35.268Z"
   },
   {
    "duration": 13,
    "start_time": "2023-04-05T13:58:35.294Z"
   },
   {
    "duration": 18,
    "start_time": "2023-04-05T13:58:35.309Z"
   },
   {
    "duration": 38,
    "start_time": "2023-04-05T13:58:35.329Z"
   },
   {
    "duration": 6,
    "start_time": "2023-04-05T13:58:35.368Z"
   },
   {
    "duration": 8,
    "start_time": "2023-04-05T13:58:35.376Z"
   },
   {
    "duration": 43,
    "start_time": "2023-04-05T13:58:35.386Z"
   },
   {
    "duration": 3,
    "start_time": "2023-04-05T13:58:35.431Z"
   },
   {
    "duration": 187,
    "start_time": "2023-04-05T13:58:35.435Z"
   },
   {
    "duration": 949,
    "start_time": "2023-04-05T13:58:35.625Z"
   },
   {
    "duration": 15450,
    "start_time": "2023-04-05T13:58:36.649Z"
   },
   {
    "duration": 18,
    "start_time": "2023-04-05T13:58:52.100Z"
   },
   {
    "duration": 4,
    "start_time": "2023-04-05T13:58:52.120Z"
   },
   {
    "duration": 38,
    "start_time": "2023-04-05T13:58:52.125Z"
   },
   {
    "duration": 92,
    "start_time": "2023-04-05T13:58:52.165Z"
   },
   {
    "duration": 21466,
    "start_time": "2023-04-05T13:58:52.259Z"
   },
   {
    "duration": 34,
    "start_time": "2023-04-05T13:59:13.726Z"
   },
   {
    "duration": 106,
    "start_time": "2023-04-05T13:59:13.765Z"
   },
   {
    "duration": 15848,
    "start_time": "2023-04-05T13:59:13.873Z"
   },
   {
    "duration": 31,
    "start_time": "2023-04-05T13:59:29.723Z"
   },
   {
    "duration": 318,
    "start_time": "2023-04-05T13:59:29.756Z"
   },
   {
    "duration": 44,
    "start_time": "2023-04-05T13:59:30.075Z"
   },
   {
    "duration": 4,
    "start_time": "2023-04-05T14:13:24.816Z"
   },
   {
    "duration": 1438,
    "start_time": "2023-04-05T14:15:10.436Z"
   },
   {
    "duration": 65,
    "start_time": "2023-04-05T14:15:11.875Z"
   },
   {
    "duration": 24,
    "start_time": "2023-04-05T14:15:11.941Z"
   },
   {
    "duration": 9,
    "start_time": "2023-04-05T14:15:11.967Z"
   },
   {
    "duration": 507,
    "start_time": "2023-04-05T14:15:11.978Z"
   },
   {
    "duration": 0,
    "start_time": "2023-04-05T14:15:12.487Z"
   },
   {
    "duration": 0,
    "start_time": "2023-04-05T14:15:12.488Z"
   },
   {
    "duration": 0,
    "start_time": "2023-04-05T14:15:12.489Z"
   },
   {
    "duration": 0,
    "start_time": "2023-04-05T14:15:12.490Z"
   },
   {
    "duration": 0,
    "start_time": "2023-04-05T14:15:12.491Z"
   },
   {
    "duration": 0,
    "start_time": "2023-04-05T14:15:12.491Z"
   },
   {
    "duration": 0,
    "start_time": "2023-04-05T14:15:12.492Z"
   },
   {
    "duration": 0,
    "start_time": "2023-04-05T14:15:12.494Z"
   },
   {
    "duration": 0,
    "start_time": "2023-04-05T14:15:12.494Z"
   },
   {
    "duration": 1,
    "start_time": "2023-04-05T14:15:12.495Z"
   },
   {
    "duration": 0,
    "start_time": "2023-04-05T14:15:12.497Z"
   },
   {
    "duration": 0,
    "start_time": "2023-04-05T14:15:12.498Z"
   },
   {
    "duration": 0,
    "start_time": "2023-04-05T14:15:12.498Z"
   },
   {
    "duration": 0,
    "start_time": "2023-04-05T14:15:12.499Z"
   },
   {
    "duration": 0,
    "start_time": "2023-04-05T14:15:12.500Z"
   },
   {
    "duration": 0,
    "start_time": "2023-04-05T14:15:12.501Z"
   },
   {
    "duration": 0,
    "start_time": "2023-04-05T14:15:12.503Z"
   },
   {
    "duration": 0,
    "start_time": "2023-04-05T14:15:12.504Z"
   },
   {
    "duration": 0,
    "start_time": "2023-04-05T14:15:12.505Z"
   },
   {
    "duration": 0,
    "start_time": "2023-04-05T14:15:12.506Z"
   },
   {
    "duration": 220,
    "start_time": "2023-04-05T14:17:07.861Z"
   },
   {
    "duration": 219,
    "start_time": "2023-04-05T14:17:14.023Z"
   },
   {
    "duration": 484,
    "start_time": "2023-04-05T14:17:45.882Z"
   },
   {
    "duration": 12,
    "start_time": "2023-04-05T14:22:20.911Z"
   },
   {
    "duration": 13,
    "start_time": "2023-04-05T14:22:30.617Z"
   },
   {
    "duration": 19,
    "start_time": "2023-04-05T14:22:48.165Z"
   },
   {
    "duration": 14,
    "start_time": "2023-04-05T14:22:53.771Z"
   },
   {
    "duration": 233,
    "start_time": "2023-04-05T14:27:25.684Z"
   },
   {
    "duration": 20,
    "start_time": "2023-04-05T14:28:22.113Z"
   },
   {
    "duration": 16,
    "start_time": "2023-04-05T14:28:29.816Z"
   },
   {
    "duration": 217,
    "start_time": "2023-04-05T14:35:18.199Z"
   },
   {
    "duration": 237,
    "start_time": "2023-04-05T14:35:36.335Z"
   },
   {
    "duration": 8,
    "start_time": "2023-04-05T15:08:12.123Z"
   },
   {
    "duration": 8,
    "start_time": "2023-04-05T15:08:39.944Z"
   },
   {
    "duration": 8,
    "start_time": "2023-04-05T15:10:02.040Z"
   },
   {
    "duration": 56,
    "start_time": "2023-04-05T15:10:17.571Z"
   },
   {
    "duration": 8,
    "start_time": "2023-04-05T15:11:17.992Z"
   },
   {
    "duration": 13625,
    "start_time": "2023-04-05T15:13:26.932Z"
   },
   {
    "duration": 26551,
    "start_time": "2023-04-05T15:15:17.462Z"
   },
   {
    "duration": 39,
    "start_time": "2023-04-05T15:17:28.432Z"
   },
   {
    "duration": 1361,
    "start_time": "2023-04-05T15:17:39.313Z"
   },
   {
    "duration": 66,
    "start_time": "2023-04-05T15:17:40.675Z"
   },
   {
    "duration": 18,
    "start_time": "2023-04-05T15:17:40.742Z"
   },
   {
    "duration": 7,
    "start_time": "2023-04-05T15:17:40.763Z"
   },
   {
    "duration": 22,
    "start_time": "2023-04-05T15:17:40.771Z"
   },
   {
    "duration": 21,
    "start_time": "2023-04-05T15:17:40.795Z"
   },
   {
    "duration": 31,
    "start_time": "2023-04-05T15:17:40.818Z"
   },
   {
    "duration": 3,
    "start_time": "2023-04-05T15:17:40.851Z"
   },
   {
    "duration": 18,
    "start_time": "2023-04-05T15:17:40.856Z"
   },
   {
    "duration": 757,
    "start_time": "2023-04-05T15:17:40.876Z"
   },
   {
    "duration": 0,
    "start_time": "2023-04-05T15:17:41.634Z"
   },
   {
    "duration": 0,
    "start_time": "2023-04-05T15:17:41.635Z"
   },
   {
    "duration": 0,
    "start_time": "2023-04-05T15:17:41.636Z"
   },
   {
    "duration": 0,
    "start_time": "2023-04-05T15:17:41.637Z"
   },
   {
    "duration": 0,
    "start_time": "2023-04-05T15:17:41.638Z"
   },
   {
    "duration": 0,
    "start_time": "2023-04-05T15:17:41.639Z"
   },
   {
    "duration": 0,
    "start_time": "2023-04-05T15:17:41.648Z"
   },
   {
    "duration": 0,
    "start_time": "2023-04-05T15:17:41.649Z"
   },
   {
    "duration": 0,
    "start_time": "2023-04-05T15:17:41.651Z"
   },
   {
    "duration": 0,
    "start_time": "2023-04-05T15:17:41.652Z"
   },
   {
    "duration": 0,
    "start_time": "2023-04-05T15:17:41.652Z"
   },
   {
    "duration": 0,
    "start_time": "2023-04-05T15:17:41.654Z"
   },
   {
    "duration": 0,
    "start_time": "2023-04-05T15:17:41.654Z"
   },
   {
    "duration": 0,
    "start_time": "2023-04-05T15:17:41.655Z"
   },
   {
    "duration": 0,
    "start_time": "2023-04-05T15:17:41.656Z"
   },
   {
    "duration": 0,
    "start_time": "2023-04-05T15:17:41.657Z"
   },
   {
    "duration": 18,
    "start_time": "2023-04-05T15:18:16.451Z"
   },
   {
    "duration": 1283,
    "start_time": "2023-04-05T15:19:08.452Z"
   },
   {
    "duration": 73,
    "start_time": "2023-04-05T15:19:09.737Z"
   },
   {
    "duration": 16,
    "start_time": "2023-04-05T15:19:09.812Z"
   },
   {
    "duration": 19,
    "start_time": "2023-04-05T15:19:09.830Z"
   },
   {
    "duration": 12,
    "start_time": "2023-04-05T15:19:09.852Z"
   },
   {
    "duration": 17,
    "start_time": "2023-04-05T15:19:09.866Z"
   },
   {
    "duration": 11,
    "start_time": "2023-04-05T15:19:09.884Z"
   },
   {
    "duration": 3,
    "start_time": "2023-04-05T15:19:09.897Z"
   },
   {
    "duration": 7,
    "start_time": "2023-04-05T15:19:09.901Z"
   },
   {
    "duration": 766,
    "start_time": "2023-04-05T15:19:09.910Z"
   },
   {
    "duration": 0,
    "start_time": "2023-04-05T15:19:10.677Z"
   },
   {
    "duration": 0,
    "start_time": "2023-04-05T15:19:10.678Z"
   },
   {
    "duration": 0,
    "start_time": "2023-04-05T15:19:10.679Z"
   },
   {
    "duration": 0,
    "start_time": "2023-04-05T15:19:10.680Z"
   },
   {
    "duration": 0,
    "start_time": "2023-04-05T15:19:10.681Z"
   },
   {
    "duration": 0,
    "start_time": "2023-04-05T15:19:10.681Z"
   },
   {
    "duration": 0,
    "start_time": "2023-04-05T15:19:10.682Z"
   },
   {
    "duration": 0,
    "start_time": "2023-04-05T15:19:10.683Z"
   },
   {
    "duration": 0,
    "start_time": "2023-04-05T15:19:10.684Z"
   },
   {
    "duration": 0,
    "start_time": "2023-04-05T15:19:10.685Z"
   },
   {
    "duration": 0,
    "start_time": "2023-04-05T15:19:10.686Z"
   },
   {
    "duration": 0,
    "start_time": "2023-04-05T15:19:10.686Z"
   },
   {
    "duration": 0,
    "start_time": "2023-04-05T15:19:10.687Z"
   },
   {
    "duration": 0,
    "start_time": "2023-04-05T15:19:10.688Z"
   },
   {
    "duration": 0,
    "start_time": "2023-04-05T15:19:10.688Z"
   },
   {
    "duration": 0,
    "start_time": "2023-04-05T15:19:10.689Z"
   },
   {
    "duration": 64,
    "start_time": "2023-04-05T15:21:29.806Z"
   },
   {
    "duration": 2110,
    "start_time": "2023-04-05T15:21:34.763Z"
   },
   {
    "duration": 2089,
    "start_time": "2023-04-05T15:21:51.693Z"
   },
   {
    "duration": 2094,
    "start_time": "2023-04-05T15:22:07.191Z"
   },
   {
    "duration": 2163,
    "start_time": "2023-04-05T15:22:49.205Z"
   },
   {
    "duration": 13,
    "start_time": "2023-04-05T15:25:20.291Z"
   },
   {
    "duration": 1256,
    "start_time": "2023-04-05T15:27:11.268Z"
   },
   {
    "duration": 67,
    "start_time": "2023-04-05T15:27:12.526Z"
   },
   {
    "duration": 15,
    "start_time": "2023-04-05T15:27:12.594Z"
   },
   {
    "duration": 8,
    "start_time": "2023-04-05T15:27:12.610Z"
   },
   {
    "duration": 14,
    "start_time": "2023-04-05T15:27:12.620Z"
   },
   {
    "duration": 25,
    "start_time": "2023-04-05T15:27:12.635Z"
   },
   {
    "duration": 10,
    "start_time": "2023-04-05T15:27:12.661Z"
   },
   {
    "duration": 8,
    "start_time": "2023-04-05T15:27:12.672Z"
   },
   {
    "duration": 9,
    "start_time": "2023-04-05T15:27:12.681Z"
   },
   {
    "duration": 13,
    "start_time": "2023-04-05T15:27:12.692Z"
   },
   {
    "duration": 61,
    "start_time": "2023-04-05T15:27:12.707Z"
   },
   {
    "duration": 3,
    "start_time": "2023-04-05T15:27:12.770Z"
   },
   {
    "duration": 7,
    "start_time": "2023-04-05T15:27:12.774Z"
   },
   {
    "duration": 173,
    "start_time": "2023-04-05T15:27:12.782Z"
   },
   {
    "duration": 14994,
    "start_time": "2023-04-05T15:27:12.957Z"
   },
   {
    "duration": 20,
    "start_time": "2023-04-05T15:27:27.953Z"
   },
   {
    "duration": 3,
    "start_time": "2023-04-05T15:27:27.974Z"
   },
   {
    "duration": 14,
    "start_time": "2023-04-05T15:27:27.979Z"
   },
   {
    "duration": 62,
    "start_time": "2023-04-05T15:27:27.994Z"
   },
   {
    "duration": 21064,
    "start_time": "2023-04-05T15:27:28.058Z"
   },
   {
    "duration": 31,
    "start_time": "2023-04-05T15:27:49.124Z"
   },
   {
    "duration": 194,
    "start_time": "2023-04-05T15:27:49.157Z"
   },
   {
    "duration": 15306,
    "start_time": "2023-04-05T15:27:49.353Z"
   },
   {
    "duration": 24,
    "start_time": "2023-04-05T15:28:04.661Z"
   },
   {
    "duration": 326,
    "start_time": "2023-04-05T15:28:04.687Z"
   },
   {
    "duration": 68,
    "start_time": "2023-04-05T15:28:05.014Z"
   },
   {
    "duration": 20370,
    "start_time": "2023-04-05T15:31:32.853Z"
   },
   {
    "duration": 1291,
    "start_time": "2023-04-05T15:32:09.193Z"
   },
   {
    "duration": 59,
    "start_time": "2023-04-05T15:32:10.486Z"
   },
   {
    "duration": 12,
    "start_time": "2023-04-05T15:32:10.546Z"
   },
   {
    "duration": 12,
    "start_time": "2023-04-05T15:32:10.560Z"
   },
   {
    "duration": 3,
    "start_time": "2023-04-05T15:32:10.573Z"
   },
   {
    "duration": 15,
    "start_time": "2023-04-05T15:32:10.577Z"
   },
   {
    "duration": 10,
    "start_time": "2023-04-05T15:32:10.593Z"
   },
   {
    "duration": 3,
    "start_time": "2023-04-05T15:32:10.604Z"
   },
   {
    "duration": 13,
    "start_time": "2023-04-05T15:32:10.608Z"
   },
   {
    "duration": 3,
    "start_time": "2023-04-05T15:32:10.648Z"
   },
   {
    "duration": 35,
    "start_time": "2023-04-05T15:32:10.652Z"
   },
   {
    "duration": 2,
    "start_time": "2023-04-05T15:32:10.688Z"
   },
   {
    "duration": 6,
    "start_time": "2023-04-05T15:32:10.691Z"
   },
   {
    "duration": 253,
    "start_time": "2023-04-05T15:32:10.699Z"
   },
   {
    "duration": 14574,
    "start_time": "2023-04-05T15:32:10.954Z"
   },
   {
    "duration": 19,
    "start_time": "2023-04-05T15:32:25.530Z"
   },
   {
    "duration": 3,
    "start_time": "2023-04-05T15:32:25.550Z"
   },
   {
    "duration": 16,
    "start_time": "2023-04-05T15:32:25.555Z"
   },
   {
    "duration": 80,
    "start_time": "2023-04-05T15:32:25.572Z"
   },
   {
    "duration": 20131,
    "start_time": "2023-04-05T15:32:25.653Z"
   },
   {
    "duration": 20,
    "start_time": "2023-04-05T15:32:45.785Z"
   },
   {
    "duration": 45,
    "start_time": "2023-04-05T15:32:45.806Z"
   },
   {
    "duration": 14821,
    "start_time": "2023-04-05T15:32:45.853Z"
   },
   {
    "duration": 21,
    "start_time": "2023-04-05T15:33:00.676Z"
   },
   {
    "duration": 281,
    "start_time": "2023-04-05T15:33:00.699Z"
   },
   {
    "duration": 38,
    "start_time": "2023-04-05T15:33:00.982Z"
   },
   {
    "duration": 128,
    "start_time": "2023-04-05T15:33:01.021Z"
   },
   {
    "duration": 1190,
    "start_time": "2023-04-05T15:34:57.252Z"
   },
   {
    "duration": 63,
    "start_time": "2023-04-05T15:34:58.444Z"
   },
   {
    "duration": 15,
    "start_time": "2023-04-05T15:34:58.509Z"
   },
   {
    "duration": 7,
    "start_time": "2023-04-05T15:34:58.526Z"
   },
   {
    "duration": 17,
    "start_time": "2023-04-05T15:34:58.536Z"
   },
   {
    "duration": 17,
    "start_time": "2023-04-05T15:34:58.554Z"
   },
   {
    "duration": 10,
    "start_time": "2023-04-05T15:34:58.572Z"
   },
   {
    "duration": 3,
    "start_time": "2023-04-05T15:34:58.583Z"
   },
   {
    "duration": 12,
    "start_time": "2023-04-05T15:34:58.587Z"
   },
   {
    "duration": 6,
    "start_time": "2023-04-05T15:34:58.601Z"
   },
   {
    "duration": 70,
    "start_time": "2023-04-05T15:34:58.608Z"
   },
   {
    "duration": 3,
    "start_time": "2023-04-05T15:34:58.679Z"
   },
   {
    "duration": 5,
    "start_time": "2023-04-05T15:34:58.683Z"
   },
   {
    "duration": 162,
    "start_time": "2023-04-05T15:34:58.690Z"
   },
   {
    "duration": 3833,
    "start_time": "2023-04-05T15:34:58.853Z"
   },
   {
    "duration": 0,
    "start_time": "2023-04-05T15:35:02.688Z"
   },
   {
    "duration": 0,
    "start_time": "2023-04-05T15:35:02.689Z"
   },
   {
    "duration": 0,
    "start_time": "2023-04-05T15:35:02.690Z"
   },
   {
    "duration": 0,
    "start_time": "2023-04-05T15:35:02.691Z"
   },
   {
    "duration": 0,
    "start_time": "2023-04-05T15:35:02.692Z"
   },
   {
    "duration": 0,
    "start_time": "2023-04-05T15:35:02.692Z"
   },
   {
    "duration": 0,
    "start_time": "2023-04-05T15:35:02.693Z"
   },
   {
    "duration": 0,
    "start_time": "2023-04-05T15:35:02.694Z"
   },
   {
    "duration": 0,
    "start_time": "2023-04-05T15:35:02.695Z"
   },
   {
    "duration": 0,
    "start_time": "2023-04-05T15:35:02.696Z"
   },
   {
    "duration": 0,
    "start_time": "2023-04-05T15:35:02.697Z"
   },
   {
    "duration": 0,
    "start_time": "2023-04-05T15:35:02.698Z"
   },
   {
    "duration": 1202,
    "start_time": "2023-04-05T15:35:33.300Z"
   },
   {
    "duration": 63,
    "start_time": "2023-04-05T15:35:34.504Z"
   },
   {
    "duration": 15,
    "start_time": "2023-04-05T15:35:34.569Z"
   },
   {
    "duration": 8,
    "start_time": "2023-04-05T15:35:34.585Z"
   },
   {
    "duration": 7,
    "start_time": "2023-04-05T15:35:34.595Z"
   },
   {
    "duration": 19,
    "start_time": "2023-04-05T15:35:34.604Z"
   },
   {
    "duration": 14,
    "start_time": "2023-04-05T15:35:34.649Z"
   },
   {
    "duration": 6,
    "start_time": "2023-04-05T15:35:34.664Z"
   },
   {
    "duration": 13,
    "start_time": "2023-04-05T15:35:34.672Z"
   },
   {
    "duration": 5,
    "start_time": "2023-04-05T15:35:34.687Z"
   },
   {
    "duration": 61,
    "start_time": "2023-04-05T15:35:34.693Z"
   },
   {
    "duration": 2,
    "start_time": "2023-04-05T15:35:34.756Z"
   },
   {
    "duration": 8,
    "start_time": "2023-04-05T15:35:34.760Z"
   },
   {
    "duration": 385,
    "start_time": "2023-04-05T15:35:34.770Z"
   },
   {
    "duration": 15812,
    "start_time": "2023-04-05T15:35:35.157Z"
   },
   {
    "duration": 19,
    "start_time": "2023-04-05T15:35:50.970Z"
   },
   {
    "duration": 4,
    "start_time": "2023-04-05T15:35:50.990Z"
   },
   {
    "duration": 15,
    "start_time": "2023-04-05T15:35:50.996Z"
   },
   {
    "duration": 54,
    "start_time": "2023-04-05T15:35:51.012Z"
   },
   {
    "duration": 20763,
    "start_time": "2023-04-05T15:35:51.068Z"
   },
   {
    "duration": 30,
    "start_time": "2023-04-05T15:36:11.832Z"
   },
   {
    "duration": 97,
    "start_time": "2023-04-05T15:36:11.863Z"
   },
   {
    "duration": 18415,
    "start_time": "2023-04-05T15:36:11.963Z"
   },
   {
    "duration": 20,
    "start_time": "2023-04-05T15:36:30.380Z"
   },
   {
    "duration": 284,
    "start_time": "2023-04-05T15:36:30.402Z"
   },
   {
    "duration": 40,
    "start_time": "2023-04-05T15:36:30.688Z"
   },
   {
    "duration": 160,
    "start_time": "2023-04-05T15:36:30.730Z"
   },
   {
    "duration": 158,
    "start_time": "2023-04-05T15:38:01.492Z"
   },
   {
    "duration": 53,
    "start_time": "2023-04-05T17:01:54.402Z"
   },
   {
    "duration": 1732,
    "start_time": "2023-04-05T17:02:00.567Z"
   },
   {
    "duration": 216,
    "start_time": "2023-04-05T17:02:02.306Z"
   },
   {
    "duration": 14,
    "start_time": "2023-04-05T17:02:02.523Z"
   },
   {
    "duration": 7,
    "start_time": "2023-04-05T17:02:02.539Z"
   },
   {
    "duration": 13,
    "start_time": "2023-04-05T17:02:02.547Z"
   },
   {
    "duration": 51,
    "start_time": "2023-04-05T17:02:02.562Z"
   },
   {
    "duration": 29,
    "start_time": "2023-04-05T17:02:02.615Z"
   },
   {
    "duration": 6,
    "start_time": "2023-04-05T17:02:02.645Z"
   },
   {
    "duration": 6,
    "start_time": "2023-04-05T17:02:02.652Z"
   },
   {
    "duration": 4,
    "start_time": "2023-04-05T17:02:02.660Z"
   },
   {
    "duration": 71,
    "start_time": "2023-04-05T17:02:02.665Z"
   },
   {
    "duration": 15,
    "start_time": "2023-04-05T17:02:02.738Z"
   },
   {
    "duration": 23,
    "start_time": "2023-04-05T17:02:02.754Z"
   },
   {
    "duration": 416,
    "start_time": "2023-04-05T17:02:02.779Z"
   },
   {
    "duration": 17362,
    "start_time": "2023-04-05T17:02:03.197Z"
   },
   {
    "duration": 28,
    "start_time": "2023-04-05T17:02:20.560Z"
   },
   {
    "duration": 24,
    "start_time": "2023-04-05T17:02:20.596Z"
   },
   {
    "duration": 35,
    "start_time": "2023-04-05T17:02:20.622Z"
   },
   {
    "duration": 130,
    "start_time": "2023-04-05T17:02:20.659Z"
   },
   {
    "duration": 22846,
    "start_time": "2023-04-05T17:02:20.791Z"
   },
   {
    "duration": 21,
    "start_time": "2023-04-05T17:02:43.638Z"
   },
   {
    "duration": 124,
    "start_time": "2023-04-05T17:02:43.661Z"
   },
   {
    "duration": 16555,
    "start_time": "2023-04-05T17:02:43.793Z"
   },
   {
    "duration": 23,
    "start_time": "2023-04-05T17:03:00.349Z"
   },
   {
    "duration": 322,
    "start_time": "2023-04-05T17:03:00.375Z"
   },
   {
    "duration": 50,
    "start_time": "2023-04-05T17:03:00.699Z"
   },
   {
    "duration": 183,
    "start_time": "2023-04-05T17:03:00.750Z"
   },
   {
    "duration": 1468,
    "start_time": "2023-04-05T17:07:47.056Z"
   },
   {
    "duration": 68,
    "start_time": "2023-04-05T17:07:48.525Z"
   },
   {
    "duration": 20,
    "start_time": "2023-04-05T17:07:48.596Z"
   },
   {
    "duration": 7,
    "start_time": "2023-04-05T17:07:48.618Z"
   },
   {
    "duration": 13,
    "start_time": "2023-04-05T17:07:48.626Z"
   },
   {
    "duration": 25,
    "start_time": "2023-04-05T17:07:48.640Z"
   },
   {
    "duration": 27,
    "start_time": "2023-04-05T17:07:48.666Z"
   },
   {
    "duration": 18,
    "start_time": "2023-04-05T17:07:48.695Z"
   },
   {
    "duration": 12,
    "start_time": "2023-04-05T17:07:48.715Z"
   },
   {
    "duration": 9,
    "start_time": "2023-04-05T17:07:48.730Z"
   },
   {
    "duration": 61,
    "start_time": "2023-04-05T17:07:48.740Z"
   },
   {
    "duration": 3,
    "start_time": "2023-04-05T17:07:48.803Z"
   },
   {
    "duration": 15,
    "start_time": "2023-04-05T17:07:48.808Z"
   },
   {
    "duration": 152,
    "start_time": "2023-04-05T17:07:48.825Z"
   },
   {
    "duration": 17365,
    "start_time": "2023-04-05T17:07:48.979Z"
   },
   {
    "duration": 43,
    "start_time": "2023-04-05T17:08:06.346Z"
   },
   {
    "duration": 34,
    "start_time": "2023-04-05T17:08:06.390Z"
   },
   {
    "duration": 34,
    "start_time": "2023-04-05T17:08:06.426Z"
   },
   {
    "duration": 130,
    "start_time": "2023-04-05T17:08:06.464Z"
   },
   {
    "duration": 23084,
    "start_time": "2023-04-05T17:08:06.598Z"
   },
   {
    "duration": 30,
    "start_time": "2023-04-05T17:08:29.691Z"
   },
   {
    "duration": 58,
    "start_time": "2023-04-05T17:08:29.723Z"
   },
   {
    "duration": 16403,
    "start_time": "2023-04-05T17:08:29.786Z"
   },
   {
    "duration": 25,
    "start_time": "2023-04-05T17:08:46.200Z"
   },
   {
    "duration": 320,
    "start_time": "2023-04-05T17:08:46.227Z"
   },
   {
    "duration": 56,
    "start_time": "2023-04-05T17:08:46.548Z"
   },
   {
    "duration": 188,
    "start_time": "2023-04-05T17:08:46.605Z"
   },
   {
    "duration": 1394,
    "start_time": "2023-04-05T18:22:34.441Z"
   },
   {
    "duration": 78,
    "start_time": "2023-04-05T18:22:35.837Z"
   },
   {
    "duration": 19,
    "start_time": "2023-04-05T18:22:35.917Z"
   },
   {
    "duration": 8,
    "start_time": "2023-04-05T18:22:35.939Z"
   },
   {
    "duration": 5,
    "start_time": "2023-04-05T18:22:35.949Z"
   },
   {
    "duration": 42,
    "start_time": "2023-04-05T18:22:35.955Z"
   },
   {
    "duration": 11,
    "start_time": "2023-04-05T18:22:35.999Z"
   },
   {
    "duration": 6,
    "start_time": "2023-04-05T18:22:36.011Z"
   },
   {
    "duration": 7,
    "start_time": "2023-04-05T18:22:36.019Z"
   },
   {
    "duration": 4,
    "start_time": "2023-04-05T18:22:36.028Z"
   },
   {
    "duration": 67,
    "start_time": "2023-04-05T18:22:36.033Z"
   },
   {
    "duration": 3,
    "start_time": "2023-04-05T18:22:36.102Z"
   },
   {
    "duration": 13,
    "start_time": "2023-04-05T18:22:36.106Z"
   },
   {
    "duration": 189,
    "start_time": "2023-04-05T18:22:36.120Z"
   },
   {
    "duration": 17144,
    "start_time": "2023-04-05T18:22:36.311Z"
   },
   {
    "duration": 24,
    "start_time": "2023-04-05T18:22:53.456Z"
   },
   {
    "duration": 16,
    "start_time": "2023-04-05T18:22:53.482Z"
   },
   {
    "duration": 25,
    "start_time": "2023-04-05T18:22:53.506Z"
   },
   {
    "duration": 57,
    "start_time": "2023-04-05T18:22:53.532Z"
   },
   {
    "duration": 23545,
    "start_time": "2023-04-05T18:22:53.591Z"
   },
   {
    "duration": 22,
    "start_time": "2023-04-05T18:23:17.138Z"
   },
   {
    "duration": 105,
    "start_time": "2023-04-05T18:23:17.174Z"
   },
   {
    "duration": 16587,
    "start_time": "2023-04-05T18:23:17.280Z"
   },
   {
    "duration": 33,
    "start_time": "2023-04-05T18:23:33.868Z"
   },
   {
    "duration": 296,
    "start_time": "2023-04-05T18:23:33.903Z"
   },
   {
    "duration": 40,
    "start_time": "2023-04-05T18:23:34.200Z"
   },
   {
    "duration": 172,
    "start_time": "2023-04-05T18:23:34.242Z"
   },
   {
    "duration": 1262,
    "start_time": "2023-04-05T18:24:40.855Z"
   },
   {
    "duration": 83,
    "start_time": "2023-04-05T18:24:42.119Z"
   },
   {
    "duration": 13,
    "start_time": "2023-04-05T18:24:42.203Z"
   },
   {
    "duration": 9,
    "start_time": "2023-04-05T18:24:42.217Z"
   },
   {
    "duration": 21,
    "start_time": "2023-04-05T18:24:42.228Z"
   },
   {
    "duration": 14,
    "start_time": "2023-04-05T18:24:42.250Z"
   },
   {
    "duration": 43,
    "start_time": "2023-04-05T18:24:42.266Z"
   },
   {
    "duration": 18,
    "start_time": "2023-04-05T18:24:42.310Z"
   },
   {
    "duration": 3,
    "start_time": "2023-04-05T18:24:42.330Z"
   },
   {
    "duration": 22,
    "start_time": "2023-04-05T18:24:42.334Z"
   },
   {
    "duration": 27,
    "start_time": "2023-04-05T18:24:42.357Z"
   },
   {
    "duration": 37,
    "start_time": "2023-04-05T18:24:42.385Z"
   },
   {
    "duration": 23,
    "start_time": "2023-04-05T18:24:42.424Z"
   },
   {
    "duration": 47,
    "start_time": "2023-04-05T18:24:42.449Z"
   },
   {
    "duration": 102,
    "start_time": "2023-04-05T18:24:42.498Z"
   },
   {
    "duration": 1271,
    "start_time": "2023-04-05T18:24:59.649Z"
   },
   {
    "duration": 70,
    "start_time": "2023-04-05T18:25:00.922Z"
   },
   {
    "duration": 17,
    "start_time": "2023-04-05T18:25:00.994Z"
   },
   {
    "duration": 4,
    "start_time": "2023-04-05T18:25:01.012Z"
   },
   {
    "duration": 10,
    "start_time": "2023-04-05T18:25:01.017Z"
   },
   {
    "duration": 14,
    "start_time": "2023-04-05T18:25:01.028Z"
   },
   {
    "duration": 22,
    "start_time": "2023-04-05T18:25:01.043Z"
   },
   {
    "duration": 20,
    "start_time": "2023-04-05T18:25:01.066Z"
   },
   {
    "duration": 43,
    "start_time": "2023-04-05T18:25:01.089Z"
   },
   {
    "duration": 16,
    "start_time": "2023-04-05T18:25:01.134Z"
   },
   {
    "duration": 23,
    "start_time": "2023-04-05T18:25:01.152Z"
   },
   {
    "duration": 120,
    "start_time": "2023-04-05T18:25:01.177Z"
   },
   {
    "duration": 11,
    "start_time": "2023-04-05T18:25:01.299Z"
   },
   {
    "duration": 82,
    "start_time": "2023-04-05T18:25:01.311Z"
   },
   {
    "duration": 885,
    "start_time": "2023-04-05T18:25:01.396Z"
   },
   {
    "duration": 17535,
    "start_time": "2023-04-05T18:25:02.283Z"
   },
   {
    "duration": 20,
    "start_time": "2023-04-05T18:25:19.820Z"
   },
   {
    "duration": 3,
    "start_time": "2023-04-05T18:25:19.842Z"
   },
   {
    "duration": 31,
    "start_time": "2023-04-05T18:25:19.846Z"
   },
   {
    "duration": 95,
    "start_time": "2023-04-05T18:25:19.894Z"
   },
   {
    "duration": 21807,
    "start_time": "2023-04-05T18:25:19.991Z"
   },
   {
    "duration": 22,
    "start_time": "2023-04-05T18:25:41.799Z"
   },
   {
    "duration": 79,
    "start_time": "2023-04-05T18:25:41.823Z"
   },
   {
    "duration": 17382,
    "start_time": "2023-04-05T18:25:41.976Z"
   },
   {
    "duration": 32,
    "start_time": "2023-04-05T18:25:59.360Z"
   },
   {
    "duration": 323,
    "start_time": "2023-04-05T18:25:59.396Z"
   },
   {
    "duration": 76,
    "start_time": "2023-04-05T18:25:59.721Z"
   },
   {
    "duration": 220,
    "start_time": "2023-04-05T18:25:59.808Z"
   },
   {
    "duration": 148,
    "start_time": "2023-04-05T18:34:46.872Z"
   },
   {
    "duration": 11,
    "start_time": "2023-04-05T18:35:00.951Z"
   },
   {
    "duration": 15,
    "start_time": "2023-04-05T18:35:07.711Z"
   },
   {
    "duration": 1281,
    "start_time": "2023-04-05T18:35:52.172Z"
   },
   {
    "duration": 75,
    "start_time": "2023-04-05T18:35:53.454Z"
   },
   {
    "duration": 21,
    "start_time": "2023-04-05T18:35:53.531Z"
   },
   {
    "duration": 183,
    "start_time": "2023-04-05T18:35:53.554Z"
   },
   {
    "duration": 0,
    "start_time": "2023-04-05T18:35:53.739Z"
   },
   {
    "duration": 0,
    "start_time": "2023-04-05T18:35:53.740Z"
   },
   {
    "duration": 0,
    "start_time": "2023-04-05T18:35:53.741Z"
   },
   {
    "duration": 0,
    "start_time": "2023-04-05T18:35:53.742Z"
   },
   {
    "duration": 0,
    "start_time": "2023-04-05T18:35:53.743Z"
   },
   {
    "duration": 0,
    "start_time": "2023-04-05T18:35:53.744Z"
   },
   {
    "duration": 0,
    "start_time": "2023-04-05T18:35:53.745Z"
   },
   {
    "duration": 0,
    "start_time": "2023-04-05T18:35:53.746Z"
   },
   {
    "duration": 0,
    "start_time": "2023-04-05T18:35:53.747Z"
   },
   {
    "duration": 0,
    "start_time": "2023-04-05T18:35:53.748Z"
   },
   {
    "duration": 0,
    "start_time": "2023-04-05T18:35:53.749Z"
   },
   {
    "duration": 0,
    "start_time": "2023-04-05T18:35:53.772Z"
   },
   {
    "duration": 0,
    "start_time": "2023-04-05T18:35:53.773Z"
   },
   {
    "duration": 0,
    "start_time": "2023-04-05T18:35:53.774Z"
   },
   {
    "duration": 0,
    "start_time": "2023-04-05T18:35:53.776Z"
   },
   {
    "duration": 1,
    "start_time": "2023-04-05T18:35:53.777Z"
   },
   {
    "duration": 0,
    "start_time": "2023-04-05T18:35:53.779Z"
   },
   {
    "duration": 0,
    "start_time": "2023-04-05T18:35:53.780Z"
   },
   {
    "duration": 0,
    "start_time": "2023-04-05T18:35:53.781Z"
   },
   {
    "duration": 1,
    "start_time": "2023-04-05T18:35:53.782Z"
   },
   {
    "duration": 0,
    "start_time": "2023-04-05T18:35:53.784Z"
   },
   {
    "duration": 0,
    "start_time": "2023-04-05T18:35:53.785Z"
   },
   {
    "duration": 0,
    "start_time": "2023-04-05T18:35:53.787Z"
   },
   {
    "duration": 18,
    "start_time": "2023-04-05T18:37:38.272Z"
   },
   {
    "duration": 18,
    "start_time": "2023-04-05T18:38:51.482Z"
   },
   {
    "duration": 21,
    "start_time": "2023-04-05T18:39:41.541Z"
   },
   {
    "duration": 36,
    "start_time": "2023-04-05T18:39:48.112Z"
   },
   {
    "duration": 1617,
    "start_time": "2023-04-05T18:40:18.738Z"
   },
   {
    "duration": 83,
    "start_time": "2023-04-05T18:40:20.356Z"
   },
   {
    "duration": 25,
    "start_time": "2023-04-05T18:40:20.441Z"
   },
   {
    "duration": 33,
    "start_time": "2023-04-05T18:40:20.469Z"
   },
   {
    "duration": 17,
    "start_time": "2023-04-05T18:40:20.504Z"
   },
   {
    "duration": 17,
    "start_time": "2023-04-05T18:40:20.522Z"
   },
   {
    "duration": 44,
    "start_time": "2023-04-05T18:40:20.541Z"
   },
   {
    "duration": 5,
    "start_time": "2023-04-05T18:40:20.587Z"
   },
   {
    "duration": 10,
    "start_time": "2023-04-05T18:40:20.594Z"
   },
   {
    "duration": 6,
    "start_time": "2023-04-05T18:40:20.606Z"
   },
   {
    "duration": 65,
    "start_time": "2023-04-05T18:40:20.613Z"
   },
   {
    "duration": 3,
    "start_time": "2023-04-05T18:40:20.680Z"
   },
   {
    "duration": 11,
    "start_time": "2023-04-05T18:40:20.685Z"
   },
   {
    "duration": 178,
    "start_time": "2023-04-05T18:40:20.697Z"
   },
   {
    "duration": 17406,
    "start_time": "2023-04-05T18:40:20.876Z"
   },
   {
    "duration": 19,
    "start_time": "2023-04-05T18:40:38.284Z"
   },
   {
    "duration": 28,
    "start_time": "2023-04-05T18:40:38.305Z"
   },
   {
    "duration": 22,
    "start_time": "2023-04-05T18:40:38.335Z"
   },
   {
    "duration": 124,
    "start_time": "2023-04-05T18:40:38.359Z"
   },
   {
    "duration": 21021,
    "start_time": "2023-04-05T18:40:38.485Z"
   },
   {
    "duration": 23,
    "start_time": "2023-04-05T18:40:59.508Z"
   },
   {
    "duration": 142,
    "start_time": "2023-04-05T18:40:59.533Z"
   },
   {
    "duration": 15664,
    "start_time": "2023-04-05T18:40:59.677Z"
   },
   {
    "duration": 32,
    "start_time": "2023-04-05T18:41:15.343Z"
   },
   {
    "duration": 411,
    "start_time": "2023-04-05T18:41:15.377Z"
   },
   {
    "duration": 51,
    "start_time": "2023-04-05T18:41:15.790Z"
   },
   {
    "duration": 214,
    "start_time": "2023-04-05T18:41:15.843Z"
   },
   {
    "duration": 1183,
    "start_time": "2023-04-05T18:41:53.530Z"
   },
   {
    "duration": 81,
    "start_time": "2023-04-05T18:41:54.715Z"
   },
   {
    "duration": 19,
    "start_time": "2023-04-05T18:41:54.798Z"
   },
   {
    "duration": 3,
    "start_time": "2023-04-05T18:41:54.819Z"
   },
   {
    "duration": 64,
    "start_time": "2023-04-05T18:41:54.824Z"
   },
   {
    "duration": 16,
    "start_time": "2023-04-05T18:41:54.889Z"
   },
   {
    "duration": 14,
    "start_time": "2023-04-05T18:41:54.907Z"
   },
   {
    "duration": 4,
    "start_time": "2023-04-05T18:41:54.922Z"
   },
   {
    "duration": 14,
    "start_time": "2023-04-05T18:41:54.928Z"
   },
   {
    "duration": 13,
    "start_time": "2023-04-05T18:41:54.944Z"
   },
   {
    "duration": 47,
    "start_time": "2023-04-05T18:41:54.972Z"
   },
   {
    "duration": 3,
    "start_time": "2023-04-05T18:41:55.020Z"
   },
   {
    "duration": 9,
    "start_time": "2023-04-05T18:41:55.024Z"
   },
   {
    "duration": 550,
    "start_time": "2023-04-05T18:41:55.034Z"
   },
   {
    "duration": 17537,
    "start_time": "2023-04-05T18:41:55.586Z"
   },
   {
    "duration": 23,
    "start_time": "2023-04-05T18:42:13.125Z"
   },
   {
    "duration": 5,
    "start_time": "2023-04-05T18:42:13.149Z"
   },
   {
    "duration": 27,
    "start_time": "2023-04-05T18:42:13.155Z"
   },
   {
    "duration": 189,
    "start_time": "2023-04-05T18:42:13.184Z"
   },
   {
    "duration": 25346,
    "start_time": "2023-04-05T18:42:13.375Z"
   },
   {
    "duration": 29,
    "start_time": "2023-04-05T18:42:38.723Z"
   },
   {
    "duration": 226,
    "start_time": "2023-04-05T18:42:38.754Z"
   },
   {
    "duration": 16880,
    "start_time": "2023-04-05T18:42:38.981Z"
   },
   {
    "duration": 25,
    "start_time": "2023-04-05T18:42:55.862Z"
   },
   {
    "duration": 316,
    "start_time": "2023-04-05T18:42:55.889Z"
   },
   {
    "duration": 52,
    "start_time": "2023-04-05T18:42:56.207Z"
   },
   {
    "duration": 222,
    "start_time": "2023-04-05T18:42:56.272Z"
   },
   {
    "duration": 1224,
    "start_time": "2023-04-05T18:47:16.213Z"
   },
   {
    "duration": 68,
    "start_time": "2023-04-05T18:47:17.439Z"
   },
   {
    "duration": 18,
    "start_time": "2023-04-05T18:47:17.508Z"
   },
   {
    "duration": 2,
    "start_time": "2023-04-05T18:47:17.528Z"
   },
   {
    "duration": 52,
    "start_time": "2023-04-05T18:47:17.532Z"
   },
   {
    "duration": 14,
    "start_time": "2023-04-05T18:47:17.586Z"
   },
   {
    "duration": 12,
    "start_time": "2023-04-05T18:47:17.602Z"
   },
   {
    "duration": 3,
    "start_time": "2023-04-05T18:47:17.616Z"
   },
   {
    "duration": 14,
    "start_time": "2023-04-05T18:47:17.620Z"
   },
   {
    "duration": 6,
    "start_time": "2023-04-05T18:47:17.637Z"
   },
   {
    "duration": 59,
    "start_time": "2023-04-05T18:47:17.645Z"
   },
   {
    "duration": 3,
    "start_time": "2023-04-05T18:47:17.706Z"
   },
   {
    "duration": 5,
    "start_time": "2023-04-05T18:47:17.710Z"
   },
   {
    "duration": 264,
    "start_time": "2023-04-05T18:47:17.717Z"
   },
   {
    "duration": 19403,
    "start_time": "2023-04-05T18:47:17.983Z"
   },
   {
    "duration": 24,
    "start_time": "2023-04-05T18:47:37.387Z"
   },
   {
    "duration": 5,
    "start_time": "2023-04-05T18:47:37.412Z"
   },
   {
    "duration": 15,
    "start_time": "2023-04-05T18:47:37.419Z"
   },
   {
    "duration": 48,
    "start_time": "2023-04-05T18:47:37.435Z"
   },
   {
    "duration": 26299,
    "start_time": "2023-04-05T18:47:37.484Z"
   },
   {
    "duration": 22,
    "start_time": "2023-04-05T18:48:03.785Z"
   },
   {
    "duration": 85,
    "start_time": "2023-04-05T18:48:03.808Z"
   },
   {
    "duration": 18286,
    "start_time": "2023-04-05T18:48:03.975Z"
   },
   {
    "duration": 24,
    "start_time": "2023-04-05T18:48:22.262Z"
   },
   {
    "duration": 285,
    "start_time": "2023-04-05T18:48:22.287Z"
   },
   {
    "duration": 43,
    "start_time": "2023-04-05T18:48:22.573Z"
   },
   {
    "duration": 184,
    "start_time": "2023-04-05T18:48:22.618Z"
   },
   {
    "duration": 1800,
    "start_time": "2023-04-06T12:50:09.596Z"
   },
   {
    "duration": 211,
    "start_time": "2023-04-06T12:50:11.398Z"
   },
   {
    "duration": 19,
    "start_time": "2023-04-06T12:50:11.611Z"
   },
   {
    "duration": 2,
    "start_time": "2023-04-06T12:50:11.633Z"
   },
   {
    "duration": 37,
    "start_time": "2023-04-06T12:50:11.637Z"
   },
   {
    "duration": 17,
    "start_time": "2023-04-06T12:50:11.676Z"
   },
   {
    "duration": 41,
    "start_time": "2023-04-06T12:50:11.695Z"
   },
   {
    "duration": 4,
    "start_time": "2023-04-06T12:50:11.738Z"
   },
   {
    "duration": 14,
    "start_time": "2023-04-06T12:50:11.743Z"
   },
   {
    "duration": 5,
    "start_time": "2023-04-06T12:50:11.760Z"
   },
   {
    "duration": 78,
    "start_time": "2023-04-06T12:50:11.767Z"
   },
   {
    "duration": 4,
    "start_time": "2023-04-06T12:50:11.847Z"
   },
   {
    "duration": 14,
    "start_time": "2023-04-06T12:50:11.853Z"
   },
   {
    "duration": 272,
    "start_time": "2023-04-06T12:50:11.869Z"
   },
   {
    "duration": 18816,
    "start_time": "2023-04-06T12:50:12.144Z"
   },
   {
    "duration": 26,
    "start_time": "2023-04-06T12:50:30.962Z"
   },
   {
    "duration": 46,
    "start_time": "2023-04-06T12:50:30.990Z"
   },
   {
    "duration": 81,
    "start_time": "2023-04-06T12:50:31.040Z"
   },
   {
    "duration": 117,
    "start_time": "2023-04-06T12:50:31.123Z"
   },
   {
    "duration": 26489,
    "start_time": "2023-04-06T12:50:31.242Z"
   },
   {
    "duration": 35,
    "start_time": "2023-04-06T12:50:57.732Z"
   },
   {
    "duration": 69,
    "start_time": "2023-04-06T12:50:57.769Z"
   },
   {
    "duration": 19264,
    "start_time": "2023-04-06T12:50:57.841Z"
   },
   {
    "duration": 42,
    "start_time": "2023-04-06T12:51:17.107Z"
   },
   {
    "duration": 515,
    "start_time": "2023-04-06T12:51:17.151Z"
   },
   {
    "duration": 65,
    "start_time": "2023-04-06T12:51:17.668Z"
   },
   {
    "duration": 170,
    "start_time": "2023-04-06T12:51:17.736Z"
   },
   {
    "duration": 443,
    "start_time": "2023-04-06T12:51:17.910Z"
   },
   {
    "duration": 4704,
    "start_time": "2023-04-06T12:57:00.617Z"
   },
   {
    "duration": 7802,
    "start_time": "2023-04-06T12:58:07.326Z"
   },
   {
    "duration": 7569,
    "start_time": "2023-04-06T13:01:07.657Z"
   },
   {
    "duration": 8205,
    "start_time": "2023-04-06T13:03:03.125Z"
   }
  ],
  "kernelspec": {
   "display_name": "Python 3 (ipykernel)",
   "language": "python",
   "name": "python3"
  },
  "language_info": {
   "codemirror_mode": {
    "name": "ipython",
    "version": 3
   },
   "file_extension": ".py",
   "mimetype": "text/x-python",
   "name": "python",
   "nbconvert_exporter": "python",
   "pygments_lexer": "ipython3",
   "version": "3.9.16"
  },
  "toc": {
   "base_numbering": 1,
   "nav_menu": {},
   "number_sections": true,
   "sideBar": true,
   "skip_h1_title": true,
   "title_cell": "Содержание",
   "title_sidebar": "Contents",
   "toc_cell": true,
   "toc_position": {
    "height": "calc(100% - 180px)",
    "left": "10px",
    "top": "150px",
    "width": "285.4px"
   },
   "toc_section_display": true,
   "toc_window_display": true
  }
 },
 "nbformat": 4,
 "nbformat_minor": 2
}
